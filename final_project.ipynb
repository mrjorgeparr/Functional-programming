{
 "cells": [
  {
   "cell_type": "markdown",
   "id": "f3ea0cf1",
   "metadata": {},
   "source": [
    "# FINAL PROJECT: FUNCTIONAL PROGRAMMING\n",
    "\n",
    "Jorge Parreño Hernández - 100429982\n",
    "\n",
    "Carlos Suárez Pardo - 100429792\n"
   ]
  },
  {
   "cell_type": "markdown",
   "id": "af808e82",
   "metadata": {},
   "source": [
    "####  Functionalities not covered\n",
    "\n",
    "In exercise 11, we do not check for duplicate descriptors when event is read.\n",
    "\n",
    "We do not extend the possibility of repeated events to exercises 9 and 10. After coming very close to not implementing those at all due to difficulties, we did it on exercise 8 but came to the conclusion that (1) their inclusion is not specified in 9 and 10 as it is in 8 and (2) events with a particular frequency ultimately mean several events, which did not make too much sense for the purpose of tasks 9 and 10"
   ]
  },
  {
   "cell_type": "markdown",
   "id": "d9cadb67",
   "metadata": {},
   "source": [
    "### Project summary\n",
    "\n",
    "The following project consists in a series of function for handling event scheduling in a series of agendas by developing a series of data-types and functions to model that satisfy the requirements with those being.\n",
    "\n",
    " Each agenda has an owner, defined as a string, and a list of events included. For each Event we have a list of descriptors, that can be in any order, and some of them may or may not appear, with the different types being:\n",
    "\n",
    "\n",
    "1. Name: a string describing the event.\n",
    "2. Category: four possible types, { $personal$, $health$, $work$, $management$}\n",
    "3. Date: defined with fields Day($Int$), month($String$), year($Int$), workday($Bool$).\n",
    "4. Initial: initial hour of the event.\n",
    "5. Final: final hour of the event.\n",
    "6. Duration: length in minutes of event.\n",
    "7. Persons: list of persons involved with the owner of the corresponding agenda always being first.\n",
    "8. Place: location of the event.\n",
    "9. Frequency: the number of times an event is included, it may be either $punctual$, $weekday$ or $weekly$. If it is not punctual the date parameter indicates the first occurrence of the event.\n",
    "10. Preferences: stores the time, place and person preferences for the event in question. Earliest time, latest time, location so that it is scheduled when there is another event in that same location and person, to be scheduled before and after an event involving that same person.\n",
    "\n",
    "\n",
    "As stated before throughout the completion of the 11 tasks, we implemented types to model the requirements specified above."
   ]
  },
  {
   "cell_type": "code",
   "execution_count": 1,
   "id": "64d6dc97",
   "metadata": {},
   "outputs": [],
   "source": [
    "-- 1: type definition for each type\n",
    "\n",
    "-- name type\n",
    "type Name = String \n",
    "\n",
    "-- category type\n",
    "data Category = Personal | Health | Work | Management deriving Eq\n",
    "\n",
    "-- date type\n",
    "data Date = Date {day::Int, month::Int, year::Int, workday::Bool} deriving Eq\n",
    "\n",
    "--time type, to use for initial and final hour types, as well as inside preference type\n",
    "data Time = Time {hour::Int, minutes::Int} deriving Eq\n",
    "\n",
    "-- initial type\n",
    "type Initial = Time\n",
    "\n",
    "-- final type\n",
    "type Final = Time\n",
    "\n",
    "-- duration type\n",
    "type Duration = Int\n",
    "\n",
    "-- person type\n",
    "newtype Persons = Persons [String]\n",
    "\n",
    "-- place type \n",
    "type Place = String\n",
    "\n",
    "-- frequency type, can only be one of 4, for the last 3 we have a frequency along with a starting date and a\n",
    "-- number of repetitions, so we have different data sub-types and constructors\n",
    "data Recurring = Daily | Weekday | Weekly deriving Eq\n",
    "data Frequency = Punctual | NP {frequency::Recurring, date::Date, repetitions::Int} deriving Eq\n",
    "\n",
    "-- preferences type\n",
    "-- earliest starting time, latest ending time, \n",
    "-- same place (preference for the event to be scheduled where there's already one scheduled),\n",
    "-- same person (preference for the event to be scheduled close to an already scheduled one that involves the person)\n",
    "data Preferences = Preferences {earliest::Time, latest::Time, place::Place, person::String} deriving Eq\n",
    "\n",
    "-- creating a proper Eq for lists of persons, this will be important for several parts later\n",
    "instance Eq Persons where\n",
    "    Persons p1 == Persons p2 = (p1 == p2) && (length p1 == length p2)"
   ]
  },
  {
   "cell_type": "markdown",
   "id": "d62b9bba",
   "metadata": {},
   "source": [
    "### Exercise 1\n",
    "\n",
    "In this section we are tasked with performing exhaustive type definitions to cover the requirements detailed above. To do so we defined the following types:\n",
    "\n",
    "1. $Name$ as string\n",
    "2. $Category$ as one of the four permitted values\n",
    "3. $Date$ with a constructor with the 4 fields specified\n",
    "4. $Time$ with fields for hour and minute\n",
    "5. type $Initial$ which we defined as an instance of $Time$\n",
    "6. type $Final$ which we also define as an instance of $Time$\n",
    "7. type $Duration$ simply an integer\n",
    "8. newtype $Persons$ as a list of strings\n",
    "9. $Recurring$ which takes 3 values corresponding to the possible types or recurrent events, i.e, Daily, weekday and weekly\n",
    "10. $Frequency$ which is either punctual or NP (non-punctual) with this second option having a constructor that has three fields, frequency of type $Recurring$ a date, and a number of repetitions.\n",
    "11. $Preferences$ with a 4-field constructor, accepting the earliest time, which is obviously an instance of $Time$, latest time and person preferences as specified by the statement.\n",
    "12. $Descriptor$ which can be one of all the previously specified types\n",
    "13.  $Event$ which is a list of descriptors.\n",
    "14.  $Agenda$ which has two fields in the constructor, owner, which is of type $Name$ and events which is a list composed of instances of type $Event$.\n",
    "\n",
    "With all these types we cover all the possibilities that the statement encompasses in the simplest way."
   ]
  },
  {
   "cell_type": "markdown",
   "id": "57e07c0c",
   "metadata": {},
   "source": [
    "### Exercise 2\n",
    "\n",
    "The goal of this exercise is to develop a method to print-out an event in a visually pleasant manner following the specified order of descriptors, to achieve it the first thing we did was creating a show instance for the $Descriptor$ type, covering each of the possible types that the descriptor can take, then two print we define the following method to print.\n",
    "\n",
    "Also, we create methods to check and return a descriptor is present $getXif$, to reorder them in the appropriate fashion."
   ]
  },
  {
   "cell_type": "code",
   "execution_count": 2,
   "id": "c2baa7b9",
   "metadata": {},
   "outputs": [],
   "source": [
    "-- Part 2: function to print event in a neat manner\n",
    "\n",
    "-- 2.1\n",
    "-- We must make sure each individual data type is printed neatly\n",
    "-- We will define an instance Show {data type} for every single data type to achieve it\n",
    "\n",
    "instance Show Category where\n",
    "    show Personal = \"Category: Personal\"\n",
    "    show Health = \"Category: Health\"\n",
    "    show Work = \"Category: Work\"\n",
    "    show Management = \"Category: Management\"\n",
    "\n",
    "-- itiswkd function turns the Bool value into what we want to print (a string indicating either workday or not a workday)\n",
    "isitwkd::Bool->String\n",
    "isitwkd True = \"workday\"\n",
    "isitwkd False = \"not a workday\"\n",
    "\n",
    "instance Show Date where\n",
    "    show (Date d m y w) = \"Date: \" ++ show d ++ \"-\" ++ show m ++ \"-\" ++ show y ++ \", \" ++ isitwkd w\n",
    "\n",
    "-- twopositions function helps put numbers in a proper hh:mm format\n",
    "twopositions::Int->String\n",
    "twopositions a\n",
    "    | a<10 = \"0\" ++ show a\n",
    "    | otherwise = show a\n",
    "instance Show Time where \n",
    "    show (Time h m) = twopositions h ++ \":\" ++twopositions m\n",
    "\n",
    "instance Show Recurring where\n",
    "    show Daily = \"Frequency: Daily\"\n",
    "    show Weekday = \"Frequency: Weekday\"\n",
    "    show Weekly = \"Frequency: Weekly\"\n",
    "-- reimplementation of Show Recurring inside of Show Frequency\n",
    "instance Show Frequency where \n",
    "    show Punctual = \"Frequency: Punctual\"\n",
    "    show (NP a b c) = show a ++ \"; First \" ++ show b ++ \"; number of repetitions: \" ++ show c\n",
    "    \n",
    "instance Show Preferences where\n",
    "    show (Preferences e l pl pr) = \"Preferences: Earliest Time: \" ++ show e ++ \", Latest Time: \" ++ show l ++ \", Place: \" ++ pl ++ \", Person: \" ++ pr"
   ]
  },
  {
   "cell_type": "code",
   "execution_count": 3,
   "id": "592bd4b5",
   "metadata": {},
   "outputs": [],
   "source": [
    "-- 2.2: type definition for Descriptor 'super-type', Event and Agenda\n",
    "data Descriptor = DName Name | DCategory Category | DDate Date | DInitial Initial | DFinal Final | DDuration Duration | DPersons Persons | DPlace Place | DFrequency Frequency | DPreferences Preferences deriving Eq\n",
    "\n",
    "-- we need to implement a function to print a list neatly for DPersons\n",
    "printlist:: [String]-> String\n",
    "printlist [a] = a\n",
    "printlist (x:xs) = x ++ \", \" ++ printlist xs\n",
    "printlist [] = \"\"\n",
    "\n",
    "instance Show Persons where\n",
    "    show (Persons a) = printlist a\n",
    "    \n",
    "instance Show Descriptor where\n",
    "    show (DName a) = \"Name: \" ++ a\n",
    "    show (DCategory a) = show a \n",
    "    show (DDate a) = show a\n",
    "    show (DInitial a) = \"Initial Time: \" ++ show a\n",
    "    show (DFinal a) = \"Final Time: \" ++ show a\n",
    "    show (DDuration a) = \"Duration: \" ++ show a ++ \" minutes\"\n",
    "    show (DPersons a) = \"Attendants: \" ++ show a\n",
    "    show (DPlace a) = \"Place: \" ++ a \n",
    "    show (DFrequency a) = show a\n",
    "    show (DPreferences a) = show a\n",
    "    \n",
    "type Event = [Descriptor]\n",
    "data Agenda = Agenda {owner::Name, events::[Event]}"
   ]
  },
  {
   "cell_type": "code",
   "execution_count": 4,
   "id": "46c26a87",
   "metadata": {},
   "outputs": [
    {
     "data": {
      "text/plain": [
       "Category: Personal"
      ]
     },
     "metadata": {},
     "output_type": "display_data"
    },
    {
     "data": {
      "text/plain": [
       "Date: 12-1-2020, workday"
      ]
     },
     "metadata": {},
     "output_type": "display_data"
    },
    {
     "data": {
      "text/plain": [
       "18:00"
      ]
     },
     "metadata": {},
     "output_type": "display_data"
    },
    {
     "data": {
      "text/plain": [
       "Frequency: Punctual"
      ]
     },
     "metadata": {},
     "output_type": "display_data"
    },
    {
     "data": {
      "text/plain": [
       "Name: Study"
      ]
     },
     "metadata": {},
     "output_type": "display_data"
    },
    {
     "data": {
      "text/plain": [
       "Frequency: Daily; First Date: 12-1-2020, workday; number of repetitions: 7"
      ]
     },
     "metadata": {},
     "output_type": "display_data"
    },
    {
     "data": {
      "text/plain": [
       "Preferences: Earliest Time: 18:00, Latest Time: 19:00, Place: Madrid, Person: Jorge"
      ]
     },
     "metadata": {},
     "output_type": "display_data"
    }
   ],
   "source": [
    "-- Part 2: function to print event in a neat manner\n",
    "\n",
    "-- 23\n",
    "-- We test printing descriptor by descriptor\n",
    "\n",
    "print Personal\n",
    "print(Date 12 1 2020 True)\n",
    "print(Time 18 0)\n",
    "print Punctual\n",
    "print(DName \"Study\")\n",
    "print(NP Daily (Date 12 1 2020 True) 7)\n",
    "print(Preferences (Time 18 0) (Time 19 0) \"Madrid\" \"Jorge\")"
   ]
  },
  {
   "cell_type": "code",
   "execution_count": 5,
   "id": "084ef835",
   "metadata": {
    "vscode": {
     "languageId": "plaintext"
    }
   },
   "outputs": [],
   "source": [
    "-- plethora of auxiliary functions to check whether inside an event a descriptor exists, to get that descriptor\n",
    "-- will be used extensively throughtout the completion of the project\n",
    "\n",
    "\n",
    "-- to check that a descriptor is of some type\n",
    "isPersons::Descriptor->Bool\n",
    "isPersons (DPersons _) = True\n",
    "isPersons _ = False\n",
    "\n",
    "isFinal::Descriptor->Bool\n",
    "isFinal (DFinal _) = True\n",
    "isFinal _ = False\n",
    "\n",
    "isPlace::Descriptor->Bool\n",
    "isPlace (DPlace _) = True\n",
    "isPlace _ = False\n",
    "\n",
    "isDuration::Descriptor->Bool\n",
    "isDuration (DDuration _) = True\n",
    "isDuration _ = False\n",
    "\n",
    "isPreferences::Descriptor->Bool\n",
    "isPreferences (DPreferences _) = True\n",
    "isPreferences _ = False\n",
    "\n",
    "isDate::Descriptor->Bool\n",
    "isDate (DDate _) = True\n",
    "isDate _ = False\n",
    "\n",
    "isInitial::Descriptor->Bool\n",
    "isInitial (DInitial _) = True\n",
    "isInitial _ = False\n",
    "\n",
    "isName::Descriptor->Bool\n",
    "isName (DName _) = True\n",
    "isName _ = False\n",
    "\n",
    "isFrequency::Descriptor->Bool\n",
    "isFrequency (DFrequency NP {}) = True\n",
    "isFrequency _ = False\n",
    "\n",
    "isFreq::Descriptor->Bool\n",
    "isFreq (DFrequency _) = True\n",
    "isFreq _ = False\n",
    "\n",
    "isCategory::Descriptor->Bool\n",
    "isCategory (DCategory _) = True\n",
    "isCategory _ = False\n",
    "\n",
    "\n",
    "-- to check whether a descriptor is present inside an event\n",
    "isThereName::Event->Bool\n",
    "isThereName [] = False\n",
    "isThereName (x:xs)\n",
    "    | isName x = True\n",
    "    | otherwise = isThereName xs\n",
    "\n",
    "isThereCategory::Event->Bool\n",
    "isThereCategory [] = False\n",
    "isThereCategory (x:xs) \n",
    "    | isCategory x = True\n",
    "    | otherwise = isThereCategory xs\n",
    "    \n",
    "isThereDate::Event->Bool\n",
    "isThereDate [] = False\n",
    "isThereDate (x:xs)\n",
    "    | isDate x = True\n",
    "    | otherwise = isThereDate xs\n",
    "\n",
    "isThereInitial::Event->Bool\n",
    "isThereInitial [] = False\n",
    "isThereInitial (x:xs)\n",
    "    | isInitial x = True\n",
    "    | otherwise = isThereInitial xs\n",
    "\n",
    "isThereFinal::Event->Bool\n",
    "isThereFinal [] = False\n",
    "isThereFinal (x:xs)\n",
    "    | isFinal x = True\n",
    "    | otherwise = isThereFinal xs\n",
    "\n",
    "\n",
    "isTherePreferences::Event->Bool\n",
    "isTherePreferences [] = False\n",
    "isTherePreferences (x:xs)\n",
    "    | isPreferences x = True\n",
    "    | otherwise = isTherePreferences xs\n",
    "\n",
    "isTherePlace::Event->Bool\n",
    "isTherePlace [] = False\n",
    "isTherePlace (x:xs)\n",
    "    | isPlace x = True\n",
    "    | otherwise = isTherePlace xs\n",
    "\n",
    "isTherePersons::Event->Bool\n",
    "isTherePersons [] = False\n",
    "isTherePersons (x:xs)\n",
    "    | isPersons x = True\n",
    "    | otherwise = isTherePersons xs\n",
    "\n",
    "isThereFrequency::Event->Bool\n",
    "isThereFrequency [] = False\n",
    "isThereFrequency (x:xs)\n",
    "    | isFrequency x = True\n",
    "    | otherwise = isThereFrequency xs\n",
    "    \n",
    "isThereDuration::Event->Bool\n",
    "isThereDuration [] = False\n",
    "isThereDuration (x:xs)\n",
    "    | isDuration x = True\n",
    "    | otherwise = isThereDuration xs\n",
    "\n",
    "-- to get the descriptor of some type inside an event\n",
    "---------- *****************************\n",
    "-- used in 8.9\n",
    "getName'::Descriptor->String\n",
    "getName' (DName x) = x\n",
    "getName' _ = \"\"\n",
    "\n",
    "getName::Event->String\n",
    "getName [] = \"\"\n",
    "getName (x:xs) \n",
    "    | isName x = getName' x\n",
    "    | otherwise = getName xs\n",
    "    \n",
    "getCategory::Event->String\n",
    "getCategory [] = \"\"\n",
    "getCategory (x:xs)\n",
    "    | isCategory x = show x\n",
    "    | otherwise = getCategory xs\n",
    "\n",
    "getDate'::Descriptor->Date\n",
    "getDate' (DDate (Date d m y w)) = Date d m y w\n",
    "getDate' _ = Date 0 0 0 False\n",
    "\n",
    "\n",
    "getDate::Event->Date\n",
    "getDate [x] = getDate' x\n",
    "getDate (x:xs) \n",
    "    | isDate x = getDate' x\n",
    "    | otherwise = getDate xs\n",
    "    \n",
    "getPlace'::Descriptor->String\n",
    "getPlace' (DPlace a) = a\n",
    "getPlace' _ = []\n",
    "\n",
    "getPlace::Event->Place\n",
    "getPlace [x] = getPlace' x\n",
    "getPlace(x:xs) \n",
    "    | isPlace x = getPlace' x\n",
    "    | otherwise = getPlace xs\n",
    "\n",
    "getPersons'::Descriptor->[String]\n",
    "getPersons' (DPersons (Persons a)) = a\n",
    "getPersons' _ = []\n",
    "\n",
    "getPersons::Event->[String]\n",
    "getPersons [x] = getPersons' x\n",
    "getPersons(x:xs) \n",
    "    | isPersons x = getPersons' x\n",
    "    | otherwise = getPersons xs\n",
    "    \n",
    "\n",
    "getFreq'::Descriptor->(Recurring,Date,Int)\n",
    "getFreq' (DFrequency (NP a b c)) = (a,b,c)\n",
    "getFreq' _ = (Daily, Date 0 0 0 True ,0)\n",
    "\n",
    "getFreq::Event->(Recurring,Date,Int)\n",
    "getFreq [x] = getFreq' x\n",
    "getFreq(x:xs) \n",
    "    | isFrequency x = getFreq' x\n",
    "    | otherwise = getFreq xs\n",
    "    \n",
    "\n",
    "getFinal'::Descriptor->Time\n",
    "getFinal' (DFinal (Time h m)) = Time h m\n",
    "getFinal' _ = Time 0 0 -- this case will not matter given the order in which we apply functions,\n",
    "-- as we first check that there is indeed a final time, but we need to define the function exhaustively\n",
    "\n",
    "getFinal::Event->Final\n",
    "getFinal [x] = getFinal' x\n",
    "getFinal (x:xs) \n",
    "    | isFinal x = getFinal' x\n",
    "    | otherwise = getFinal xs\n",
    "    \n",
    "getDuration'::Descriptor->Int\n",
    "getDuration' (DDuration a) = a\n",
    "getDuration' _ = 0 -- this case will not matter given that, as stated, we can asume the event to be scheduled will\n",
    "-- always have a duration\n",
    "\n",
    "getDuration::Event->Int\n",
    "getDuration [x] = getDuration' x\n",
    "getDuration(x:xs) \n",
    "    | isDuration x = getDuration' x\n",
    "    | otherwise = getDuration xs\n",
    "    \n",
    "    \n",
    "getInitial'::Descriptor->Time\n",
    "getInitial' (DInitial (Time h m)) = Time h m\n",
    "getInitial' _ = Time 0 0 -- this case will not matter given the order in which we apply functions,\n",
    "-- as we first check that there is indeed an initial time, but we need to define the function exhaustively\n",
    "\n",
    "getInitial::Event->Initial\n",
    "getInitial [x] = getInitial' x\n",
    "getInitial (x:xs) \n",
    "    | isInitial x = getInitial' x\n",
    "    | otherwise = getInitial xs\n",
    "\n",
    "\n",
    "getPreferences'::Descriptor->Preferences\n",
    "getPreferences' (DPreferences a) = a\n",
    "getPreferences' _ = Preferences (Time 0 0) (Time 0 0) \"\" \"\" -- this case will not matter given that, as stated, we can asume the event to be scheduled will\n",
    "-- always have a preference\n",
    "\n",
    "getPreferences::Event->Preferences\n",
    "getPreferences [x] = getPreferences' x\n",
    "getPreferences(x:xs) \n",
    "    | isPreferences x = getPreferences' x\n",
    "    | otherwise = getPreferences xs"
   ]
  },
  {
   "cell_type": "code",
   "execution_count": 6,
   "id": "5076eb5a",
   "metadata": {
    "vscode": {
     "languageId": "plaintext"
    }
   },
   "outputs": [],
   "source": [
    "--functions to check if descriptor exists and return it if so\n",
    "getNameIf::Event->[Descriptor]\n",
    "getNameIf ev\n",
    "    | isThereName ev = [DName (getName ev)]\n",
    "    | otherwise = []\n",
    "\n",
    "matchCase::String->[Descriptor]\n",
    "matchCase s \n",
    "    | s == \"Category: Personal\" = [DCategory Personal]\n",
    "    | s == \"Category: Work\" = [DCategory Work]\n",
    "    | s == \"Category: Health\" = [DCategory Health]\n",
    "    | s == \"Category: Management\" = [DCategory Management]\n",
    "    | otherwise = error \"invalid category\"\n",
    "    \n",
    "\n",
    "matchF::(Recurring,Date,Int)->Frequency\n",
    "matchF (r,d,i)\n",
    "    | i == 0 = Punctual\n",
    "    | otherwise = NP r d i\n",
    "    \n",
    "getCategoryIf::Event->[Descriptor]\n",
    "getCategoryIf ev\n",
    "    | isThereCategory ev = matchCase $ getCategory ev\n",
    "    | otherwise = []\n",
    "\n",
    "getDateIf::Event->[Descriptor]\n",
    "getDateIf ev\n",
    "    | isThereDate ev = [DDate (getDate ev)]\n",
    "    | otherwise = []\n",
    "\n",
    "getInitialIf::Event->[Descriptor]\n",
    "getInitialIf ev\n",
    "    | isThereInitial ev = [DInitial (getInitial ev) ]\n",
    "    | otherwise = []\n",
    "\n",
    "getFinalIf::Event->[Descriptor]\n",
    "getFinalIf ev\n",
    "    | isThereFinal ev = [DFinal (getFinal ev)]\n",
    "    | otherwise = []\n",
    "\n",
    "getDurationIf::Event->[Descriptor]\n",
    "getDurationIf ev\n",
    "    | isThereDuration ev = [DDuration (getDuration ev)]\n",
    "    | otherwise = []   \n",
    "\n",
    "getPersonsIf::Event->[Descriptor]\n",
    "getPersonsIf ev\n",
    "    | isTherePersons ev = [DPersons (Persons (getPersons ev))]\n",
    "    | otherwise = []\n",
    "\n",
    "getPlaceIf::Event->[Descriptor]\n",
    "getPlaceIf ev\n",
    "    | isTherePlace ev = [DPlace(getPlace ev)]\n",
    "    | otherwise = []\n",
    "\n",
    "getFreqIf::Event->[Descriptor]\n",
    "getFreqIf ev\n",
    "    | isThereFrequency ev = [DFrequency $ matchF $ getFreq ev]\n",
    "    | otherwise = []\n",
    "\n",
    "getPrefIf::Event->[Descriptor]\n",
    "getPrefIf ev \n",
    "    | isTherePreferences ev = [DPreferences(getPreferences ev)]\n",
    "    | otherwise = []"
   ]
  },
  {
   "cell_type": "code",
   "execution_count": 7,
   "id": "2cdf2f2d",
   "metadata": {
    "vscode": {
     "languageId": "plaintext"
    }
   },
   "outputs": [],
   "source": [
    "-- function to reorder list of descriptors to match required orde\n",
    "reorder::[Descriptor]-> [Descriptor]\n",
    "reorder l = getNameIf l ++ getCategoryIf l ++ getDateIf l ++ getInitialIf l ++ getFinalIf l ++ getDurationIf l ++ getPersonsIf l ++ getPlaceIf l ++ getFreqIf l ++ getPlaceIf l ++ getFreqIf l ++ getPrefIf l"
   ]
  },
  {
   "cell_type": "code",
   "execution_count": 8,
   "id": "09295ca2",
   "metadata": {
    "vscode": {
     "languageId": "plaintext"
    }
   },
   "outputs": [],
   "source": [
    "-- before printing we reorder the descriptor list\n",
    "\n",
    "prettyPrint'::Event->String\n",
    "prettyPrint' [x] = show x\n",
    "prettyPrint' (x:xs) = show x ++ \" - \" ++ prettyPrint' xs\n",
    "\n",
    "prettyPrint::Event->String\n",
    "prettyPrint x = prettyPrint' (reorder x)"
   ]
  },
  {
   "cell_type": "code",
   "execution_count": 9,
   "id": "12cb7895",
   "metadata": {},
   "outputs": [
    {
     "data": {
      "text/plain": [
       "\"Name: exam - Category: Personal - Date: 22-10-2020, workday - Initial Time: 18:00 - Final Time: 19:00 - Duration: 60 minutes - Attendants: Carlos, Jorge - Place: Madrid - Place: Madrid - Preferences: Earliest Time: 18:00, Latest Time: 19:00, Place: Madrid, Person: Jorge\""
      ]
     },
     "metadata": {},
     "output_type": "display_data"
    }
   ],
   "source": [
    "-- Part 2: function to print event in a neat manner\n",
    "\n",
    "-- 2.4\n",
    "-- Testing the printing functions\n",
    "\n",
    "myEvent = [ DName \"exam\", DCategory Personal, DDate (Date 22 10 2020 True), DInitial (Time 18 0), DFinal (Time 19 0), DDuration 60, DPersons(Persons [\"Carlos\", \"Jorge\"]), DPlace \"Madrid\", DFrequency Punctual, DPreferences (Preferences (Time 18 0) (Time 19 0) \"Madrid\" \"Jorge\")]\n",
    "-- getCategory dropWhilemyEvent == \"personal\"\n",
    "prettyPrint myEvent\n"
   ]
  },
  {
   "cell_type": "markdown",
   "id": "1c198ef4",
   "metadata": {},
   "source": [
    "### Exercise 3\n",
    "\n",
    "In this exercise we seek to create a function that receives a date and a list of vacations and returns whether the date in question is a holiday, weekend day or weekday, knowing that our base date, January $1^{st}$ 2022 was a saturday.\n",
    "\n",
    "The idea is to first check whether the input date is in the holiday list, for which we define an instance $Eq$ for $Date$, and if so return holiday, this is the simplest case. If it is not within the holiday list we are going to  convert the input date into a numeric scale base on the days elapsed since 01/01/0000, and from that result subtract the numeric equivalent of the base date, and our result will be given depending on the modulus."
   ]
  },
  {
   "cell_type": "code",
   "execution_count": 10,
   "id": "c8d43d07",
   "metadata": {},
   "outputs": [],
   "source": [
    "-- 3. Create a function isWorkingDate Date [Date] that receives a date and a list of holidays and returns if the day\n",
    "-- is a weekday or weekend/holiday by considering leap years and the fact that 1st Jan 2022 was a Saturday\n",
    "\n",
    "-- Idea: convert dates to number, substract and then consider moduli\n",
    "\n",
    "-- 3.1: create a new date data type for the input, since the date data type in exercise 1 requires a Boolean value\n",
    "-- for workingDay in the constructor, and that would make the exercise trivil\n",
    "--data Date' = Date' {day::Int, month::Int, year::Int}\n",
    "-- creating an instance Eq Date' so we can use `elem` later om:\n",
    "instance Eq Date where\n",
    "    Date d1 m1 y1 w1 == Date d2 m2 y2 w2 = d1==d2 && m1 == m2 && y1 == y2\n",
    "\n",
    "-- 3.2: treatment for leap years. First we ctreate functions for establishing whether a year is leap or not and,\n",
    "-- based on that, how many leap years we had until the one in the Date\n",
    "isleap::Int -> Bool\n",
    "isleap y = y `mod` 4 == 0 && (y `mod` 100 /= 0 || y `mod` 400 == 0)\n",
    "\n",
    "countLeap'::[Int]->Int\n",
    "countLeap' [] = 0\n",
    "countLeap' (x:xs)\n",
    "  | isleap x = 1 + countLeap' xs\n",
    "  | otherwise = countLeap' xs\n",
    "  \n",
    "countLeap::Int->Int\n",
    "countLeap x = countLeap' [0,1..x]\n",
    "\n",
    "-- 3.3: creating a list with the number of days per month in a normal year. We will need to use this. The function\n",
    "-- scanl1 makes the element on each position of the list cummulative (it adds to it all the preceding ones)\n",
    "days = [31, 28, 31, 30, 31, 30, 31, 31, 30, 31, 30, 31]\n",
    "cd = scanl1 (+) days\n",
    "\n",
    "-- 3.4: converting dates to numbers\n",
    "-- add days elapsed in current month + days elapsed in completed months that year + days in previous years\n",
    "-- and then add an extra day for each leap year that may have occured between 01/01/0000 and input date\n",
    "-- first case also accounts for the fact that the input date may be a leap year in which february may have passed\n",
    "-- thus we need to account for an extra day \n",
    "dateToNum::Date->Int\n",
    "dateToNum d1@(Date d m y _) \n",
    "    | isleap y && m > 2 = d + cd!!(m-1) + (y-1)*365 + countLeap(y-1) + 1\n",
    "    | otherwise = d + cd!!(m-1) + (y-1)*365 + countLeap(y-1)\n",
    "    \n",
    "-- we know January 1st 2022 was saturday\n",
    "baseDate = dateToNum (Date 1 1 2022 False)\n",
    "\n",
    "-- 3.5: actual function we are asked for. If the date is in the list of holidays (hd), it will be so. If not, we\n",
    "-- use an auxiliary function to subtract the number conversions of the input date and the reference date, then\\\n",
    "-- calculate the modulus to determine whether it is a weekend day.\n",
    "isWorkingDate::Date->[Date]-> String\n",
    "isWorkingDate d1@(Date d m y w) hd\n",
    "    | d1 `elem` hd = \"Holiday\"\n",
    "    | otherwise = isWrkd d1\n",
    "\n",
    "isWrkd::Date->String\n",
    "isWrkd d1@(Date d m y w)\n",
    "    | (abs(dateToNum d1 - baseDate) `mod` 7) `elem`[0,1] = \"Weekend Day\"\n",
    "    | otherwise = \"Weekday\""
   ]
  },
  {
   "cell_type": "code",
   "execution_count": 11,
   "id": "c9368508",
   "metadata": {},
   "outputs": [
    {
     "data": {
      "text/plain": [
       "\"Weekday\""
      ]
     },
     "metadata": {},
     "output_type": "display_data"
    },
    {
     "data": {
      "text/plain": [
       "\"Holiday\""
      ]
     },
     "metadata": {},
     "output_type": "display_data"
    },
    {
     "data": {
      "text/plain": [
       "\"Weekend Day\""
      ]
     },
     "metadata": {},
     "output_type": "display_data"
    }
   ],
   "source": [
    "-- 3.6: testing the function\n",
    "isWorkingDate (Date 7 1 2022 True) [Date 3 1 2022 False, Date 4 1 2022 False, Date 5 1 2022 False]\n",
    "isWorkingDate (Date 7 1 2022 False) [Date 3 1 2022 False, Date 4 1 2022 False, Date 5 1 2022 False, Date 7 1 2022 False]\n",
    "isWorkingDate (Date 8 1 2022 False) [Date 3 1 2022 False, Date 4 1 2022 False, Date 5 1 2022 False]"
   ]
  },
  {
   "cell_type": "markdown",
   "id": "611d954f",
   "metadata": {},
   "source": [
    "### Exercise 4\n",
    "\n",
    "In this part we must create a function that accepts an agenda and returns all the events sorted from earliest to latest, but also events that have yet to be scheduled will be shown at the end sorted lexicographically by their name.\n",
    "\n",
    "Our approach consisted on first constructing functions to determine whether a descriptor is a date, initial time, name, to determine whether there is a date inside the list of descriptors of an event, and a method to do the same for the initial time, we also define methods to return the name, initial time and date of the an input event. Lastly we define a function to check whether the event is scheduled or not, checking that both the date and the initial time exist.\n",
    "\n",
    "Once we have defined these auxiliary function to extract, and check the type of descriptors. We define $Ord$ instances for Date and time necessary to check and sort events in an Agenda. We also define an $Eq$ instances for $Date$.\n",
    "\n",
    "Then we implemented bubble sorting, based on foldr and that exploits recursion."
   ]
  },
  {
   "cell_type": "code",
   "execution_count": 12,
   "id": "adb5fd39",
   "metadata": {},
   "outputs": [],
   "source": [
    "-- 4. Create a listAgenda Agenda function that returns all the Events of an Agenda sorted from earliest to latest\n",
    "-- events which are noy yet scheduled will be shown at the end sorted by their name in alphabetical order\n",
    "\n",
    "-- Idea: filter scheduled and not scheduled events,\n",
    "-- establish an order based on whether they are scheduled or not, \n",
    "-- as well as orders inside both scheduled and not scheduled based on either name or date + initial time\n",
    "-- Finally, use a sorting function with that order as criteria\n",
    "\n",
    "-- 4.1 we need to treat differently events with and without a date + initial time\n",
    "-- auxiliary functions to check whether a descriptor is in fact a date or initial time\n",
    "isDate::Descriptor->Bool\n",
    "isDate (DDate _) = True\n",
    "isDate _ = False\n",
    "\n",
    "isInitial::Descriptor->Bool\n",
    "isInitial (DInitial _) = True\n",
    "isInitial _ = False\n",
    "\n",
    "isName::Descriptor->Bool\n",
    "isName (DName _) = True\n",
    "isName _ = False\n",
    "\n",
    "-- method to determine whether an event is scheduled or not\n",
    "isThereDate::Event->Bool\n",
    "isThereDate [] = False\n",
    "isThereDate (x:xs)\n",
    "    | isDate x = True\n",
    "    | otherwise = isThereDate xs\n",
    "\n",
    "isThereInitial::Event->Bool\n",
    "isThereInitial [] = False\n",
    "isThereInitial (x:xs)\n",
    "    | isInitial x = True\n",
    "    | otherwise = isThereInitial xs\n",
    "\n",
    "scheduled::Event->Bool\n",
    "scheduled [] = False\n",
    "scheduled xs = isThereDate xs && isThereInitial xs"
   ]
  },
  {
   "cell_type": "code",
   "execution_count": 13,
   "id": "4c303962",
   "metadata": {},
   "outputs": [],
   "source": [
    "-- 4.2 after determining whether an event is scheduled or not\n",
    "-- we need a series of functions to extract dates, times and names in order to establish comparisons\n",
    "\n",
    "getDate'::Descriptor->Date\n",
    "getDate' (DDate (Date d m y w)) = Date d m y w\n",
    "getDate' _ = Date 0 0 0 False\n",
    "\n",
    "getDate::Event->Date\n",
    "getDate [x] = getDate' x\n",
    "getDate (x:xs) \n",
    "    | isDate x = getDate' x\n",
    "    | otherwise = getDate xs\n",
    "    \n",
    "getInitial'::Descriptor->Time\n",
    "getInitial' (DInitial (Time h m)) = Time h m\n",
    "getInitial' _ = Time 0 0 -- this case will not matter given the order in which we apply functions,\n",
    "-- as we first check that there is indeed an initial time, but we need to define the function exhaustively\n",
    "\n",
    "getInitial::Event->Initial\n",
    "getInitial [x] = getInitial' x\n",
    "getInitial (x:xs) \n",
    "    | isInitial x = getInitial' x\n",
    "    | otherwise = getInitial xs\n",
    "\n",
    "-- for not scheduled events\n",
    "getName::Event->String\n",
    "getName [] = \"\"\n",
    "getName (x:xs) \n",
    "    | isName x = show x\n",
    "    | otherwise = getName xs"
   ]
  },
  {
   "cell_type": "code",
   "execution_count": 14,
   "id": "97822bd5",
   "metadata": {},
   "outputs": [],
   "source": [
    "-- 4.3 we need functions to compare dates as well as names alphabetically\n",
    "\n",
    "-- haskell automatically compares strings lexicographically, just like a dictionary\n",
    "\n",
    "-- We create Ord and Eq instances for Date and Time\n",
    "\n",
    "instance Ord Date where\n",
    "    dt1@(Date d1 m1 y1 _) >  dt2@(Date d2 m2 y2 _) = y1>y2 || (y1==y2 && m1>m2) || (y1==y2 && m1==m2 && d1>d2)\n",
    "    dt1@(Date d1 m1 y1 _) >=  dt2@(Date d2 m2 y2 _) = y1>y2 || (y1==y2 && m1>m2) || (y1==y2 && m1==m2 && d1>=d2)\n",
    "    dt1@(Date d1 m1 y1 _) <  dt2@(Date d2 m2 y2 _) = y1<y2 || (y1==y2 && m1<m2) || (y1==y2 && m1==m2 && d1<d2)\n",
    "    dt1@(Date d1 m1 y1 _) <=  dt2@(Date d2 m2 y2 _) = y1<y2 || (y1==y2 && m1<m2) || (y1==y2 && m1==m2 && d1<=d2)\n",
    "\n",
    "instance Eq Date where\n",
    "    dt1@(Date d1 m1 y1 _) == dt2@(Date d2 m2 y2 _) = d1 == d2 && m1 == m2 && y1 == y2\n",
    "    \n",
    "instance Ord Time where\n",
    "    t1@(Time h1 m1) < t2@(Time h2 m2) = h1<h2 || (h1==h2 && m1<m2)\n",
    "    t1@(Time h1 m1) > t2@(Time h2 m2) = h1>h2 || (h1==h2 && m1>m2)\n",
    "    t1@(Time h1 m1) <= t2@(Time h2 m2) = h1<h2 || (h1==h2 && m1<=m2)\n",
    "    t1@(Time h1 m1) >= t2@(Time h2 m2) = h1>h2 || (h1==h2 && m1>=m2)"
   ]
  },
  {
   "cell_type": "code",
   "execution_count": 15,
   "id": "d0318762",
   "metadata": {},
   "outputs": [],
   "source": [
    "-- 4.4 now all that's left is use the previous functions and criteria to establish a\n",
    "-- complex enough comparing function for Event and use that function as a criteria in a sorting function\n",
    "isPrevious::Event->Event->Bool\n",
    "isPrevious event1 event2 \n",
    "    | scheduled event1 && not (scheduled event2) = True\n",
    "    | not (scheduled event1) && scheduled event2 = False\n",
    "    | scheduled event1 && scheduled event2 && getDate event1 <getDate event2 = True\n",
    "    | scheduled event1 && scheduled event2 && getDate event1 >getDate event2 = False\n",
    "    | scheduled event1 && scheduled event2 && getDate event1 ==getDate event2 && getInitial event1 < getInitial event2 = True\n",
    "    | scheduled event1 && scheduled event2 && getDate event1 ==getDate event2 && getInitial event1 >= getInitial event2 = False\n",
    "    | not (scheduled event1) && not (scheduled event2) && getName event1 <getName event2 = True\n",
    "    | not (scheduled event1) && not (scheduled event2) && getName event1 >=getName event2 = False\n",
    "    | otherwise = False"
   ]
  },
  {
   "cell_type": "code",
   "execution_count": 16,
   "id": "001677d3",
   "metadata": {},
   "outputs": [],
   "source": [
    "-- 4.5 final sorting function\n",
    "listAgenda :: Agenda -> [Event]\n",
    "listAgenda (Agenda _ agenda) = foldr bubble [] agenda\n",
    "                where\n",
    "                bubble x [] = [x]\n",
    "                bubble x (y:ys) | isPrevious x y = x:y:ys\n",
    "                                | otherwise = y:bubble x ys"
   ]
  },
  {
   "cell_type": "code",
   "execution_count": 17,
   "id": "ae659dc2",
   "metadata": {},
   "outputs": [
    {
     "data": {
      "text/plain": [
       "\"Carlos agenda info:                                                                                                             Date: 24-10-2020, workday - Initial Time: 18:00 - Final Time: 19:00                                                                                                                      Date: 19-10-2020, workday - Initial Time: 18:00 - Final Time: 19:00                                                                                                                      Date: 22-10-2020, workday - Initial Time: 15:00 - Final Time: 16:00                                                                                                                      Date: 22-10-2020, workday - Initial Time: 18:00 - Final Time: 19:00                                                                                                                      Name: Carlos - Initial Time: 18:00 - Final Time: 19:00                                                                                                                      Name: Antonio - Date: 22-10-2020, workday                                                                                                                      Name: Jorge - Duration: 90 minutes\""
      ]
     },
     "metadata": {},
     "output_type": "display_data"
    },
    {
     "data": {
      "text/plain": [
       "\"Date: 19-10-2020, workday - Initial Time: 18:00 - Final Time: 19:00                                                                                                                      Date: 22-10-2020, workday - Initial Time: 15:00 - Final Time: 16:00                                                                                                                      Date: 22-10-2020, workday - Initial Time: 18:00 - Final Time: 19:00                                                                                                                      Date: 24-10-2020, workday - Initial Time: 18:00 - Final Time: 19:00                                                                                                                      Name: Antonio - Date: 22-10-2020, workday                                                                                                                      Name: Carlos - Initial Time: 18:00 - Final Time: 19:00                                                                                                                      Name: Jorge - Duration: 90 minutes\""
      ]
     },
     "metadata": {},
     "output_type": "display_data"
    }
   ],
   "source": [
    "-- 4.6: testing the function\n",
    "event1 = [DDate (Date 24 10 2020 True), DInitial (Time 18 0), DFinal (Time 19 0)]\n",
    "event2 = [DDate (Date 19 10 2020 True), DInitial (Time 18 0), DFinal (Time 19 0)]\n",
    "event3 = [DDate (Date 22 10 2020 True), DInitial (Time 15 0), DFinal (Time 16 0)]\n",
    "event4 = [DDate (Date 22 10 2020 True), DInitial (Time 18 0), DFinal (Time 19 0)]\n",
    "event5 = [DName \"Carlos\", DInitial (Time 18 0), DFinal (Time 19 0)]\n",
    "event6 = [DName \"Antonio\", DDate (Date 22 10 2020 True)]\n",
    "event7 = [DName \"Jorge\", DDuration 90]\n",
    "\n",
    "myAgenda = Agenda \"Carlos\" [event1, event2, event3, event4, event5, event6, event7]\n",
    "\n",
    "-- functions to print lists of events and agendas (will be useful from now on testing several parts of the project)\n",
    "printEvents::[Event]->String\n",
    "printEvents [] = \"\"\n",
    "printEvents [x] = prettyPrint x\n",
    "printEvents (x:xs) = prettyPrint x ++ \"                                                                                                                      \" ++ printEvents xs   \n",
    "printAgenda::Agenda->String\n",
    "printAgenda (Agenda name events) = name ++ \" agenda info:                                                                                                             \" ++ printEvents events\n",
    "\n",
    "printAgenda myAgenda\n",
    "printEvents (listAgenda myAgenda)"
   ]
  },
  {
   "cell_type": "markdown",
   "id": "195ca68a",
   "metadata": {},
   "source": [
    "### Exercise 5\n",
    "\n",
    "In this section we create a event insertion function that returns the input agenda with the input event included. The idea in this section is to first insert the input event at the end of the list of the agenda, and then sort it, returning the agenda with the list of the events sorted, using the method defined in the previous exercise.\n"
   ]
  },
  {
   "cell_type": "code",
   "execution_count": 18,
   "id": "99d75611",
   "metadata": {},
   "outputs": [],
   "source": [
    "-- 5 Create an insert Event Agenda function that returns the Agenda with the Event included\n",
    "\n",
    "-- Idea: insert the Event at the end of the Agenda and then sort the agenda\n",
    "-- That way (1) we reimplement one of the designed methods and (2) we keep the agenda in order\n",
    "\n",
    "insert::Event->Agenda->Agenda\n",
    "insert e (Agenda name events) = Agenda name $ listAgenda $ Agenda name $ events ++ [e]"
   ]
  },
  {
   "cell_type": "code",
   "execution_count": 19,
   "id": "a0a438d1",
   "metadata": {},
   "outputs": [
    {
     "data": {
      "text/plain": [
       "\"Carlos agenda info:                                                                                                             Date: 22-10-2020, workday - Initial Time: 15:00 - Final Time: 16:00                                                                                                                      Date: 22-10-2020, workday - Initial Time: 18:00 - Final Time: 19:00\""
      ]
     },
     "metadata": {},
     "output_type": "display_data"
    },
    {
     "data": {
      "text/plain": [
       "\"Carlos agenda info:                                                                                                             Date: 19-10-2020, workday - Initial Time: 18:00 - Final Time: 19:00                                                                                                                      Date: 22-10-2020, workday - Initial Time: 15:00 - Final Time: 16:00                                                                                                                      Date: 22-10-2020, workday - Initial Time: 18:00 - Final Time: 19:00\""
      ]
     },
     "metadata": {},
     "output_type": "display_data"
    },
    {
     "data": {
      "text/plain": [
       "\"Carlos agenda info:                                                                                                             Date: 19-10-2020, workday - Initial Time: 18:00 - Final Time: 19:00                                                                                                                      Date: 22-10-2020, workday - Initial Time: 15:00 - Final Time: 16:00                                                                                                                      Date: 22-10-2020, workday - Initial Time: 18:00 - Final Time: 19:00                                                                                                                      Date: 24-10-2020, workday - Initial Time: 18:00 - Final Time: 19:00\""
      ]
     },
     "metadata": {},
     "output_type": "display_data"
    }
   ],
   "source": [
    "-- 5.1: testing the function\n",
    "agenda = Agenda \"Carlos\" [event3, event4]\n",
    "newAgenda1 = insert event2 agenda\n",
    "newAgenda2 = insert event1 newAgenda1\n",
    "printAgenda agenda\n",
    "printAgenda newAgenda1\n",
    "printAgenda newAgenda2"
   ]
  },
  {
   "cell_type": "markdown",
   "id": "c3218a43",
   "metadata": {},
   "source": [
    "### Exercise 6\n",
    "\n",
    "This exercise consisted in creating a function to search events that match a list of descriptors within an input agenda.\n",
    "\n",
    "First a function to check whether a descriptor is contained in an event $containsOneDesc$, then we define another function to check whether an event contains all descriptors $containsAllDesc$ in the input list, using the previously defined function for one descriptor. \n",
    "\n",
    "Once we have this two functions we just use list comprehension to iterate through list and fetch the events that match the descriptors."
   ]
  },
  {
   "cell_type": "code",
   "execution_count": 20,
   "id": "2fa3deb5",
   "metadata": {},
   "outputs": [],
   "source": [
    "-- 6 Create a searchEvents [Descriptor] Agenda function that returns all the events of the Agenda with \n",
    "-- such list of Descriptors\n",
    "\n",
    "-- Idea: for each Event in the Agenda: if all the descriptors in the input list are included in the event,\n",
    "-- return it\n",
    "\n",
    "containsOneDesc::Descriptor->Event->Bool\n",
    "containsOneDesc desc event\n",
    "    | desc `elem` event = True\n",
    "    | otherwise = False\n",
    "containsAllDesc::[Descriptor]->Event->Bool\n",
    "containsAllDesc [x] event = containsOneDesc x event \n",
    "containsAllDesc (x:xs) event = containsOneDesc x event && containsAllDesc xs event\n",
    "\n",
    "-- Implementing the function\n",
    "searchEvents::[Descriptor]->Agenda->Agenda\n",
    "searchEvents xs (Agenda n agenda) = Agenda n [a | a<-agenda, containsAllDesc xs a]"
   ]
  },
  {
   "cell_type": "code",
   "execution_count": 21,
   "id": "fb141760",
   "metadata": {},
   "outputs": [
    {
     "data": {
      "text/plain": [
       "\"Carlos agenda info:                                                                                                             Category: Management - Date: 22-10-2020, workday - Duration: 60 minutes - Place: Barcelona - Place: Barcelona\""
      ]
     },
     "metadata": {},
     "output_type": "display_data"
    }
   ],
   "source": [
    "-- 6.1 testing the function\n",
    "event5 = [DCategory Personal, DDate (Date 18 10 2020 True), DDuration 60, DPlace \"Madrid\"]\n",
    "event6 = [DCategory Management, DDate (Date 22 10 2020 True), DDuration 60, DPlace \"Barcelona\"]\n",
    "event7 = [DCategory Personal, DDate (Date 22 10 2020 True), DPlace \"Santiago\", DFrequency Punctual]\n",
    "event8 = [DCategory Management, DDate (Date 22 10 2020 True), DDuration 80, DFrequency Punctual]\n",
    "agenda2 = Agenda \"Carlos\" [event5,event6,event7,event8]\n",
    "descriptors = [DDate (Date 22 10 2020 True), DDuration 60]\n",
    "printAgenda (searchEvents descriptors agenda2)"
   ]
  },
  {
   "cell_type": "markdown",
   "id": "e6f542e8",
   "metadata": {},
   "source": [
    "### Exercise 7\n",
    "\n",
    "In this section we want to delete events that have some of the input descriptors from the input agenda, reusing the $containsAllDesc$ function we do the deletion with a list comprehension based approach."
   ]
  },
  {
   "cell_type": "code",
   "execution_count": 22,
   "id": "692e87aa",
   "metadata": {},
   "outputs": [],
   "source": [
    "-- 7 Create a deleteEvents [Descriptor] Agenda function that returns an Agenda where the events having those \n",
    "-- descriptors are removed\n",
    "\n",
    "-- Idea: parallel to the logic in (6)\n",
    "-- -- 'if the events has those descriptors they are removed' = 'if the events don't have all of those \n",
    "-- descriptors they are kept (returned)'\n",
    "\n",
    "-- Implementing the function\n",
    "deleteEvents::[Descriptor]->Agenda->Agenda\n",
    "deleteEvents xs (Agenda n agenda) = Agenda n [a | a<-agenda, not (containsAllDesc xs a)]"
   ]
  },
  {
   "cell_type": "code",
   "execution_count": 23,
   "id": "8f9208bb",
   "metadata": {},
   "outputs": [
    {
     "data": {
      "text/plain": [
       "\"Carlos agenda info:                                                                                                             Category: Personal - Date: 18-10-2020, workday - Duration: 60 minutes - Place: Madrid - Place: Madrid                                                                                                                      Category: Personal - Date: 22-10-2020, workday - Place: Santiago - Place: Santiago                                                                                                                      Category: Management - Date: 22-10-2020, workday - Duration: 80 minutes\""
      ]
     },
     "metadata": {},
     "output_type": "display_data"
    }
   ],
   "source": [
    "-- 7.1 testing the function\n",
    "descriptors2 = [DDate (Date 22 10 2020 True), DDuration 60]\n",
    "printAgenda (deleteEvents descriptors2 agenda2)"
   ]
  },
  {
   "cell_type": "markdown",
   "id": "e24e20c2",
   "metadata": {},
   "source": [
    "### Exercise 8\n",
    "\n",
    "In this exercise we are tasked with developing a function $scheduleEvent$ $Event$ $Agenda$ $StartDate$ $EndDate$, in which we have to schedule an event in the agenda according to preferences.\n",
    "\n",
    "We proceed under the assumptions that the input agenda is always sorted and that the input date will always have the duration, either explicitly or we can compute it by subtracting the final and initial times.\n",
    "\n",
    "The different cases we consider are the following ones:\n",
    "\n",
    "+  Start date $>$ final date: we raise an error.\n",
    "+  Duration is directly specify, we use it as criteria to find slots.\n",
    "+  Duration not specified: we use the time difference between initial and final times as criteria.\n",
    "+  No preferences specified: we will insert the event in the first slot available of the        appropriate length.\n",
    "+ Only one preference: call method to return slots that satisfy that preference, if no slots are returned, we treat it as the previous case.\n",
    "+ Several preferences: we look for the intersection of the results of individual functions tat look for the slots satisfying each individual preferences. If there are none we treat it as the previous case.\n",
    "+ if the function does not return any slots for the event, then we return the original agenda, as the event cannot be scheduled.\n",
    "\n",
    "\n",
    "The first thing we do is define auxiliary functions to determine the duration of the event. We already have isInitial and getInitial functions defined in exercise 4 to check if a descriptor is the initial time and return the initial time. We now define isFinal, getFinal, isDuration, getDuration, isThereDuration that returns True if the duration is directly specified in the list of descriptors of an event and False otherwise and findDuration to compute event length if it is not explicitly given.\n",
    "\n",
    "We then define a slot data type, with fields initial, final, date, persons and place, also we define functions to generate equally spaced slots within a day, and for each event we check whether it is included within that time frame and remove the corresponding slots from the slot list. \n",
    "\n",
    "We define a decision tree to check and schedule, depending on whether the event has preferences, which preferences, how they are defined (explicit duration given, or need to compute it), with functions to extract and check data from the input event.\n"
   ]
  },
  {
   "cell_type": "code",
   "execution_count": 24,
   "id": "6f1675d8",
   "metadata": {},
   "outputs": [],
   "source": [
    "-- 8 Create a scheduleEvent Event Agenda StartDate EndDate that inserts the Event in the Agenda and schedules it\n",
    "-- as earliest as possible taking into account the preferences if any. If preferences cannot be fulfilled some or all\n",
    "-- of them will be ignored iteratively. If the vent cannot be scheduled the original idea will be returned. Notice\n",
    "-- that the event can be partially or fully defined in terms of date.\n",
    "\n",
    "-- Assumptions (taken from Professors' email)\n",
    "-- 1. La Agenda estará siempre ordenada según el criterio de la función listAgenda \n",
    "-- (de hecho yo siempre ejecutaría esa función sobre cada nueva agenda)\n",
    "-- 2. La cita a insertar tendrá siempre la duración, bien directamente o bien mediante\n",
    "-- la hora de inicio y de fin. Puede incluso tener fecha, initial_time y final_tie\n",
    "\n",
    "-- LOGIC/APPROACH\n",
    "\n",
    "-- cases:\n",
    "\n",
    "-- start date is after final date: we will raise an error\n",
    "\n",
    "-- duration is specified: we will use duration as a criteria for finding slots\n",
    "\n",
    "-- duration is not specified: we will use the difference between initial and final time as criteria for finding slots\n",
    "\n",
    "-- there are no preferences: we will insert it in the first slot appropriate for the given duration\n",
    "\n",
    "-- there is one preference: we design a function to look for that preference and try to return only slots that\n",
    "-- satisfy it. If there are none, we operate as if there was no preference\n",
    "\n",
    "-- there are several preferences: we look for the intersection of the results of individual functions that\n",
    "-- look for the slots satisfying each individual preferences. If there are none, we go for the first preference\n",
    "\n",
    "-- If the particular function we need returns no slots, we return the original Agenda\n",
    "\n",
    "-- If the event is repeated with a particular frequency, we need to create a function that gives us all the \n",
    "-- events that we will actually need to cover within the start date and final date given that frequency and\n",
    "-- do all the previous for all of them"
   ]
  },
  {
   "cell_type": "code",
   "execution_count": 25,
   "id": "badc6133",
   "metadata": {},
   "outputs": [],
   "source": [
    "-- 8.1 auxiliary functions to determine the duration of the event\n",
    "\n",
    "-- we already have isInitial and getInitial\n",
    "-- we need isFinal and getFinal, isThereDuration, isDuration and getDuration\n",
    "isFinal::Descriptor->Bool\n",
    "isFinal (DFinal _) = True\n",
    "isFinal _ = False\n",
    "\n",
    "getFinal'::Descriptor->Time\n",
    "getFinal' (DFinal (Time h m)) = Time h m\n",
    "getFinal' _ = Time 0 0 -- this case will not matter given the order in which we apply functions,\n",
    "-- as we first check that there is indeed a final time, but we need to define the function exhaustively\n",
    "\n",
    "getFinal::Event->Final\n",
    "getFinal [x] = getFinal' x\n",
    "getFinal (x:xs) \n",
    "    | isFinal x = getFinal' x\n",
    "    | otherwise = getFinal xs\n",
    "\n",
    "isDuration::Descriptor->Bool\n",
    "isDuration (DDuration _) = True\n",
    "isDuration _ = False\n",
    "\n",
    "isThereDuration::Event->Bool\n",
    "isThereDuration [] = False\n",
    "isThereDuration (x:xs)\n",
    "    | isDuration x = True\n",
    "    | otherwise = isThereDuration xs\n",
    "\n",
    "getDuration'::Descriptor->Int\n",
    "getDuration' (DDuration a) = a\n",
    "getDuration' _ = 0 -- this case will not matter given that, as stated, we can asume the event to be scheduled will\n",
    "-- always have a duration\n",
    "\n",
    "getDuration::Event->Int\n",
    "getDuration [x] = getDuration' x\n",
    "getDuration(x:xs) \n",
    "    | isDuration x = getDuration' x\n",
    "    | otherwise = getDuration xs\n",
    "    \n",
    "-- when no duration, must calculate difference between final and initial times\n",
    "\n",
    "diff::Time->Time->Int\n",
    "diff (Time h1 m1) (Time h2 m2) = h1*60 + m1 - h2*60 - m2\n",
    "\n",
    "findDuration::Event->Int\n",
    "findDuration event\n",
    "    | isThereDuration event = getDuration event\n",
    "    | otherwise = diff (getFinal event) (getInitial event)"
   ]
  },
  {
   "cell_type": "code",
   "execution_count": 26,
   "id": "c5140d0e",
   "metadata": {},
   "outputs": [
    {
     "data": {
      "text/plain": [
       "[(00:00,00:40),(00:40,01:20),(01:20,02:00),(02:00,02:40),(02:40,03:20),(03:20,04:00),(04:00,04:40),(04:40,05:20),(05:20,06:00),(06:00,06:40),(06:40,07:20),(07:20,08:00),(08:00,08:40),(08:40,09:20),(09:20,10:00),(10:00,10:40),(10:40,11:20),(11:20,12:00),(12:00,12:40),(12:40,13:20),(13:20,14:00),(14:00,14:40),(14:40,15:20),(15:20,16:00),(16:00,16:40),(16:40,17:20),(17:20,18:00),(18:00,18:40),(18:40,19:20),(19:20,20:00),(20:00,20:40),(20:40,21:20),(21:20,22:00),(22:00,22:40),(22:40,23:20),(23:20,24:00)]"
      ]
     },
     "metadata": {},
     "output_type": "display_data"
    }
   ],
   "source": [
    "-- 8.2 \n",
    "-- we need a slot data type\n",
    "-- first, we will structure a standard day in slots of time for the given duration which,\n",
    "-- from 8.1, we either know or infer from initial and final time\n",
    "data Slot = Slot {initial::Time, final::Time, date::Date, persons::Persons, place::Place}\n",
    "instance Show Slot where\n",
    "    show (Slot ini fin date persons place) = show ini ++ \"-\" ++ show fin ++ \" | \" ++ show date ++ \" | Persons: \" ++ show persons ++ \" | Place: \" ++ show place ++ \"                                                                \"\n",
    "    \n",
    "getTotalSlots1::Duration->[Int]\n",
    "getTotalSlots1 d = [0,d..1440]\n",
    "\n",
    "numbertoHour::Int->Time\n",
    "numbertoHour n = Time (n `div` 60) (n - 60*(n `div` 60))\n",
    "    \n",
    "getTotalSlots2::[Int]->[Time]\n",
    "getTotalSlots2 = map numbertoHour\n",
    "\n",
    "getTotalSlots3::[Time]->[(Time,Time)]\n",
    "getTotalSlots3 slots2 = zip slots2 $ tail slots2\n",
    "\n",
    "getTotalSlots::Duration->[(Time,Time)]\n",
    "getTotalSlots d = getTotalSlots3 $ getTotalSlots2 $ getTotalSlots1 d\n",
    "-- testing\n",
    "getTotalSlots 40"
   ]
  },
  {
   "cell_type": "code",
   "execution_count": 27,
   "id": "e764eaf1",
   "metadata": {},
   "outputs": [],
   "source": [
    "-- 8.3\n",
    "-- now we have a vector of hour pairs for a standard day structured for a particular duration\n",
    "-- in order to get all the existing slots, we must make one vector of slots with all the combinations\n",
    "-- of initial and final times from these vector and dates between date1 and date2\n",
    "-- person and place will be both initialized to \"\" (empty) for all slots\n",
    "\n",
    "isWorkingBool::String->Bool\n",
    "isWorkingBool \"Weekend Day\" = False\n",
    "isWorkingBool \"Holiday\" = False\n",
    "isWorkingBool _ = True\n",
    "\n",
    "nextDate::Date->Date\n",
    "nextDate (Date d m y w)\n",
    "    | d==30 && (m==4 || m==6 || m==9 || m==11) = Date 1 (m+1) y (isWorkingBool(isWorkingDate (Date 1 (m+1) y True) []))\n",
    "    | d==31 && (m==1 || m==3 || m==5 || m==7 || m==8 || m==10) = Date 1 (m+1) y (isWorkingBool(isWorkingDate (Date 1 (m+1) y True) []))\n",
    "    | d==31 && m==12 = Date 1 1 (y+1) (isWorkingBool(isWorkingDate (Date 1 1 (y+1) True) []))\n",
    "    | d==28 && m==2 && not (isleap y) = Date 1 (m+1) y (isWorkingBool(isWorkingDate (Date 1 (m+1) y True) []))\n",
    "    | d==29 && m==2 && isleap y = Date 1 (m+1) y (isWorkingBool(isWorkingDate (Date 1 (m+1) y True) []))\n",
    "    | otherwise = Date (d+1) m y (isWorkingBool(isWorkingDate (Date (d+1) m y True) []))\n",
    "\n",
    "getListDates::Date->Date->[Date]\n",
    "getListDates date1 date2 = getListDates' [date1] (dateToNum date2 - dateToNum date1 +1)\n",
    "\n",
    "getListDates'::[Date]->Int->[Date]\n",
    "getListDates' ys n\n",
    "    | n==1 = [head ys]\n",
    "    | length ys == (n-1) = ys ++ [nextDate (last ys)]\n",
    "    | otherwise = getListDates' (ys ++ [nextDate (last ys)]) n "
   ]
  },
  {
   "cell_type": "code",
   "execution_count": 28,
   "id": "0fffc694",
   "metadata": {},
   "outputs": [],
   "source": [
    "-- 8.4\n",
    "-- that above is the vector with dates\n",
    "-- with getTotalSlots we had the vector of timestamps\n",
    "-- now create a new vector of Slots  with all combinations of both vectors\n",
    "\n",
    "combos::[(Time,Time)]->[Date]->[Slot]\n",
    "combos xs ys = [Slot a b c (Persons[]) \"\" | (a,b)<-xs, c<-ys ]\n",
    "\n",
    "existingSlots::Event->Date->Date->[Slot]\n",
    "existingSlots event date1 date2 = combos (getTotalSlots (findDuration event)) (getListDates date1 date2)"
   ]
  },
  {
   "cell_type": "markdown",
   "id": "8a40086e",
   "metadata": {},
   "source": [
    "In this first approach we generate slots of equal length and if the events do not end exactly at the beginning of a slot, we discard what's left of the slot that may be partially occupied.\n",
    "\n",
    "This is an issue which we solve further on."
   ]
  },
  {
   "cell_type": "code",
   "execution_count": 29,
   "id": "8c542421",
   "metadata": {},
   "outputs": [
    {
     "data": {
      "text/plain": [
       "[00:00-01:00 | Date: 1-1-2022, not a workday | Persons:  | Place: \"\"                                                                ,00:00-01:00 | Date: 2-1-2022, not a workday | Persons:  | Place: \"\"                                                                ,00:00-01:00 | Date: 3-1-2022, workday | Persons:  | Place: \"\"                                                                ,00:00-01:00 | Date: 4-1-2022, workday | Persons:  | Place: \"\"                                                                ,00:00-01:00 | Date: 5-1-2022, workday | Persons:  | Place: \"\"                                                                ,00:00-01:00 | Date: 6-1-2022, workday | Persons:  | Place: \"\"                                                                ,00:00-01:00 | Date: 7-1-2022, workday | Persons:  | Place: \"\"                                                                ,00:00-01:00 | Date: 8-1-2022, not a workday | Persons:  | Place: \"\"                                                                ,00:00-01:00 | Date: 9-1-2022, not a workday | Persons:  | Place: \"\"                                                                ,01:00-02:00 | Date: 1-1-2022, not a workday | Persons:  | Place: \"\"                                                                ,01:00-02:00 | Date: 2-1-2022, not a workday | Persons:  | Place: \"\"                                                                ,01:00-02:00 | Date: 3-1-2022, workday | Persons:  | Place: \"\"                                                                ,01:00-02:00 | Date: 4-1-2022, workday | Persons:  | Place: \"\"                                                                ,01:00-02:00 | Date: 5-1-2022, workday | Persons:  | Place: \"\"                                                                ,01:00-02:00 | Date: 6-1-2022, workday | Persons:  | Place: \"\"                                                                ,01:00-02:00 | Date: 7-1-2022, workday | Persons:  | Place: \"\"                                                                ,01:00-02:00 | Date: 8-1-2022, not a workday | Persons:  | Place: \"\"                                                                ,01:00-02:00 | Date: 9-1-2022, not a workday | Persons:  | Place: \"\"                                                                ,02:00-03:00 | Date: 1-1-2022, not a workday | Persons:  | Place: \"\"                                                                ,02:00-03:00 | Date: 2-1-2022, not a workday | Persons:  | Place: \"\"                                                                ,02:00-03:00 | Date: 3-1-2022, workday | Persons:  | Place: \"\"                                                                ,02:00-03:00 | Date: 4-1-2022, workday | Persons:  | Place: \"\"                                                                ,02:00-03:00 | Date: 5-1-2022, workday | Persons:  | Place: \"\"                                                                ,02:00-03:00 | Date: 6-1-2022, workday | Persons:  | Place: \"\"                                                                ,02:00-03:00 | Date: 7-1-2022, workday | Persons:  | Place: \"\"                                                                ,02:00-03:00 | Date: 8-1-2022, not a workday | Persons:  | Place: \"\"                                                                ,02:00-03:00 | Date: 9-1-2022, not a workday | Persons:  | Place: \"\"                                                                ,03:00-04:00 | Date: 1-1-2022, not a workday | Persons:  | Place: \"\"                                                                ,03:00-04:00 | Date: 2-1-2022, not a workday | Persons:  | Place: \"\"                                                                ,03:00-04:00 | Date: 3-1-2022, workday | Persons:  | Place: \"\"                                                                ,03:00-04:00 | Date: 4-1-2022, workday | Persons:  | Place: \"\"                                                                ,03:00-04:00 | Date: 5-1-2022, workday | Persons:  | Place: \"\"                                                                ,03:00-04:00 | Date: 6-1-2022, workday | Persons:  | Place: \"\"                                                                ,03:00-04:00 | Date: 7-1-2022, workday | Persons:  | Place: \"\"                                                                ,03:00-04:00 | Date: 8-1-2022, not a workday | Persons:  | Place: \"\"                                                                ,03:00-04:00 | Date: 9-1-2022, not a workday | Persons:  | Place: \"\"                                                                ,04:00-05:00 | Date: 1-1-2022, not a workday | Persons:  | Place: \"\"                                                                ,04:00-05:00 | Date: 2-1-2022, not a workday | Persons:  | Place: \"\"                                                                ,04:00-05:00 | Date: 3-1-2022, workday | Persons:  | Place: \"\"                                                                ,04:00-05:00 | Date: 4-1-2022, workday | Persons:  | Place: \"\"                                                                ,04:00-05:00 | Date: 5-1-2022, workday | Persons:  | Place: \"\"                                                                ,04:00-05:00 | Date: 6-1-2022, workday | Persons:  | Place: \"\"                                                                ,04:00-05:00 | Date: 7-1-2022, workday | Persons:  | Place: \"\"                                                                ,04:00-05:00 | Date: 8-1-2022, not a workday | Persons:  | Place: \"\"                                                                ,04:00-05:00 | Date: 9-1-2022, not a workday | Persons:  | Place: \"\"                                                                ,05:00-06:00 | Date: 1-1-2022, not a workday | Persons:  | Place: \"\"                                                                ,05:00-06:00 | Date: 2-1-2022, not a workday | Persons:  | Place: \"\"                                                                ,05:00-06:00 | Date: 3-1-2022, workday | Persons:  | Place: \"\"                                                                ,05:00-06:00 | Date: 4-1-2022, workday | Persons:  | Place: \"\"                                                                ,05:00-06:00 | Date: 5-1-2022, workday | Persons:  | Place: \"\"                                                                ,05:00-06:00 | Date: 6-1-2022, workday | Persons:  | Place: \"\"                                                                ,05:00-06:00 | Date: 7-1-2022, workday | Persons:  | Place: \"\"                                                                ,05:00-06:00 | Date: 8-1-2022, not a workday | Persons:  | Place: \"\"                                                                ,05:00-06:00 | Date: 9-1-2022, not a workday | Persons:  | Place: \"\"                                                                ,06:00-07:00 | Date: 1-1-2022, not a workday | Persons:  | Place: \"\"                                                                ,06:00-07:00 | Date: 2-1-2022, not a workday | Persons:  | Place: \"\"                                                                ,06:00-07:00 | Date: 3-1-2022, workday | Persons:  | Place: \"\"                                                                ,06:00-07:00 | Date: 4-1-2022, workday | Persons:  | Place: \"\"                                                                ,06:00-07:00 | Date: 5-1-2022, workday | Persons:  | Place: \"\"                                                                ,06:00-07:00 | Date: 6-1-2022, workday | Persons:  | Place: \"\"                                                                ,06:00-07:00 | Date: 7-1-2022, workday | Persons:  | Place: \"\"                                                                ,06:00-07:00 | Date: 8-1-2022, not a workday | Persons:  | Place: \"\"                                                                ,06:00-07:00 | Date: 9-1-2022, not a workday | Persons:  | Place: \"\"                                                                ,07:00-08:00 | Date: 1-1-2022, not a workday | Persons:  | Place: \"\"                                                                ,07:00-08:00 | Date: 2-1-2022, not a workday | Persons:  | Place: \"\"                                                                ,07:00-08:00 | Date: 3-1-2022, workday | Persons:  | Place: \"\"                                                                ,07:00-08:00 | Date: 4-1-2022, workday | Persons:  | Place: \"\"                                                                ,07:00-08:00 | Date: 5-1-2022, workday | Persons:  | Place: \"\"                                                                ,07:00-08:00 | Date: 6-1-2022, workday | Persons:  | Place: \"\"                                                                ,07:00-08:00 | Date: 7-1-2022, workday | Persons:  | Place: \"\"                                                                ,07:00-08:00 | Date: 8-1-2022, not a workday | Persons:  | Place: \"\"                                                                ,07:00-08:00 | Date: 9-1-2022, not a workday | Persons:  | Place: \"\"                                                                ,08:00-09:00 | Date: 1-1-2022, not a workday | Persons:  | Place: \"\"                                                                ,08:00-09:00 | Date: 2-1-2022, not a workday | Persons:  | Place: \"\"                                                                ,08:00-09:00 | Date: 3-1-2022, workday | Persons:  | Place: \"\"                                                                ,08:00-09:00 | Date: 4-1-2022, workday | Persons:  | Place: \"\"                                                                ,08:00-09:00 | Date: 5-1-2022, workday | Persons:  | Place: \"\"                                                                ,08:00-09:00 | Date: 6-1-2022, workday | Persons:  | Place: \"\"                                                                ,08:00-09:00 | Date: 7-1-2022, workday | Persons:  | Place: \"\"                                                                ,08:00-09:00 | Date: 8-1-2022, not a workday | Persons:  | Place: \"\"                                                                ,08:00-09:00 | Date: 9-1-2022, not a workday | Persons:  | Place: \"\"                                                                ,09:00-10:00 | Date: 1-1-2022, not a workday | Persons:  | Place: \"\"                                                                ,09:00-10:00 | Date: 2-1-2022, not a workday | Persons:  | Place: \"\"                                                                ,09:00-10:00 | Date: 3-1-2022, workday | Persons:  | Place: \"\"                                                                ,09:00-10:00 | Date: 4-1-2022, workday | Persons:  | Place: \"\"                                                                ,09:00-10:00 | Date: 5-1-2022, workday | Persons:  | Place: \"\"                                                                ,09:00-10:00 | Date: 6-1-2022, workday | Persons:  | Place: \"\"                                                                ,09:00-10:00 | Date: 7-1-2022, workday | Persons:  | Place: \"\"                                                                ,09:00-10:00 | Date: 8-1-2022, not a workday | Persons:  | Place: \"\"                                                                ,09:00-10:00 | Date: 9-1-2022, not a workday | Persons:  | Place: \"\"                                                                ,10:00-11:00 | Date: 1-1-2022, not a workday | Persons:  | Place: \"\"                                                                ,10:00-11:00 | Date: 2-1-2022, not a workday | Persons:  | Place: \"\"                                                                ,10:00-11:00 | Date: 3-1-2022, workday | Persons:  | Place: \"\"                                                                ,10:00-11:00 | Date: 4-1-2022, workday | Persons:  | Place: \"\"                                                                ,10:00-11:00 | Date: 5-1-2022, workday | Persons:  | Place: \"\"                                                                ,10:00-11:00 | Date: 6-1-2022, workday | Persons:  | Place: \"\"                                                                ,10:00-11:00 | Date: 7-1-2022, workday | Persons:  | Place: \"\"                                                                ,10:00-11:00 | Date: 8-1-2022, not a workday | Persons:  | Place: \"\"                                                                ,10:00-11:00 | Date: 9-1-2022, not a workday | Persons:  | Place: \"\"                                                                ,11:00-12:00 | Date: 1-1-2022, not a workday | Persons:  | Place: \"\"                                                                ,11:00-12:00 | Date: 2-1-2022, not a workday | Persons:  | Place: \"\"                                                                ,11:00-12:00 | Date: 3-1-2022, workday | Persons:  | Place: \"\"                                                                ,11:00-12:00 | Date: 4-1-2022, workday | Persons:  | Place: \"\"                                                                ,11:00-12:00 | Date: 5-1-2022, workday | Persons:  | Place: \"\"                                                                ,11:00-12:00 | Date: 6-1-2022, workday | Persons:  | Place: \"\"                                                                ,11:00-12:00 | Date: 7-1-2022, workday | Persons:  | Place: \"\"                                                                ,11:00-12:00 | Date: 8-1-2022, not a workday | Persons:  | Place: \"\"                                                                ,11:00-12:00 | Date: 9-1-2022, not a workday | Persons:  | Place: \"\"                                                                ,12:00-13:00 | Date: 2-1-2022, not a workday | Persons:  | Place: \"\"                                                                ,12:00-13:00 | Date: 3-1-2022, workday | Persons:  | Place: \"\"                                                                ,12:00-13:00 | Date: 4-1-2022, workday | Persons:  | Place: \"\"                                                                ,12:00-13:00 | Date: 5-1-2022, workday | Persons:  | Place: \"\"                                                                ,12:00-13:00 | Date: 6-1-2022, workday | Persons:  | Place: \"\"                                                                ,12:00-13:00 | Date: 7-1-2022, workday | Persons:  | Place: \"\"                                                                ,12:00-13:00 | Date: 8-1-2022, not a workday | Persons:  | Place: \"\"                                                                ,12:00-13:00 | Date: 9-1-2022, not a workday | Persons:  | Place: \"\"                                                                ,13:00-14:00 | Date: 2-1-2022, not a workday | Persons:  | Place: \"\"                                                                ,13:00-14:00 | Date: 3-1-2022, workday | Persons:  | Place: \"\"                                                                ,13:00-14:00 | Date: 4-1-2022, workday | Persons:  | Place: \"\"                                                                ,13:00-14:00 | Date: 5-1-2022, workday | Persons:  | Place: \"\"                                                                ,13:00-14:00 | Date: 6-1-2022, workday | Persons:  | Place: \"\"                                                                ,13:00-14:00 | Date: 7-1-2022, workday | Persons:  | Place: \"\"                                                                ,13:00-14:00 | Date: 8-1-2022, not a workday | Persons:  | Place: \"\"                                                                ,13:00-14:00 | Date: 9-1-2022, not a workday | Persons:  | Place: \"\"                                                                ,14:00-15:00 | Date: 2-1-2022, not a workday | Persons:  | Place: \"\"                                                                ,14:00-15:00 | Date: 3-1-2022, workday | Persons:  | Place: \"\"                                                                ,14:00-15:00 | Date: 4-1-2022, workday | Persons:  | Place: \"\"                                                                ,14:00-15:00 | Date: 5-1-2022, workday | Persons:  | Place: \"\"                                                                ,14:00-15:00 | Date: 6-1-2022, workday | Persons:  | Place: \"\"                                                                ,14:00-15:00 | Date: 7-1-2022, workday | Persons:  | Place: \"\"                                                                ,14:00-15:00 | Date: 8-1-2022, not a workday | Persons:  | Place: \"\"                                                                ,14:00-15:00 | Date: 9-1-2022, not a workday | Persons:  | Place: \"\"                                                                ,15:00-16:00 | Date: 1-1-2022, not a workday | Persons:  | Place: \"\"                                                                ,15:00-16:00 | Date: 2-1-2022, not a workday | Persons:  | Place: \"\"                                                                ,15:00-16:00 | Date: 3-1-2022, workday | Persons:  | Place: \"\"                                                                ,15:00-16:00 | Date: 4-1-2022, workday | Persons:  | Place: \"\"                                                                ,15:00-16:00 | Date: 5-1-2022, workday | Persons:  | Place: \"\"                                                                ,15:00-16:00 | Date: 6-1-2022, workday | Persons:  | Place: \"\"                                                                ,15:00-16:00 | Date: 7-1-2022, workday | Persons:  | Place: \"\"                                                                ,15:00-16:00 | Date: 8-1-2022, not a workday | Persons:  | Place: \"\"                                                                ,15:00-16:00 | Date: 9-1-2022, not a workday | Persons:  | Place: \"\"                                                                ,16:00-17:00 | Date: 1-1-2022, not a workday | Persons:  | Place: \"\"                                                                ,16:00-17:00 | Date: 2-1-2022, not a workday | Persons:  | Place: \"\"                                                                ,16:00-17:00 | Date: 3-1-2022, workday | Persons:  | Place: \"\"                                                                ,16:00-17:00 | Date: 4-1-2022, workday | Persons:  | Place: \"\"                                                                ,16:00-17:00 | Date: 5-1-2022, workday | Persons:  | Place: \"\"                                                                ,16:00-17:00 | Date: 7-1-2022, workday | Persons:  | Place: \"\"                                                                ,16:00-17:00 | Date: 8-1-2022, not a workday | Persons:  | Place: \"\"                                                                ,16:00-17:00 | Date: 9-1-2022, not a workday | Persons:  | Place: \"\"                                                                ,17:00-18:00 | Date: 1-1-2022, not a workday | Persons:  | Place: \"\"                                                                ,17:00-18:00 | Date: 2-1-2022, not a workday | Persons:  | Place: \"\"                                                                ,17:00-18:00 | Date: 3-1-2022, workday | Persons:  | Place: \"\"                                                                ,17:00-18:00 | Date: 4-1-2022, workday | Persons:  | Place: \"\"                                                                ,17:00-18:00 | Date: 5-1-2022, workday | Persons:  | Place: \"\"                                                                ,17:00-18:00 | Date: 6-1-2022, workday | Persons:  | Place: \"\"                                                                ,17:00-18:00 | Date: 7-1-2022, workday | Persons:  | Place: \"\"                                                                ,17:00-18:00 | Date: 8-1-2022, not a workday | Persons:  | Place: \"\"                                                                ,17:00-18:00 | Date: 9-1-2022, not a workday | Persons:  | Place: \"\"                                                                ,18:00-19:00 | Date: 1-1-2022, not a workday | Persons:  | Place: \"\"                                                                ,18:00-19:00 | Date: 2-1-2022, not a workday | Persons:  | Place: \"\"                                                                ,18:00-19:00 | Date: 3-1-2022, workday | Persons:  | Place: \"\"                                                                ,18:00-19:00 | Date: 4-1-2022, workday | Persons:  | Place: \"\"                                                                ,18:00-19:00 | Date: 5-1-2022, workday | Persons:  | Place: \"\"                                                                ,18:00-19:00 | Date: 6-1-2022, workday | Persons:  | Place: \"\"                                                                ,18:00-19:00 | Date: 7-1-2022, workday | Persons:  | Place: \"\"                                                                ,18:00-19:00 | Date: 8-1-2022, not a workday | Persons:  | Place: \"\"                                                                ,18:00-19:00 | Date: 9-1-2022, not a workday | Persons:  | Place: \"\"                                                                ,19:00-20:00 | Date: 1-1-2022, not a workday | Persons:  | Place: \"\"                                                                ,19:00-20:00 | Date: 2-1-2022, not a workday | Persons:  | Place: \"\"                                                                ,19:00-20:00 | Date: 3-1-2022, workday | Persons:  | Place: \"\"                                                                ,19:00-20:00 | Date: 4-1-2022, workday | Persons:  | Place: \"\"                                                                ,19:00-20:00 | Date: 5-1-2022, workday | Persons:  | Place: \"\"                                                                ,19:00-20:00 | Date: 6-1-2022, workday | Persons:  | Place: \"\"                                                                ,19:00-20:00 | Date: 7-1-2022, workday | Persons:  | Place: \"\"                                                                ,19:00-20:00 | Date: 8-1-2022, not a workday | Persons:  | Place: \"\"                                                                ,19:00-20:00 | Date: 9-1-2022, not a workday | Persons:  | Place: \"\"                                                                ,20:00-21:00 | Date: 1-1-2022, not a workday | Persons:  | Place: \"\"                                                                ,20:00-21:00 | Date: 2-1-2022, not a workday | Persons:  | Place: \"\"                                                                ,20:00-21:00 | Date: 3-1-2022, workday | Persons:  | Place: \"\"                                                                ,20:00-21:00 | Date: 4-1-2022, workday | Persons:  | Place: \"\"                                                                ,20:00-21:00 | Date: 5-1-2022, workday | Persons:  | Place: \"\"                                                                ,20:00-21:00 | Date: 6-1-2022, workday | Persons:  | Place: \"\"                                                                ,20:00-21:00 | Date: 7-1-2022, workday | Persons:  | Place: \"\"                                                                ,20:00-21:00 | Date: 8-1-2022, not a workday | Persons:  | Place: \"\"                                                                ,20:00-21:00 | Date: 9-1-2022, not a workday | Persons:  | Place: \"\"                                                                ,21:00-22:00 | Date: 1-1-2022, not a workday | Persons:  | Place: \"\"                                                                ,21:00-22:00 | Date: 2-1-2022, not a workday | Persons:  | Place: \"\"                                                                ,21:00-22:00 | Date: 3-1-2022, workday | Persons:  | Place: \"\"                                                                ,21:00-22:00 | Date: 4-1-2022, workday | Persons:  | Place: \"\"                                                                ,21:00-22:00 | Date: 5-1-2022, workday | Persons:  | Place: \"\"                                                                ,21:00-22:00 | Date: 6-1-2022, workday | Persons:  | Place: \"\"                                                                ,21:00-22:00 | Date: 7-1-2022, workday | Persons:  | Place: \"\"                                                                ,21:00-22:00 | Date: 8-1-2022, not a workday | Persons:  | Place: \"\"                                                                ,21:00-22:00 | Date: 9-1-2022, not a workday | Persons:  | Place: \"\"                                                                ,22:00-23:00 | Date: 1-1-2022, not a workday | Persons:  | Place: \"\"                                                                ,22:00-23:00 | Date: 2-1-2022, not a workday | Persons:  | Place: \"\"                                                                ,22:00-23:00 | Date: 3-1-2022, workday | Persons:  | Place: \"\"                                                                ,22:00-23:00 | Date: 4-1-2022, workday | Persons:  | Place: \"\"                                                                ,22:00-23:00 | Date: 5-1-2022, workday | Persons:  | Place: \"\"                                                                ,22:00-23:00 | Date: 6-1-2022, workday | Persons:  | Place: \"\"                                                                ,22:00-23:00 | Date: 7-1-2022, workday | Persons:  | Place: \"\"                                                                ,22:00-23:00 | Date: 8-1-2022, not a workday | Persons:  | Place: \"\"                                                                ,22:00-23:00 | Date: 9-1-2022, not a workday | Persons:  | Place: \"\"                                                                ,23:00-24:00 | Date: 1-1-2022, not a workday | Persons:  | Place: \"\"                                                                ,23:00-24:00 | Date: 2-1-2022, not a workday | Persons:  | Place: \"\"                                                                ,23:00-24:00 | Date: 3-1-2022, workday | Persons:  | Place: \"\"                                                                ,23:00-24:00 | Date: 4-1-2022, workday | Persons:  | Place: \"\"                                                                ,23:00-24:00 | Date: 5-1-2022, workday | Persons:  | Place: \"\"                                                                ,23:00-24:00 | Date: 6-1-2022, workday | Persons:  | Place: \"\"                                                                ,23:00-24:00 | Date: 7-1-2022, workday | Persons:  | Place: \"\"                                                                ,23:00-24:00 | Date: 8-1-2022, not a workday | Persons:  | Place: \"\"                                                                ,23:00-24:00 | Date: 9-1-2022, not a workday | Persons:  | Place: \"\"                                                                ]"
      ]
     },
     "metadata": {},
     "output_type": "display_data"
    }
   ],
   "source": [
    "-- 8.5\n",
    "-- now that we have this, we need to substract all slots that are included within the time frame \n",
    "-- occupied by all scheduled events, in order to obtain the available events\n",
    "\n",
    "isIncluded::Slot->Slot->Bool\n",
    "isIncluded (Slot ini1 fin1 date1 _ _ ) (Slot ini2 fin2 date2 _ _)\n",
    "    | date1 == date2 && (fin1 <= ini2) = False\n",
    "    | date1 == date2 && (ini1 >= fin2) = False\n",
    "    | date1 /= date2 = False\n",
    "    | otherwise = True\n",
    "\n",
    "removeOccupied::[Slot]->[Slot]->[Slot]\n",
    "removeOccupied [x] ys = removeOccupied' x ys\n",
    "removeOccupied (x:xs) ys = removeOccupied xs (removeOccupied' x ys)\n",
    "\n",
    "removeOccupied'::Slot->[Slot]->[Slot]\n",
    "removeOccupied' x [y] = removeOccupied'' x y\n",
    "removeOccupied' x (y:ys) = removeOccupied'' x y ++ removeOccupied' x ys\n",
    "\n",
    "removeOccupied''::Slot->Slot->[Slot]\n",
    "removeOccupied'' x y \n",
    "    | isIncluded y x = []\n",
    "    | otherwise = [y]\n",
    "    \n",
    "getSlots::[Event]->[Slot]\n",
    "getSlots [x]\n",
    "    -- scheduled\n",
    "    | isThereInitial x = [Slot (getInitial x) (getFinal x) (getDate x) (Persons[]) \"\"]\n",
    "    -- not scheduled: does not affect us\n",
    "    | otherwise = []\n",
    "getSlots (x:xs)\n",
    "    | isThereInitial x = Slot (getInitial x) (getFinal x) (getDate x) (Persons[]) \"\" : getSlots xs\n",
    "    | otherwise = getSlots xs\n",
    "    \n",
    "availableSlots::Event->Agenda->Date->Date->[Slot]\n",
    "availableSlots event (Agenda _ xs) date1 date2 = removeOccupied (getSlots xs) (existingSlots event date1 date2)\n",
    "\n",
    "-- testing\n",
    "availableSlots [DDuration 60] (Agenda \"Carlos\" [[DDate (Date 1 1 2022 False), DInitial (Time 12 0), DFinal (Time 14 30)], [DDate (Date 6 1 2022 True), DInitial (Time 16 0), DFinal (Time 16 30)]]) (Date 1 1 2022 False) (Date 9 1 2022 True)\n",
    "-- it works"
   ]
  },
  {
   "cell_type": "code",
   "execution_count": 30,
   "id": "0d45e69b",
   "metadata": {},
   "outputs": [],
   "source": [
    "-- 8.6.1\n",
    "-- now that we have a list with all available slots there are several routes to go\n",
    "\n",
    "-- events without preference --\n",
    "\n",
    "-- totally defined\n",
    "-- if the event has both a date and a timestamp we determine whether it is included in one of available_slots\n",
    "--selectSlot::Event->Agenda->Date->Date->Slot\n",
    "--selectSlot event (Agenda _ events) date1 date2 \n",
    " --   | isThereDate event && isThereInitial event = selectSlot1 event (Agenda _ events) date1 date2 \n",
    "    \n",
    "timesToSlot::Event->Slot\n",
    "timesToSlot event = Slot (getInitial event) (getFinal event) (getDate event) (Persons[]) \"\"\n",
    "\n",
    "anyIncluded::Slot->[Slot]->Bool\n",
    "anyIncluded x [y] = isIncluded x y\n",
    "anyIncluded x (y:ys) = isIncluded x y || anyIncluded x ys\n",
    "\n",
    "selectSlot1::Event->Agenda->Date->Date->Agenda\n",
    "selectSlot1 event (Agenda name events) date1 date2\n",
    "    | anyIncluded (timesToSlot event) (getSlots events) = Agenda name events\n",
    "    | otherwise = insert event (Agenda name events)\n",
    "\n",
    "-- partially defined\n",
    "-- if the event has only a date and duration we return the first slot in available_slots that has that date\n",
    "\n",
    "slotToInitial::Slot->Descriptor\n",
    "slotToInitial (Slot ini fin date _ _) = DInitial ini\n",
    "slotToFinal::Slot->Descriptor\n",
    "slotToFinal (Slot ini fin date _ _) = DFinal fin\n",
    "\n",
    "selectSlot2::Event->Agenda->Date->Date->Agenda\n",
    "selectSlot2 event (Agenda name events) date1 date2\n",
    "    | null (availableSlots event (Agenda name events) (getDate event) (getDate event)) = Agenda name events\n",
    "    | otherwise = insert (event ++ [slotToInitial (head(availableSlots event (Agenda name events) (getDate event) (getDate event)))] ++ [slotToFinal (head(availableSlots event (Agenda name events) (getDate event) (getDate event)))]) (Agenda name events)\n",
    "\n",
    "-- undefined\n",
    "-- if the event does not have a date (thus no timestamp either) we return the first slot in available_slots\n",
    "\n",
    "slotToDate::Slot->Descriptor\n",
    "slotToDate (Slot ini fin date _ _) = DDate date\n",
    "\n",
    "selectSlot3::Event->Agenda->Date->Date->Agenda\n",
    "selectSlot3 event (Agenda name events) date1 date2\n",
    "    | null (availableSlots event (Agenda name events) date1 date2) = Agenda name events\n",
    "    | otherwise = insert (event ++ [slotToInitial (head(availableSlots event (Agenda name events) date1 date2))] ++ [slotToFinal (head(availableSlots event (Agenda name events) date1 date2))] ++ [slotToDate (head(availableSlots event (Agenda name events) date1 date2))]) (Agenda name events)"
   ]
  },
  {
   "cell_type": "code",
   "execution_count": 31,
   "id": "f5462745",
   "metadata": {},
   "outputs": [],
   "source": [
    "-- 8.6.2\n",
    "-- now that we have a list with all available slots there are several routes to go\n",
    "\n",
    "-- events with a time preference -- ** other preferences are treated starting at 8.7 **\n",
    "\n",
    "-- obviously a totally defined event will not have preferences to be considered, and it does not make sense\n",
    "-- for an undefined event to have a time preference, since it doesn't even have a date, so we consider:\n",
    "-- partially defined: the event has a date and a time prefence\n",
    "-- we first try to return a slot satisfying the time preferece\n",
    "-- it that is not possibele, we will ignore the preference and return the earliest slot\n",
    "-- if that is also impossible (no slot available), we will return the same agenda\n",
    "\n",
    "isPreferences::Descriptor->Bool\n",
    "isPreferences (DPreferences _) = True\n",
    "isPreferences _ = False\n",
    "\n",
    "isTherePreferences::Event->Bool\n",
    "isTherePreferences [] = False\n",
    "isTherePreferences (x:xs)\n",
    "    | isPreferences x = True\n",
    "    | otherwise = isTherePreferences xs\n",
    "\n",
    "getPreferences'::Descriptor->Preferences\n",
    "getPreferences' (DPreferences a) = a\n",
    "getPreferences' _ = Preferences (Time 0 0) (Time 0 0) \"\" \"\" -- this case will not matter given that, as stated, we can asume the event to be scheduled will\n",
    "-- always have a preference\n",
    "\n",
    "getPreferences::Event->Preferences\n",
    "getPreferences [x] = getPreferences' x\n",
    "getPreferences(x:xs) \n",
    "    | isPreferences x = getPreferences' x\n",
    "    | otherwise = getPreferences xs\n",
    "    \n",
    "initialPref::Preferences->Time\n",
    "initialPref (Preferences a b c d) = a\n",
    "finalPref::Preferences->Time\n",
    "finalPref (Preferences a b c d) = b\n",
    "\n",
    "sumMin::Time->Duration->Time\n",
    "sumMin (Time h m) d\n",
    "    | h + div (m+d) 60 >= 24  = Time 24 0\n",
    "    | m+d<60 = Time h (m+d)\n",
    "    | otherwise = Time (h + div (m+d) 60) (m+d-60*div(m+d)60)\n",
    "\n",
    "selectSlot4::Event->Agenda->Date->Date->Agenda\n",
    "selectSlot4 event (Agenda name events) date1 date2\n",
    "    | null (availableSlots event (Agenda name events) (getDate event) (getDate event)) = Agenda name events\n",
    "    | anyIncluded (timesToSlot (event ++ [DInitial (initialPref(getPreferences event))] ++ [DFinal (sumMin (initialPref(getPreferences event))(getDuration event)) ])) (getSlots events) = insert (event ++ [slotToInitial (head(availableSlots event (Agenda name events) (getDate event) (getDate event)))] ++ [slotToFinal (head(availableSlots event (Agenda name events) (getDate event) (getDate event)))]) (Agenda name events)\n",
    "    | otherwise = insert (event ++ [DInitial (initialPref(getPreferences event))] ++ [DFinal (sumMin (initialPref(getPreferences event))(getDuration event)) ]) (Agenda name events)"
   ]
  },
  {
   "cell_type": "code",
   "execution_count": 32,
   "id": "9c1e958f",
   "metadata": {},
   "outputs": [
    {
     "data": {
      "text/plain": [
       "[1,299,511,1079,1171,1439]"
      ]
     },
     "metadata": {},
     "output_type": "display_data"
    }
   ],
   "source": [
    "-- 8.7\n",
    "-- new approach to deal with events that do not occupy exactly one of the predefined slots\n",
    "-- will also help with preferences other than time preferences\n",
    "-- will also help with exercise 9\n",
    "\n",
    "-- in a day to day basis we have a vector with every minute of the day\n",
    "minutesInDay = [1,2..(24*60-1)]\n",
    "\n",
    "-- the goal here is, given the minutes available in a day and the\n",
    "-- the events already scheduled that tday with their respective \n",
    "-- initial and final times, be able to get the minutes, in absolute number over\n",
    "-- all minutes in a day, for which a new free slot starts or ends (key times)\n",
    "\n",
    "timeToMinute::Time->Int\n",
    "timeToMinute (Time a b) = 60*a+b\n",
    "\n",
    "eventToMinute::Event->[Int]\n",
    "eventToMinute event = [timeToMinute (getInitial event),timeToMinute (getInitial event) +1.. timeToMinute (getFinal event)]\n",
    "\n",
    "removeMinutes::[Int]->[Int]->[Int]\n",
    "removeMinutes [x] ys = [x]\n",
    "removeMinutes (x:xs) ys\n",
    "    | x `elem` ys = removeMinutes xs ys\n",
    "    | otherwise = x : removeMinutes xs ys\n",
    "\n",
    "removeOccupied2::[Event]->[Int]->[Int]\n",
    "removeOccupied2 [x] ys = removeMinutes ys (eventToMinute x)\n",
    "removeOccupied2 (x:xs) ys = removeOccupied2 xs (removeMinutes ys (eventToMinute x))\n",
    "removeOccupied2 [] ys = ys\n",
    "\n",
    "getKeyTimes'::[Int]->[Int]\n",
    "getKeyTimes' [x] = [x]\n",
    "getKeyTimes'(x:xs)\n",
    "    | head xs == x+1 = getKeyTimes' xs\n",
    "    | otherwise = x:head xs:getKeyTimes' xs\n",
    "    \n",
    "getKeyTimes::[Int]->[Int]\n",
    "getKeyTimes xs = head xs : getKeyTimes' xs\n",
    "\n",
    "-- testing\n",
    "event1 = [DInitial (Time 18 0),  DFinal (Time 19 30), DDate (Date 3 12 2020 True), DPersons(Persons [\"Jorge\",\"Gonzalo\"]), DPlace \"Leganes\"]\n",
    "event2 = [DInitial (Time 5 0), DFinal (Time 8 30), DDate (Date 3 12 2020 True), DPersons(Persons [\"Paco\",\"Eugenia\"]), DPlace \"Madrid\"]\n",
    "events = [event1, event2]\n",
    "getKeyTimes (removeOccupied2 events minutesInDay)"
   ]
  },
  {
   "cell_type": "code",
   "execution_count": 33,
   "id": "d061698a",
   "metadata": {},
   "outputs": [
    {
     "data": {
      "text/plain": [
       "[0,510,1170]"
      ]
     },
     "metadata": {},
     "output_type": "display_data"
    },
    {
     "data": {
      "text/plain": [
       "[300,1080,1440]"
      ]
     },
     "metadata": {},
     "output_type": "display_data"
    },
    {
     "data": {
      "text/plain": [
       "[00:00-00:50 | Date: 3-12-2020, workday | Persons:  | Place: \"\"                                                                ,04:10-05:00 | Date: 3-12-2020, workday | Persons:  | Place: \"\"                                                                ,08:30-09:20 | Date: 3-12-2020, workday | Persons:  | Place: \"\"                                                                ,17:10-18:00 | Date: 3-12-2020, workday | Persons:  | Place: \"\"                                                                ,19:30-20:20 | Date: 3-12-2020, workday | Persons:  | Place: \"\"                                                                ,23:10-24:00 | Date: 3-12-2020, workday | Persons:  | Place: \"\"                                                                ]"
      ]
     },
     "metadata": {},
     "output_type": "display_data"
    }
   ],
   "source": [
    "-- 8.8\n",
    "-- continuing the new approach\n",
    "-- we want to go from the vector of key times to a list of pairs of times that\n",
    "-- will represent the free slots\n",
    "\n",
    "-- approach: in a day to day basis (later we will use a higher level function to iterate through the dates\n",
    "-- between date1 and date2), for each free slot, if the time available in that slot is greater than or equal\n",
    "-- to the duration of the event we want to schedule, we will get the corresponding duration at the beginning\n",
    "-- and end of the slot (that is, right after the previously scheduled \n",
    "-- event and right before the event coming afterwards) as our potential time frames for scheduling the event\n",
    "\n",
    "getInitialMinutes::[Int]->[Int]\n",
    "getInitialMinutes xs = [(xs!!a)-1 | a<-[0..length xs - 1], even a]\n",
    "getFinalMinutes::[Int]->[Int]\n",
    "getFinalMinutes xs = [(xs!!a)+1 | a<-[0..length xs - 1], odd a]\n",
    "    \n",
    "getavailableSlots2::[Int]->[Int]->Date->Duration->[Slot]\n",
    "getavailableSlots2 [x] [y] date duration\n",
    "    | y - x > duration  = [Slot (Time (div x 60) (x - 60*div x 60)) (Time (div (x+duration) 60) ((x+duration) - 60*div (x+duration) 60)) date (Persons[]) \"\",Slot (Time (div (y-duration) 60) ((y-duration) - 60*div (y-duration) 60)) (Time (div y 60) (y - 60*div y 60)) date (Persons[]) \"\"] \n",
    "    | y - x == duration = [Slot (Time (div x 60) (x - 60*div x 60)) (Time (div (x+duration) 60) ((x+duration) - 60*div (x+duration) 60)) date (Persons[]) \"\"]\n",
    "    | otherwise = []\n",
    "getavailableSlots2 (x:xs) (y:ys) date duration \n",
    "    | y - x > duration  = [Slot (Time (div x 60) (x - 60*div x 60)) (Time (div (x+duration) 60) ((x+duration) - 60*div (x+duration) 60)) date (Persons[]) \"\",Slot (Time (div (y-duration) 60) ((y-duration) - 60*div (y-duration) 60)) (Time (div y 60) (y - 60*div y 60)) date (Persons[]) \"\"] ++ getavailableSlots2 xs ys date duration  \n",
    "    | y - x == duration = Slot (Time (div x 60) (x - 60*div x 60)) (Time (div (x+duration) 60) ((x+duration) - 60*div (x+duration) 60)) date (Persons[]) \"\" : getavailableSlots2 xs ys date duration \n",
    "    | otherwise = getavailableSlots2 xs ys date duration \n",
    "    \n",
    "-- test\n",
    "getInitialMinutes (getKeyTimes (removeOccupied2 events minutesInDay))\n",
    "getFinalMinutes (getKeyTimes (removeOccupied2 events minutesInDay))\n",
    "getavailableSlots2 (getInitialMinutes (getKeyTimes (removeOccupied2 events minutesInDay))) (getFinalMinutes (getKeyTimes (removeOccupied2 events minutesInDay))) (Date 3 12 2020 True) 50"
   ]
  },
  {
   "cell_type": "code",
   "execution_count": 34,
   "id": "65297195",
   "metadata": {},
   "outputs": [
    {
     "data": {
      "text/plain": [
       "[00:00-00:50 | Date: 3-12-2020, workday | Persons:  | Place: \"\"                                                                ,04:10-05:00 | Date: 3-12-2020, workday | Persons:  | Place: \"\"                                                                ,08:30-09:20 | Date: 3-12-2020, workday | Persons:  | Place: \"\"                                                                ,17:10-18:00 | Date: 3-12-2020, workday | Persons:  | Place: \"\"                                                                ,19:30-20:20 | Date: 3-12-2020, workday | Persons:  | Place: \"\"                                                                ,23:10-24:00 | Date: 3-12-2020, workday | Persons:  | Place: \"\"                                                                ]"
      ]
     },
     "metadata": {},
     "output_type": "display_data"
    },
    {
     "data": {
      "text/plain": [
       "[[Initial Time: 18:00,Final Time: 19:30,Date: 3-12-2020, workday,Attendants: Jorge, Gonzalo,Place: Leganes],[Initial Time: 05:00,Final Time: 08:30,Date: 3-12-2020, workday,Attendants: Paco, Eugenia,Place: Madrid]]"
      ]
     },
     "metadata": {},
     "output_type": "display_data"
    },
    {
     "data": {
      "text/plain": [
       "00:00-00:50 | Date: 3-12-2020, workday | Persons:  | Place: \"\""
      ]
     },
     "metadata": {},
     "output_type": "display_data"
    },
    {
     "data": {
      "text/plain": [
       "[00:00-00:50 | Date: 3-12-2020, workday | Persons:  | Place: \"\"                                                                ,04:10-05:00 | Date: 3-12-2020, workday | Persons: Paco, Eugenia | Place: \"Madrid\"                                                                ,08:30-09:20 | Date: 3-12-2020, workday | Persons: Paco, Eugenia | Place: \"Madrid\"                                                                ,17:10-18:00 | Date: 3-12-2020, workday | Persons: Jorge, Gonzalo | Place: \"Leganes\"                                                                ,19:30-20:20 | Date: 3-12-2020, workday | Persons: Jorge, Gonzalo | Place: \"Leganes\"                                                                ,23:10-24:00 | Date: 3-12-2020, workday | Persons:  | Place: \"\"                                                                ]"
      ]
     },
     "metadata": {},
     "output_type": "display_data"
    }
   ],
   "source": [
    "-- 8.9\n",
    "-- on top of that, since the slot data type has preference values, we will save in those the preferences\n",
    "-- of events scheduled next to the slot, if any, in order to help schedule events with preference\n",
    "\n",
    "-- auxiliary functions\n",
    "\n",
    "eventsInDate::[Event]->Date->[Event]\n",
    "eventsInDate [x] date\n",
    "    | getDate x == date = [x]\n",
    "    | otherwise = []\n",
    "eventsInDate (x:xs) date\n",
    "    | getDate x == date = x : eventsInDate xs date\n",
    "    | otherwise = eventsInDate xs date\n",
    "\n",
    "isPersons::Descriptor->Bool\n",
    "isPersons (DPersons _) = True\n",
    "isPersons _ = False\n",
    "\n",
    "isTherePersons::Event->Bool\n",
    "isTherePersons [] = False\n",
    "isTherePersons (x:xs)\n",
    "    | isPersons x = True\n",
    "    | otherwise = isTherePersons xs\n",
    "\n",
    "getPersons'::Descriptor->[String]\n",
    "getPersons' (DPersons (Persons a)) = a\n",
    "getPersons' _ = []\n",
    "\n",
    "getPersons::Event->[String]\n",
    "getPersons [x] = getPersons' x\n",
    "getPersons(x:xs) \n",
    "    | isPersons x = getPersons' x\n",
    "    | otherwise = getPersons xs\n",
    "    \n",
    "isPlace::Descriptor->Bool\n",
    "isPlace (DPlace _) = True\n",
    "isPlace _ = False\n",
    "\n",
    "isTherePlace::Event->Bool\n",
    "isTherePlace [] = False\n",
    "isTherePlace (x:xs)\n",
    "    | isPlace x = True\n",
    "    | otherwise = isTherePlace xs\n",
    "\n",
    "getPlace'::Descriptor->String\n",
    "getPlace' (DPlace a) = a\n",
    "getPlace' _ = []\n",
    "\n",
    "getPlace::Event->Place\n",
    "getPlace [x] = getPlace' x\n",
    "getPlace(x:xs) \n",
    "    | isPlace x = getPlace' x\n",
    "    | otherwise = getPlace xs\n",
    "    \n",
    "-- procedure\n",
    "\n",
    "instance Eq Time where\n",
    "    Time h1 m1 == Time h2 m2 = h1==h2 && m1==m2\n",
    "\n",
    "assignSlotPref::Slot->[Event]->Slot\n",
    "assignSlotPref (Slot a b c d e) [x]\n",
    "    | getDate x == c && (getInitial x == b || getFinal x == a) && isTherePersons x && isTherePlace x = Slot a b c (Persons (getPersons x)) (getPlace x)\n",
    "    | getDate x == c && (getInitial x == b || getFinal x == a) && isTherePersons x = Slot a b c (Persons (getPersons x)) e\n",
    "    | getDate x == c && (getInitial x == b || getFinal x == a) && isTherePlace x = Slot a b c d (getPlace x)\n",
    "    | otherwise = Slot a b c d e\n",
    "assignSlotPref (Slot a b c d e) (x:xs)\n",
    "    | getDate x == c && (getInitial x == b || getFinal x == a) && isTherePersons x && isTherePlace x = Slot a b c (Persons (getPersons x)) (getPlace x)\n",
    "    | getDate x == c && (getInitial x == b || getFinal x == a) && isTherePersons x = Slot a b c (Persons (getPersons x)) e\n",
    "    | getDate x == c && (getInitial x == b || getFinal x == a) && isTherePlace x = Slot a b c d (getPlace x)\n",
    "    | otherwise = assignSlotPref (Slot a b c d e) xs\n",
    "assignSlotPref (Slot a b c d e) [] = Slot a b c d e\n",
    "    \n",
    "assignSlotsPref::[Slot]->[Event]->[Slot]\n",
    "assignSlotsPref [x] ys = [assignSlotPref x ys]\n",
    "assignSlotsPref (x:xs) ys = assignSlotPref x ys : assignSlotsPref xs ys\n",
    "assignSlotsPref [] ys = []\n",
    "\n",
    "-- testing\n",
    "\n",
    "myslots = getavailableSlots2 (getInitialMinutes (getKeyTimes (removeOccupied2 events minutesInDay))) (getFinalMinutes (getKeyTimes (removeOccupied2 events minutesInDay))) (Date 3 12 2020 True) 50\n",
    "myslots\n",
    "events\n",
    "assignSlotPref (head myslots) events\n",
    "assignSlotsPref myslots events"
   ]
  },
  {
   "cell_type": "code",
   "execution_count": 35,
   "id": "72038575",
   "metadata": {},
   "outputs": [
    {
     "data": {
      "text/plain": [
       "[00:00-00:45 | Date: 3-12-2020, workday | Persons:  | Place: \"\"                                                                ,04:15-05:00 | Date: 3-12-2020, workday | Persons: Paco, Eugenia | Place: \"Madrid\"                                                                ,08:30-09:15 | Date: 3-12-2020, workday | Persons: Paco, Eugenia | Place: \"Madrid\"                                                                ,17:15-18:00 | Date: 3-12-2020, workday | Persons: Jorge, Gonzalo | Place: \"Leganes\"                                                                ,19:30-20:15 | Date: 3-12-2020, workday | Persons: Jorge, Gonzalo | Place: \"Leganes\"                                                                ,23:15-24:00 | Date: 3-12-2020, workday | Persons:  | Place: \"\"                                                                ,00:00-00:45 | Date: 4-12-2020, not a workday | Persons:  | Place: \"\"                                                                ,23:15-24:00 | Date: 4-12-2020, not a workday | Persons:  | Place: \"\"                                                                ]"
      ]
     },
     "metadata": {},
     "output_type": "display_data"
    },
    {
     "data": {
      "text/plain": [
       "[00:00-00:45 | Date: 3-12-2020, workday | Persons:  | Place: \"\"                                                                ,04:15-05:00 | Date: 3-12-2020, workday | Persons: Paco, Eugenia | Place: \"Madrid\"                                                                ,08:30-09:15 | Date: 3-12-2020, workday | Persons: Paco, Eugenia | Place: \"Madrid\"                                                                ,17:15-18:00 | Date: 3-12-2020, workday | Persons: Jorge, Gonzalo | Place: \"Leganes\"                                                                ,19:30-20:15 | Date: 3-12-2020, workday | Persons: Jorge, Gonzalo | Place: \"Leganes\"                                                                ,23:15-24:00 | Date: 3-12-2020, workday | Persons:  | Place: \"\"                                                                ]"
      ]
     },
     "metadata": {},
     "output_type": "display_data"
    }
   ],
   "source": [
    "-- 8.10\n",
    "-- final steps before the main function\n",
    "-- definition of functions that determine to path to follow within the decision tree\n",
    "-- depending on whether the event has preferences, which preferences, how defined it is in terms of date, etc\n",
    "-- we will call different functions\n",
    "\n",
    "-- this will allow us to complete every single functionality of 8 except the events with repetition, as well as 9\n",
    "\n",
    "prefToPlace::Preferences->Place\n",
    "prefToPlace (Preferences a b c d) = c\n",
    "\n",
    "prefToPerson::Preferences->String\n",
    "prefToPerson (Preferences a b c d) = d\n",
    "\n",
    "getPlacePref::Event->Place\n",
    "getPlacePref event = prefToPlace (getPreferences event)\n",
    "\n",
    "getPersonsPref::Event->String\n",
    "getPersonsPref event = prefToPerson (getPreferences event)\n",
    "\n",
    "getSlotsWPref::[Event]->Date->Duration->[Slot]\n",
    "getSlotsWPref events date duration = assignSlotsPref (getavailableSlots2 (getInitialMinutes (getKeyTimes (removeOccupied2 events minutesInDay))) (getFinalMinutes (getKeyTimes (removeOccupied2 events minutesInDay))) date duration) events\n",
    "\n",
    "availableThroughDates::Duration->[Event]->[Date]->[Slot]\n",
    "availableThroughDates duration events [x] = getSlotsWPref (eventsInDate events x) x duration\n",
    "availableThroughDates duration events (x:xs) = getSlotsWPref (eventsInDate events x) x duration ++ availableThroughDates duration events xs\n",
    "\n",
    "-- testing\n",
    "availableThroughDates 45 events (getListDates (Date 3 12 2020 True) (Date 4 12 2020 True))\n",
    "getSlotsWPref events (Date 3 12 2020 True) 45\n",
    "-- it works (:D)"
   ]
  },
  {
   "cell_type": "code",
   "execution_count": 36,
   "id": "63582afb",
   "metadata": {},
   "outputs": [
    {
     "data": {
      "text/plain": [
       "[Date: 6-12-2020, workday,Date: 7-12-2020, workday,Date: 8-12-2020, workday,Date: 9-12-2020, workday,Date: 10-12-2020, workday,Date: 13-12-2020, workday,Date: 14-12-2020, workday,Date: 15-12-2020, workday,Date: 16-12-2020, workday,Date: 17-12-2020, workday,Date: 20-12-2020, workday,Date: 21-12-2020, workday]"
      ]
     },
     "metadata": {},
     "output_type": "display_data"
    },
    {
     "data": {
      "text/plain": [
       "\"Name: Facetime every day - Date: 5-1-2020, workday - Initial Time: 14:00 - Final Time: 15:00 - Frequency: Weekday; First Date: 3-1-2020, workday; number of repetitions: 5 - Frequency: Weekday; First Date: 3-1-2020, workday; number of repetitions: 5                                                                                                                      Name: Facetime every day - Date: 6-1-2020, workday - Initial Time: 14:00 - Final Time: 15:00 - Frequency: Weekday; First Date: 3-1-2020, workday; number of repetitions: 5 - Frequency: Weekday; First Date: 3-1-2020, workday; number of repetitions: 5                                                                                                                      Name: Facetime every day - Date: 7-1-2020, workday - Initial Time: 14:00 - Final Time: 15:00 - Frequency: Weekday; First Date: 3-1-2020, workday; number of repetitions: 5 - Frequency: Weekday; First Date: 3-1-2020, workday; number of repetitions: 5                                                                                                                      Name: Facetime every day - Date: 8-1-2020, workday - Initial Time: 14:00 - Final Time: 15:00 - Frequency: Weekday; First Date: 3-1-2020, workday; number of repetitions: 5 - Frequency: Weekday; First Date: 3-1-2020, workday; number of repetitions: 5                                                                                                                      Name: Facetime every day - Date: 9-1-2020, workday - Initial Time: 14:00 - Final Time: 15:00 - Frequency: Weekday; First Date: 3-1-2020, workday; number of repetitions: 5 - Frequency: Weekday; First Date: 3-1-2020, workday; number of repetitions: 5\""
      ]
     },
     "metadata": {},
     "output_type": "display_data"
    }
   ],
   "source": [
    "-- 8.11 extending our approach to fit events with a frequency\n",
    "\n",
    "-- approach\n",
    "\n",
    "-- treat events with punctual frequency like events without a frequency descriptor\n",
    "\n",
    "-- 1 create a list of dates between date1 and date2 and delete all the dates where\n",
    "-- the event is not being repeated\n",
    "\n",
    "-- geting the elements of frequency we need\n",
    "\n",
    "isFrequency::Descriptor->Bool\n",
    "isFrequency (DFrequency NP {}) = True\n",
    "isFrequency _ = False\n",
    "\n",
    "isThereFrequency::Event->Bool\n",
    "isThereFrequency [] = False\n",
    "isThereFrequency (x:xs)\n",
    "    | isFrequency x = True\n",
    "    | otherwise = isThereFrequency xs\n",
    "    \n",
    "getFreq'::Descriptor->(Recurring,Date,Int)\n",
    "getFreq' (DFrequency (NP a b c)) = (a,b,c)\n",
    "getFreq' _ = (Daily, Date 0 0 0 True ,0)\n",
    "\n",
    "get1st::(Recurring,Date,Int)->Recurring\n",
    "get1st (a,b,c) = a\n",
    "get2nd::(Recurring,Date,Int)->Date\n",
    "get2nd (a,b,c) = b\n",
    "get3rd::(Recurring,Date,Int)->Int\n",
    "get3rd (a,b,c) = c\n",
    "\n",
    "getFreq::Event->(Recurring,Date,Int)\n",
    "getFreq [x] = getFreq' x\n",
    "getFreq(x:xs) \n",
    "    | isFrequency x = getFreq' x\n",
    "    | otherwise = getFreq xs\n",
    "    \n",
    "-- removing elements from the dates between the date of the event and date2 depending on whether the frequency\n",
    "-- is weekly or weekday\n",
    "\n",
    "removeWeekend::[Date]->[Date]\n",
    "removeWeekend [x] \n",
    "    | isWrkd x == \"Weekday\" = [x]\n",
    "    | otherwise = []\n",
    "removeWeekend (x:xs)\n",
    "    | isWrkd x == \"Weekday\" = x : removeWeekend xs\n",
    "    | otherwise = removeWeekend xs\n",
    "    \n",
    "removeNotWeekly::[Date]->Date->[Date]\n",
    "removeNotWeekly [x] y\n",
    "    | mod ( dateToNum x - dateToNum y ) 7 == 0 = [x]\n",
    "    | otherwise = []\n",
    "removeNotWeekly (x:xs) y\n",
    "    | mod ( dateToNum x - dateToNum y ) 7 == 0 = x : removeNotWeekly xs y\n",
    "    | otherwise = removeNotWeekly xs y\n",
    "\n",
    "freqListOfDates::Event->Date->[Date]\n",
    "freqListOfDates event date2 \n",
    "    | get1st (getFreq event) == Daily = take (get3rd $ getFreq event) (getListDates (get2nd (getFreq event)) date2)\n",
    "    | get1st (getFreq event) == Weekly = take (get3rd $ getFreq event) (removeNotWeekly (getListDates (get2nd (getFreq event)) date2) (head(getListDates (get2nd (getFreq event)) date2)))\n",
    "    | get1st (getFreq event) == Weekday = take (get3rd $ getFreq event) (removeWeekend(getListDates (get2nd (getFreq event)) date2))\n",
    "\n",
    "-- 2 testing\n",
    "mydatelist = freqListOfDates [DDate (Date 3 12 2020 True), DInitial (Time 12 0), DFinal (Time 14 0), DFrequency (NP Weekday (Date 4 12 2020 True) 12)] (Date 30 12 2020 True)\n",
    "print mydatelist\n",
    "\n",
    "-- 3 we need a new event with the same characteristics of the input event\n",
    "-- but a new date for every date on the list\n",
    "\n",
    "dropDate::Event->Event\n",
    "dropDate [x]\n",
    "    | isDate x = []\n",
    "    | otherwise = [x]\n",
    "dropDate (x:xs)\n",
    "    | isDate x = dropDate xs\n",
    "    | otherwise = x : dropDate xs\n",
    "\n",
    "changeDate::Event->Date->Event\n",
    "changeDate event date \n",
    "    | not (isThereDate event) = event ++ [DDate date]\n",
    "    | otherwise = dropDate event ++ [DDate date]\n",
    "\n",
    "createFreqEvents::Event->Date->Date->[Event]\n",
    "createFreqEvents event date1 date2 = [ changeDate event a | a<- freqListOfDates event date2]\n",
    "\n",
    "-- 4 testing\n",
    "date1 = Date 1 1 2020 True\n",
    "date2 = Date 30 1 2020 True\n",
    "-- event = [DName \"Facetime every weekday\", DDate (Date 3 1 2020 True), DInitial (Time 14 0), DFinal (Time 15 0), DFrequency (NP Daily (Date 3 1 2020 True) 5)]\n",
    "event = [DName \"Facetime every day\", DDate (Date 3 1 2020 True), DInitial (Time 14 0), DFinal (Time 15 0), DFrequency (NP Weekday (Date 3 1 2020 True) 5)]\n",
    "printEvents (createFreqEvents event date1 date2)"
   ]
  },
  {
   "cell_type": "code",
   "execution_count": 37,
   "id": "4e3ecdd3",
   "metadata": {},
   "outputs": [],
   "source": [
    "-- 8.12\n",
    "-- Finally, we call the actual main function using all the auxiliary depending on case\n",
    "-- raise an error if date1 > date2 in the final function\n",
    "-- apply listAgenda to Agenda in order to have it sorted before doing anything\n",
    "-- for events with several preferences, we prioritize 1. persons 2. place 3. time\n",
    "\n",
    "---------------------------------------------------\n",
    "-- treating events with preferences\n",
    "-- logic:\n",
    "\n",
    "-- if there is a person preference\n",
    "    -- if there are slots with the person in the preference we return the first one\n",
    "    -- if there are no slots\n",
    "        -- if there is a place preference we look for it\n",
    "        -- if there is no place preferene and there is a time preference we look for it\n",
    "        -- if there are no other preferences we schedule like a normal event\n",
    "-- if there is no person preference and there is place preference\n",
    "    -- if there are slots with that place we return the first one\n",
    "    -- if there are no slots with that place\n",
    "        -- if there is a time preference we look for a slot satisfying it\n",
    "            -- if there is none, we schedule like an event without preference\n",
    "        -- if there is no time preference, we schedule like an event without preference\n",
    "-- if there is only time preference\n",
    "    -- if there is a slot satisfying it, we schedule in that slot\n",
    "    -- if not, we schedule like an event without preference\n",
    "\n",
    "slotToPersons::Slot->[String]\n",
    "slotToPersons (Slot _ _ _ (Persons p) _) = p\n",
    "slotToPlace::Slot->String\n",
    "slotToPlace (Slot _ _ _ _ p) = p\n",
    "\n",
    "slotsHavingPerson::[Slot]->String->[Slot]\n",
    "slotsHavingPerson [x] p\n",
    "    | p `elem` slotToPersons x = [x]\n",
    "    | otherwise = []\n",
    "slotsHavingPerson (x:xs) p \n",
    "    | p `elem` slotToPersons x = x : slotsHavingPerson xs p\n",
    "    | otherwise = slotsHavingPerson xs p\n",
    "\n",
    "slotsHavingPlace::[Slot]->String->[Slot]\n",
    "slotsHavingPlace [x] p\n",
    "    | p == slotToPlace x = [x]\n",
    "    | otherwise = []\n",
    "slotsHavingPlace (x:xs) p \n",
    "    | p == slotToPlace x = x : slotsHavingPlace xs p\n",
    "    | otherwise = slotsHavingPlace xs p\n",
    "\n",
    "createEventPlace::Slot->Event->Agenda->Agenda\n",
    "createEventPlace slot event (Agenda name events) = insert (event ++ [DPlace (getPlacePref event)] ++ [slotToInitial slot] ++ [slotToFinal slot]) (Agenda name events)\n",
    "\n",
    "createEventPersons::Slot->Event->Agenda->Agenda\n",
    "createEventPersons slot event (Agenda name events) = insert (event ++ [DPersons (Persons [getPersonsPref event])] ++ [slotToInitial slot] ++ [slotToFinal slot]) (Agenda name events)\n",
    "\n",
    "scheduleEventPref'::Event->[Slot]->Agenda->Date->Date->Agenda\n",
    "scheduleEventPref' event events (Agenda name e) date1 date2 \n",
    "    | (getPersonsPref event /= \"\") && not (null(slotsHavingPerson events (getPersonsPref event))) = createEventPersons (head (slotsHavingPerson events (getPersonsPref event))) event (Agenda name e)\n",
    "    | getPlacePref event == \"\" || null (slotsHavingPlace events (getPlacePref event)) = selectSlot4 event (Agenda name $ listAgenda $ Agenda name e) date1 date2\n",
    "    | otherwise = createEventPlace (head (slotsHavingPlace events (getPlacePref event))) event (Agenda name e) \n",
    "\n",
    "---------------------------------------------------\n",
    "-- treating events without non-time preferences\n",
    "scheduleEventNotPref::Event->Agenda->Date->Date->Agenda\n",
    "scheduleEventNotPref event (Agenda name events) date1 date2\n",
    "    | isTherePreferences event = selectSlot4 event (Agenda name $ listAgenda $ Agenda name events) date1 date2\n",
    "    | isThereInitial event = selectSlot1 event (Agenda name $ listAgenda $ Agenda name events) date1 date2\n",
    "    | isThereDate event = selectSlot2 event (Agenda name $ listAgenda $ Agenda name events) date1 date2\n",
    "    | otherwise = selectSlot3 event (Agenda name $ listAgenda $ Agenda name events) date1 date2 \n",
    "\n",
    "---------------------------------------------------\n",
    "-- bridge for events with non-time preferences\n",
    "scheduleEventPref::Event->Agenda->Date->Date->Agenda\n",
    "scheduleEventPref event (Agenda name events) date1 date2 = scheduleEventPref' event (availableThroughDates (getDuration event) (listAgenda (Agenda name events)) (getListDates date1 date2)) (Agenda name events) date1 date2\n",
    "\n",
    "scheduleEvent'::Event->Agenda->Date->Date->Agenda\n",
    "scheduleEvent' event (Agenda name events) date1 date2\n",
    "    | date1 > date2 = error \"The first input date must be prior to the second one\" \n",
    "    | isTherePreferences event && (getPlacePref event /= \"\" || getPersonsPref event /= \"\") = scheduleEventPref event (Agenda name events) date1 date2\n",
    "    | otherwise = scheduleEventNotPref event (Agenda name events) date1 date2\n",
    "    \n",
    "---------------------------------------------------\n",
    "-- treating events with repetition\n",
    "scheduleEventFreq::[Event]->Agenda->Date->Date->Agenda\n",
    "scheduleEventFreq [x] agenda date1 date2 = scheduleEvent' x agenda date1 date2\n",
    "scheduleEventFreq (x:xs) agenda date1 date2 = scheduleEventFreq xs (scheduleEvent' x agenda date1 date2) date1 date2\n",
    "\n",
    "---------------------------------------------------\n",
    "-- master function\n",
    "\n",
    "scheduleEvent::Event->Agenda->Date->Date->Agenda\n",
    "scheduleEvent event (Agenda name events) date1 date2\n",
    "    | date1 > date2 = error \"The first input date must be prior to the second one\" \n",
    "    | isThereFrequency event = Agenda name (listAgenda (scheduleEventFreq (createFreqEvents event date1 date2) (Agenda name events) date1 date2))\n",
    "    | otherwise = scheduleEvent' event (Agenda name events) date1 date2"
   ]
  },
  {
   "cell_type": "code",
   "execution_count": 38,
   "id": "a2620c66",
   "metadata": {},
   "outputs": [
    {
     "data": {
      "text/plain": [
       "\"Carlos agenda info:                                                                                                             Name: Meeting - Date: 3-1-2020, workday - Initial Time: 11:00 - Final Time: 12:00 - Attendants: Hugo - Place: Online - Place: Online                                                                                                                      Name: Exam - Date: 3-1-2020, workday - Initial Time: 12:30 - Final Time: 14:00 - Attendants: Gonzalo, Jorge - Place: Leganes - Place: Leganes                                                                                                                      Name: Reading - Date: 3-1-2020, workday - Initial Time: 18:15 - Final Time: 19:00 - Duration: 45 minutes - Place: Chamberi - Place: Chamberi - Preferences: Earliest Time: 09:00, Latest Time: 23:30, Place: Chamberi, Person:                                                                                                                       Name: Gym - Date: 3-1-2020, workday - Initial Time: 19:00 - Final Time: 21:00 - Attendants: Cristobal - Place: Chamberi - Place: Chamberi                                                                                                                      Name: Dinner - Date: 3-1-2020, workday - Initial Time: 21:30 - Final Time: 23:00 - Attendants: Paula - Place: Casa - Place: Casa\""
      ]
     },
     "metadata": {},
     "output_type": "display_data"
    },
    {
     "data": {
      "text/plain": [
       "\"Carlos agenda info:                                                                                                             Name: Meeting - Date: 3-1-2020, workday - Initial Time: 11:00 - Final Time: 12:00 - Attendants: Hugo - Place: Online - Place: Online                                                                                                                      Name: Exam - Date: 3-1-2020, workday - Initial Time: 12:30 - Final Time: 14:00 - Attendants: Gonzalo, Jorge - Place: Leganes - Place: Leganes                                                                                                                      Name: Facetime every weekday - Date: 3-1-2020, workday - Initial Time: 14:00 - Final Time: 15:00 - Frequency: Daily; First Date: 3-1-2020, workday; number of repetitions: 5 - Frequency: Daily; First Date: 3-1-2020, workday; number of repetitions: 5                                                                                                                      Name: Gym - Date: 3-1-2020, workday - Initial Time: 19:00 - Final Time: 21:00 - Attendants: Cristobal - Place: Chamberi - Place: Chamberi                                                                                                                      Name: Dinner - Date: 3-1-2020, workday - Initial Time: 21:30 - Final Time: 23:00 - Attendants: Paula - Place: Casa - Place: Casa                                                                                                                      Name: Facetime every weekday - Date: 4-1-2020, not a workday - Initial Time: 14:00 - Final Time: 15:00 - Frequency: Daily; First Date: 3-1-2020, workday; number of repetitions: 5 - Frequency: Daily; First Date: 3-1-2020, workday; number of repetitions: 5                                                                                                                      Name: Facetime every weekday - Date: 5-1-2020, workday - Initial Time: 14:00 - Final Time: 15:00 - Frequency: Daily; First Date: 3-1-2020, workday; number of repetitions: 5 - Frequency: Daily; First Date: 3-1-2020, workday; number of repetitions: 5                                                                                                                      Name: Running - Date: 6-1-2020, workday - Initial Time: 12:00 - Final Time: 18:00                                                                                                                      Name: Facetime every weekday - Date: 7-1-2020, workday - Initial Time: 14:00 - Final Time: 15:00 - Frequency: Daily; First Date: 3-1-2020, workday; number of repetitions: 5 - Frequency: Daily; First Date: 3-1-2020, workday; number of repetitions: 5\""
      ]
     },
     "metadata": {},
     "output_type": "display_data"
    }
   ],
   "source": [
    "-- 8.13\n",
    "-- Testing\n",
    "\n",
    "event1 = [DName \"Exam\", DDate (Date 3 1 2020 True), DInitial (Time 12 30), DFinal (Time 14 0), DPersons(Persons[\"Gonzalo\",\"Jorge\"]), DPlace \"Leganes\"]\n",
    "event2 = [DName \"Gym\", DDate (Date 3 1 2020 True), DInitial (Time 19 0), DFinal (Time 21 0), DPersons(Persons[\"Cristobal\"]), DPlace \"Chamberi\"]\n",
    "event3 = [DName \"Meeting\", DDate (Date 3 1 2020 True), DInitial (Time 11 0), DFinal (Time 12 0), DPlace \"Online\", DPersons(Persons[\"Hugo\"])]\n",
    "event4 = [DName \"Dinner\", DDate (Date 3 1 2020 True), DInitial (Time 21 30), DFinal (Time 23 0), DPersons(Persons[\"Paula\"]), DPlace\"Casa\"]\n",
    "events = [event1,event2,event3,event4]\n",
    "myAgenda = Agenda \"Carlos\" events\n",
    "date1 = Date 2 1 2020 False\n",
    "date2 = Date 4 1 2020 True\n",
    "\n",
    "event5 = [DName \"Running\", DInitial(Time 12 00), DFinal (Time 18 00), DDate (Date 6 1 2020 True)]\n",
    "events2 = events ++ [event5]\n",
    "date3 = Date 31 1 2020 True\n",
    "myAgenda2 = Agenda \"Carlos\" events2\n",
    "\n",
    "---------------\n",
    "-- error testing\n",
    "-- printAgenda (scheduleEvent event myAgenda (Date 4 1 2020 True) (Date 3 1 2020 True))\n",
    "-- works for invalid date input\n",
    "\n",
    "---------------\n",
    "-- non-preference testing\n",
    "\n",
    "-- event = [DName \"Reading\", DDuration 60, DDate (Date 4 1 2020 True)]\n",
    "-- works for no preference, partially defined in terms of date\n",
    "\n",
    "-- event = [DName \"Reading\", DInitial (Time 17 15), DFinal (Time 18 30), DDate (Date 3 1 2020 True)]\n",
    "-- works for no preference, fully defined that can be scheduled\n",
    "\n",
    "-- event = [DName \"Reading\", DInitial (Time 17 15), DFinal (Time 19 15), DDate (Date 3 1 2020 True)]\n",
    "-- works for no preference, fully defined that cannot be scheduled\n",
    "\n",
    "-- event = [DName \"Reading\", DDuration 90]\n",
    "-- works for no preference, undefined in terms of date\n",
    "\n",
    "\n",
    "---------------\n",
    "-- preference testing\n",
    "\n",
    "-- event = [DName \"Reading\", DDuration 60, DPreferences (Preferences (Time 14 0) (Time 22 0) \"Madrid\" \"Jorge\"), DDate (Date 3 1 2020 True)]\n",
    "-- works for person preference that can be satified\n",
    "\n",
    "-- event = [DName \"Reading\", DDuration 30, DPreferences (Preferences (Time 10 0) (Time 23 30) \"Casa\" \"Paco\"), DDate (Date 3 1 2020 True)]\n",
    "-- works for person preference that can't be satisfied, place preferene that can \n",
    "\n",
    "-- event = [DName \"Reading\", DDuration 60, DPreferences (Preferences (Time 08 30) (Time 09 30) \"Madrid\" \"Paco\"), DDate (Date 3 1 2020 True)]\n",
    "-- works for person preference that can't be satisfied, place preferene that can't, time preference that can\n",
    "\n",
    "-- event = [DName \"Reading\", DDuration 90, DPreferences (Preferences (Time 07 00) (Time 08 30) \"Paco\" \"\"), DDate (Date 3 1 2020 True)]\n",
    "-- works for person preference that can't be satisfied, no place preference , time preference that can\n",
    "\n",
    "-- event = [DName \"Reading\", DDuration 60, DPreferences (Preferences (Time 11 30) (Time 12 30) \"\" \"Paco\"), DDate (Date 3 1 2020 True)]\n",
    "-- works for person preference that can't be satisfied, no place preference , time preference that can't\n",
    "\n",
    "event = [DName \"Reading\", DDuration 45, DPreferences (Preferences (Time 09 0) (Time 23 30) \"Chamberi\" \"\"), DDate (Date 3 1 2020 True)]\n",
    "-- works for place preference that can be satisfied, no person preference\n",
    "\n",
    "-- event = [DName \"Reading\", DDuration 45, DPreferences (Preferences (Time 09 0) (Time 23 30) \"Barcelona\" \"\"), DDate (Date 3 1 2020 True)]\n",
    "-- works for place preference that can't be satisfied, no person preference, time preference that can\n",
    "\n",
    "-- event = [DName \"Reading\", DDuration 45, DPreferences (Preferences (Time 11 0) (Time 12 0) \"Barcelona\" \"\"), DDate (Date 3 1 2020 True)]\n",
    "-- works for place preference that can't be satisfied, no person preference, time preference that can't\n",
    "\n",
    "-- event = [DName \"Reading\", DDuration 60, DPreferences (Preferences (Time 18 0) (Time 19 0) \"\" \"\"), DDate (Date 3 1 2020 True)]\n",
    "-- works for just time preference that can be satisfied\n",
    "\n",
    "-- event = [DName \"Reading\", DDuration 90, DPreferences (Preferences (Time 18 0) (Time 19 30) \"\" \"\"), DDate (Date 3 1 2020 True)]\n",
    "-- works for just time preference that can't be statisfied\n",
    "\n",
    "---------------\n",
    "-- frequency testing\n",
    "event' = [DName \"Facetime every weekday\", DDate (Date 3 1 2020 True), DInitial (Time 14 0), DFinal (Time 15 0), DFrequency (NP Daily (Date 3 1 2020 True) 5)]\n",
    "-- works for events that repeat themselves\n",
    "-- createFreqEvents event' date1 date3\n",
    "\n",
    "printAgenda (scheduleEvent event myAgenda date1 date2)\n",
    "printAgenda (scheduleEvent event' myAgenda2 date1 date3)"
   ]
  },
  {
   "cell_type": "markdown",
   "id": "4b83032c",
   "metadata": {},
   "source": [
    "### Exercise 9\n",
    "\n",
    "\n",
    "In this section we create a function allPossibleSchedules Event Agenda StartDate EndDate that schedules all the events in an input agendas with all possible schedules for the event that respect preferences.\n",
    "\n",
    "We reuse and slightly tweak methods from the previous section, again depending on the decision tree of scheduling events based on present preferences.\n",
    "\n",
    "Based on the statement we must return all the possible schedules for the event that respect preferences, this leads us to developed a more constrained approach than that of the previous exercises where we dropped preferences iteratively until we found an empty slot for the event, even if it does not satisfy some or all input preferences.\n",
    "\n",
    "In this case we look for a slot that satisfies all preferences and, if there is none, the list of agendas will be empty, since there is no possible agenda to choose from. \n",
    "\n",
    "For events fully defined in terms of date, we either return one or zero agendas, depending on whether the time for the event is already occupied or not, if the events are partially defined, i.e, date and duration are present, we return as many agendas as slots with that duration on that date that are right before or after an already scheduled event.\n",
    "\n",
    "If the event is not defined in terms of date, we do the same as above but with every single date between the input dates of the function.\n",
    "\n",
    "Also if the start input date is greater than the end input date we return an error message."
   ]
  },
  {
   "cell_type": "code",
   "execution_count": 39,
   "id": "76447b77",
   "metadata": {},
   "outputs": [],
   "source": [
    "-- 9 \n",
    "\n",
    "-- APPROACH: reuse and slightly tweak methods and functions from 8 to,\n",
    "-- again depending on a decision tree depending on event preferences and degree of time definition,\n",
    "-- get a list of different possible agendas. \n",
    "\n",
    "-- First we get the potential slots, with special attention for events with preferences\n",
    "-- since wehave to make sure those slots satisfy such preferences (***), then for each potential slot\n",
    "-- we add to the return list an agenda where the event is placed in that slot\n",
    "\n",
    "-- *** from the exercise statement we are told \"all the possible schedules for the event that respect preferences\"\n",
    "-- This forces us to apply a different, more strict approach than in exercise 8, where preferences could be\n",
    "-- iteratively ignored such that we at least found an empty slot for the event, even if it does not satisfy\n",
    "-- the main preference(s) or even none of them\n",
    "-- Here on the other hand, we must look for a slot that satisfies all preferences and, if there is none,\n",
    "-- the list of agendas will be empty since there is no possible agenda to choose from, since no agenda would\n",
    "-- respect the event preferences\n",
    "\n",
    "-- for events fully defined in terms of date, we either return one or zero agendas depending on whether the\n",
    "-- time for the event is already occupied or not\n",
    "\n",
    "possibleAgendas2::Event->Agenda->Date->Date->[Agenda]\n",
    "possibleAgendas2 event (Agenda name events) date1 date2\n",
    "    | anyIncluded (timesToSlot event) (getSlots events) = []\n",
    "    | otherwise = [insert event (Agenda name events)]\n",
    "    \n",
    "-- for events partially defined (date+duration), we return as many agendas as slots with that duration \n",
    "-- on that date that are right before or after an already scheduled event (otherwise we would have potentially hundreds)\n",
    "\n",
    "-- for events not defined in terms of date, we do the same as above but with every single date between\n",
    "-- the input dates of the main function\n",
    "    \n",
    "readyToInsert2::Event->Slot->Event\n",
    "readyToInsert2 event slot \n",
    "    | isThereDate event = event ++ [slotToInitial slot] ++ [slotToFinal slot]\n",
    "    | otherwise = event ++ [slotToDate slot] ++ [slotToInitial slot] ++ [slotToFinal slot]\n",
    "\n",
    "possibleAgendas3::Event->[Slot]->Agenda->[Agenda]\n",
    "possibleAgendas3 event [x] (Agenda name events) = [insert (readyToInsert2 event x) (Agenda name events)]\n",
    "possibleAgendas3 event (x:xs) (Agenda name events) = insert (readyToInsert2 event x) (Agenda name events) : possibleAgendas3 event xs (Agenda name events)\n",
    "\n",
    "-- for events with preferences, we get the preferences from the event. If some of them is empty (recall \"\" implies\n",
    "-- no preference), we will not take it into account when looking for a slot satisfyinhg those preferences: just like\n",
    "-- in the previous exercise, we get the preferences that events can satisfy by the place and Persons of events\n",
    "-- scheduled right before or after the slot\n",
    "\n",
    "-- we don't know if an event has all preferences specified so, in case of scheduling it, we need to make sure\n",
    "-- what descriptors to add to the event based on what preferences it has\n",
    "\n",
    "readyToInsert::Event->Slot->Event\n",
    "readyToInsert event slot \n",
    "    | isThereDate event && getPlacePref event == \"\" && getPersonsPref event == \"\" = event ++ [slotToInitial slot] ++ [slotToFinal slot]\n",
    "    | isThereDate event && getPlacePref event /= \"\" && getPersonsPref event == \"\" = event ++ [slotToInitial slot] ++ [slotToFinal slot] ++[DPlace (getPlacePref event)]\n",
    "    | isThereDate event && getPlacePref event == \"\" && getPersonsPref event /= \"\" = event ++ [slotToInitial slot] ++ [slotToFinal slot] ++[DPersons (Persons [getPersonsPref event])]\n",
    "    | isThereDate event && getPlacePref event /= \"\" && getPersonsPref event /= \"\" = event ++ [slotToInitial slot] ++ [slotToFinal slot] ++[DPersons (Persons [getPersonsPref event])] ++ [DPlace (getPlacePref event)]\n",
    "    | not (isThereDate event) && getPlacePref event == \"\" && getPersonsPref event == \"\" = event ++ [slotToDate slot] ++ [slotToInitial slot] ++ [slotToFinal slot]\n",
    "    | not (isThereDate event) && getPlacePref event /= \"\" && getPersonsPref event == \"\" = event ++ [slotToDate slot] ++ [slotToInitial slot] ++ [slotToFinal slot] ++[DPlace (getPlacePref event)]\n",
    "    | not (isThereDate event) && getPlacePref event == \"\" && getPersonsPref event /= \"\" = event ++ [slotToDate slot] ++ [slotToInitial slot] ++ [slotToFinal slot] ++[DPersons (Persons [getPersonsPref event])]\n",
    "    | otherwise = event ++ [slotToDate slot] ++ [slotToInitial slot] ++ [slotToFinal slot] ++[DPersons (Persons [getPersonsPref event])] ++[DPlace (getPlacePref event)] \n",
    "    \n",
    "includesAllPref::Slot->Event->Bool\n",
    "includesAllPref slot event\n",
    "    | (not (isThereDate event) || (isThereDate event && getDate event == getDate[slotToDate slot])) && getInitial[slotToInitial slot] >= initialPref (getPreferences event) && getFinal[slotToFinal slot] <= finalPref(getPreferences event) && (getPersonsPref event == \"\" || (getPersonsPref event `elem` slotToPersons slot)) && (getPlacePref event == \"\" || (getPlacePref event == slotToPlace slot)) = True\n",
    "    | otherwise = False\n",
    "    \n",
    "possibleAgendas1::Event->[Slot]->Agenda->[Agenda]\n",
    "possibleAgendas1 event [x] (Agenda name events)\n",
    "    | includesAllPref x event = [insert (readyToInsert event x) (Agenda name events)]\n",
    "    | otherwise = []\n",
    "possibleAgendas1 event (x:xs) (Agenda name events)\n",
    "    | includesAllPref x event = insert (readyToInsert event x) (Agenda name events) : possibleAgendas1 event xs (Agenda name events)\n",
    "    | otherwise = possibleAgendas1 event xs (Agenda name events)\n",
    "    \n",
    "-- master function\n",
    "allPossibleSchedules::Event->Agenda->Date->Date->[Agenda]\n",
    "allPossibleSchedules event (Agenda name events) date1 date2\n",
    "    -- error\n",
    "    | date1 > date2 = error \"The first input date must be prior to the second one\" \n",
    "    -- preferences\n",
    "    | isTherePreferences event && not (isThereDate event) = possibleAgendas1 event (availableThroughDates (getDuration event) events (getListDates date1 date2)) (Agenda name events)\n",
    "    | isTherePreferences event && isThereDate event = possibleAgendas1 event (availableThroughDates (getDuration event) events (getListDates (getDate event) (getDate event))) (Agenda name events)\n",
    "    -- no preferences, fully defined\n",
    "    | isThereInitial event = possibleAgendas2 event (Agenda name events) date1 date2\n",
    "    -- no pref, partially defined\n",
    "    | isThereDate event = possibleAgendas3 event (availableThroughDates (getDuration event) events (getListDates (getDate event) (getDate event))) (Agenda name events)\n",
    "    -- no pref, undefined in terms of time\n",
    "    | otherwise = possibleAgendas3 event (availableThroughDates (getDuration event) events (getListDates date1 date2)) (Agenda name events)\n"
   ]
  },
  {
   "cell_type": "code",
   "execution_count": 40,
   "id": "e5c3fe0d",
   "metadata": {},
   "outputs": [
    {
     "data": {
      "text/plain": [
       "\"Carlos agenda info:                                                                                                             Name: Meeting - Date: 3-1-2020, workday - Initial Time: 11:00 - Final Time: 12:00 - Attendants: Hugo - Place: Online - Place: Online                                                                                                                      Name: Reading - Date: 3-1-2020, workday - Initial Time: 12:05 - Final Time: 12:30 - Duration: 25 minutes - Attendants: Jorge - Place: Leganes - Place: Leganes - Preferences: Earliest Time: 08:00, Latest Time: 24:00, Place: Leganes, Person: Jorge                                                                                                                      Name: Exam - Date: 3-1-2020, workday - Initial Time: 12:30 - Final Time: 14:00 - Attendants: Gonzalo, Jorge - Place: Leganes - Place: Leganes                                                                                                                      Name: Gym - Date: 3-1-2020, workday - Initial Time: 19:00 - Final Time: 21:00 - Attendants: Cristobal - Place: Chamberi - Place: Chamberi                                                                                                                      Name: Dinner - Date: 3-1-2020, workday - Initial Time: 21:30 - Final Time: 23:00 - Attendants: Paula - Place: Casa - Place: Casa.........................................................................................................................                                                                                                          Carlos agenda info:                                                                                                             Name: Meeting - Date: 3-1-2020, workday - Initial Time: 11:00 - Final Time: 12:00 - Attendants: Hugo - Place: Online - Place: Online                                                                                                                      Name: Exam - Date: 3-1-2020, workday - Initial Time: 12:30 - Final Time: 14:00 - Attendants: Gonzalo, Jorge - Place: Leganes - Place: Leganes                                                                                                                      Name: Reading - Date: 3-1-2020, workday - Initial Time: 14:00 - Final Time: 14:25 - Duration: 25 minutes - Attendants: Jorge - Place: Leganes - Place: Leganes - Preferences: Earliest Time: 08:00, Latest Time: 24:00, Place: Leganes, Person: Jorge                                                                                                                      Name: Gym - Date: 3-1-2020, workday - Initial Time: 19:00 - Final Time: 21:00 - Attendants: Cristobal - Place: Chamberi - Place: Chamberi                                                                                                                      Name: Dinner - Date: 3-1-2020, workday - Initial Time: 21:30 - Final Time: 23:00 - Attendants: Paula - Place: Casa - Place: Casa\""
      ]
     },
     "metadata": {},
     "output_type": "display_data"
    }
   ],
   "source": [
    "-- 9.testing\n",
    "printAgendas::[Agenda]->String\n",
    "printAgendas [x] = printAgenda x\n",
    "printAgendas (x:xs) = printAgenda x ++ \".........................................................................................................................                                                                                                          \" ++ printAgendas xs\n",
    "printAgendas [] = \"No possible agendas, no available slot can fit the event\"\n",
    " \n",
    "event1 = [DName \"Exam\", DDate (Date 3 1 2020 True), DInitial (Time 12 30), DFinal (Time 14 0), DPersons(Persons[\"Gonzalo\",\"Jorge\"]), DPlace \"Leganes\"]\n",
    "event2 = [DName \"Gym\", DDate (Date 3 1 2020 True), DInitial (Time 19 0), DFinal (Time 21 0), DPersons(Persons[\"Cristobal\"]), DPlace \"Chamberi\"]\n",
    "event3 = [DName \"Meeting\", DDate (Date 3 1 2020 True), DInitial (Time 11 0), DFinal (Time 12 0), DPlace \"Online\", DPersons(Persons[\"Hugo\"])]\n",
    "event4 = [DName \"Dinner\", DDate (Date 3 1 2020 True), DInitial (Time 21 30), DFinal (Time 23 0), DPersons(Persons[\"Paula\"]), DPlace\"Casa\"]\n",
    "events = [event1,event2,event3,event4]\n",
    "myAgenda = Agenda \"Carlos\" events\n",
    "date1 = Date 3 1 2020 True\n",
    "date2 = Date 4 1 2020 True\n",
    "\n",
    "---------------\n",
    "-- error testing\n",
    "-- printAgendas (allPossibleSchedules event myAgenda date2 date1)\n",
    "-- works for invalid date input\n",
    "\n",
    "---------------\n",
    "-- non-preference testing\n",
    "\n",
    "-- event = [DName \"Reading\", DDuration 60, DDate (Date 4 1 2020 True)]\n",
    "-- works for no preference, partially defined in terms of date\n",
    "\n",
    "-- event = [DName \"Reading\", DInitial (Time 17 15), DFinal (Time 18 30), DDate (Date 3 1 2020 True)]\n",
    "-- works for no preference, fully defined that can be scheduled\n",
    "\n",
    "-- event = [DName \"Reading\", DInitial (Time 17 15), DFinal (Time 19 15), DDate (Date 3 1 2020 True)]\n",
    "-- works for no preference, fully defined that cannot be scheduled\n",
    "\n",
    "-- event = [DName \"Reading\", DDuration 90]\n",
    "-- works for no preference, undefined in terms of date\n",
    "\n",
    "\n",
    "---------------\n",
    "-- preference testing\n",
    "\n",
    "event = [DName \"Reading\", DDuration 25, DPreferences (Preferences (Time 8 0) (Time 24 0) \"Leganes\" \"Jorge\"), DDate (Date 3 1 2020 True)]\n",
    "-- event = [DName \"Reading\", DDuration 70, DPreferences (Preferences (Time 08 0) (Time 24 0) \"Leganes\" \"\")]\n",
    "-- event = [DName \"Reading\", DDuration 120, DPreferences (Preferences (Time 19 0) (Time 24 0) \"\" \"\")]\n",
    "-- works for preferences that can be satified\n",
    "\n",
    "-- event = [DName \"Reading\", DDuration 60, DPreferences (Preferences (Time 8 0) (Time 14 0) \"Leganes\" \"Jorge\"), DDate (Date 3 1 2020 True)]\n",
    "-- event = [DName \"Reading\", DDuration 70, DPreferences (Preferences (Time 9 0) (Time 7 0) \"\" \"\")]\n",
    "-- event = [DName \"Reading\", DDuration 120, DPreferences (Preferences (Time 19 0) (Time 24 0) \"\" \"\"), DDate (Date 3 1 2020 True)]\n",
    "-- event = [DName \"Reading\", DDuration 60, DPreferences (Preferences (Time 0 0) (Time 24 0) \"Chamberi\" \"Jorge\"), DDate (Date 3 1 2020 True)]\n",
    "-- works for preferences that can't be satified\n",
    "\n",
    "printAgendas (allPossibleSchedules event myAgenda date1 date2)"
   ]
  },
  {
   "cell_type": "markdown",
   "id": "94aec702",
   "metadata": {},
   "source": [
    "### Exercise 10\n",
    "\n",
    "In this exercise we want to schedule a list of input events in a list of input agendas so that they can take place simultaneously, within some date bounds, returning a list with the new agendas.\n",
    "\n",
    "Our first observation is that in this exercise in very few cases will we not be able to schedule an event, since it would have to be very long, on a fixed date an that date be very occupied in the owner's agendas.\n",
    "\n",
    "The idea is to first call on an event and agenda list basis, and then iterate through the list of events, getting a list of available slots for the event on each agenda, point at which we reuse methods from section 9, we get the intersection of those agendas, and if it is not empty, we update each agenda with the scheduled event on the first position of the slot intersection, and if it is in fact empty, we return the list of agendas as is."
   ]
  },
  {
   "cell_type": "code",
   "execution_count": 41,
   "id": "c9ea6fd7",
   "metadata": {
    "scrolled": false
   },
   "outputs": [],
   "source": [
    "-- 10. scheduleSharedEvents [Event] [Agenda] StartDate EndDate\n",
    "\n",
    "-- Note that for this exercise, in theory, it would be very hard to NOT be able to schedule an event, \n",
    "-- unless it is very long + fixed on a date + on that date both owner of agendas have a lot of events scheduled.\n",
    "\n",
    "-- What that means is, if there are 2 hours that both of them have free and the event is 30 minutes, \n",
    "-- there are up to 90 (2*60-90) times to schedule it that work\n",
    "-- It does not make sense to work like this because:\n",
    "-- 1. No one is scheduling tasks at times like “18:23-19:13”\n",
    "-- 2. Scheduling it right in the middle of two events FOR ALL OWNERS is bad because it creates holes in the agenda \n",
    "-- that are hard to fill, which can be useful time if instead we focus on scheduling events \n",
    "-- right before or right after what is already scheduled\n",
    "\n",
    "-- Therefore, it is fine for the rest of the owners to adapt to a time slot that makes sense for one of the owners \n",
    "-- according to the logic we just described, but we are not going to go through the (anywhere up to 1440) \n",
    "-- possible time frames in a day just to find one that complicates everyones’ agenda.\n",
    "\n",
    "-- approach\n",
    "-- First we call on an Event [Agenda] basis and then we will iterate the method created for that level over the\n",
    "-- list of Events. \n",
    "-- We get a list of available slots for the event on each agenda, where we can reimplement methods from part 9\n",
    "-- we get the intersection of those agendas. If it not empty, we update each agenda with the event on that\n",
    "-- the first position of the intersection of slots. If it is, we keep the agendas the same.\n",
    "\n",
    "-- 1. for each agenda in the input, get the allPossibleSchedules of the event in the agenda\n",
    "-- 2. for each agenda in allPossibleAgendas:\n",
    "    -- use searchEvent to find the event already inserted \n",
    "    -- use getSlot to create a slot from the event data\n",
    "-- 3. create a list with the slots of the event for each agenda\n",
    "\n",
    "getEventFromAgenda10::Agenda->Event\n",
    "getEventFromAgenda10 (Agenda name events) \n",
    "    | null events = []\n",
    "    | otherwise = head events\n",
    "    \n",
    "possibleSlot::Agenda->Event->[Slot]\n",
    "possibleSlot agenda event\n",
    "    | null event = []\n",
    "    | otherwise = getSlots [getEventFromAgenda10 (searchEvents event agenda)]\n",
    "    \n",
    "allPossibleSlots::[Agenda]->Event->[Slot]\n",
    "allPossibleSlots [] event = []\n",
    "allPossibleSlots [x] event = possibleSlot x event\n",
    "allPossibleSlots (x:xs) event = possibleSlot x event ++ allPossibleSlots xs event\n",
    "\n",
    "-- call that function as \n",
    "-- allPossibleSlots (allPossibleSchedules event agenda date1 date2) event\n",
    "-- for each agenda to get their list of slots\n",
    "\n",
    "allPossibleSlotLists::[Agenda]->Event->Date->Date->[[Slot]]\n",
    "allPossibleSlotLists xs event date1 date2 = [allPossibleSlots (allPossibleSchedules event a date1 date2) event | a <- xs]\n",
    "\n",
    "-- 4. get the intersection of lists of slots\n",
    "eqSlot::Slot->Slot->Bool\n",
    "eqSlot (Slot i1 f1 d1 pl1 pe1) (Slot i2 f2 d2 pl2 pe2) = i1==i2 && f1==f2 && d1==d2\n",
    "instance Eq Slot where\n",
    "    slot1==slot2 = eqSlot slot1 slot2\n",
    "    \n",
    "inAll::Slot->[[Slot]]->Bool\n",
    "inAll slot (x:xs)\n",
    "    | null x = False\n",
    "    | slot `elem` x = inAll slot xs\n",
    "    | otherwise = False\n",
    "inAll slot [x]\n",
    "    | null x = False\n",
    "    | slot `elem` x = True\n",
    "    | otherwise = False\n",
    "inAll slot [] = True\n",
    "    \n",
    "intersection::[Slot]->[[Slot]]->[Slot]\n",
    "intersection xs ys  = [ a | a<-xs, inAll a ys ]\n",
    "\n",
    "-- 5. pick the first slot and update agendas if list not empty, agendas stays the same if list empty\n",
    "\n",
    "readyToInsert'::Event->Slot->Event\n",
    "readyToInsert' event slot\n",
    "    | slotToPersons slot /= [] || slotToPlace slot /= \"\" = readyToInsert event slot\n",
    "    | otherwise = readyToInsert2 event slot\n",
    "    \n",
    "getCommonEvent::[Agenda]->Event->Date->Date->Event\n",
    "getCommonEvent xs event date1 date2\n",
    "    | null (intersection (head(allPossibleSlotLists xs event date1 date2)) (tail(allPossibleSlotLists xs event date1 date2))) = []\n",
    "    | otherwise = readyToInsert' event (head (intersection (head(allPossibleSlotLists xs event date1 date2)) (tail(allPossibleSlotLists xs event date1 date2))))\n",
    "    \n",
    "-- 6. pass updated agendas to the next event\n",
    "insertInOne::Agenda->Event->Agenda\n",
    "insertInOne agenda event\n",
    "    | null event = agenda\n",
    "    | otherwise = insert event agenda\n",
    "    \n",
    "insertInAll::[Agenda]->Event->Date->Date->[Agenda]\n",
    "insertInAll xs event date1 date2 = [insertInOne a (getCommonEvent xs event date1 date2) | a <- xs ]\n",
    "\n",
    "-- We pass the list of updated agendas to next event and iterate\n",
    "scheduleSharedEvents::[Event]->[Agenda]->Date->Date->[Agenda]\n",
    "scheduleSharedEvents [x] ys date1 date2\n",
    "    | date2 < date1 = error \"The first input date must be prior to the second one\" \n",
    "    | otherwise = insertInAll ys x date1 date2\n",
    "scheduleSharedEvents (x:xs) ys date1 date2\n",
    "    | date2 < date1 = error \"The first input date must be prior to the second one\" \n",
    "    | otherwise = scheduleSharedEvents xs (insertInAll ys x date1 date2) date1 date2"
   ]
  },
  {
   "cell_type": "code",
   "execution_count": 42,
   "id": "afd42335",
   "metadata": {},
   "outputs": [
    {
     "data": {
      "text/plain": [
       "\"Carlos agenda info:                                                                                                             Name: Read Harry Potter - Date: 3-1-2020, workday - Initial Time: 00:00 - Final Time: 01:00 - Duration: 60 minutes                                                                                                                      Name: Meeting - Date: 3-1-2020, workday - Initial Time: 11:00 - Final Time: 12:00 - Attendants: Carlos, Mengano, Faustino - Place: Online - Place: Online                                                                                                                      Name: Exam - Date: 3-1-2020, workday - Initial Time: 12:30 - Final Time: 14:00 - Attendants: Carlos, Jorge, Faustino - Place: Leganes - Place: Leganes                                                                                                                      Name: Read Cracking the Coding Interview - Date: 3-1-2020, workday - Initial Time: 15:45 - Final Time: 17:15 - Duration: 90 minutes - Preferences: Earliest Time: 08:00, Latest Time: 24:00, Place: , Person:                                                                                                                       Name: Read Hunger Games - Date: 3-1-2020, workday - Initial Time: 17:15 - Final Time: 18:30                                                                                                                      Name: Gym - Date: 3-1-2020, workday - Initial Time: 19:00 - Final Time: 21:00 - Attendants: Carlos, Jorge, Mengano, Faustino - Place: Chamberi - Place: Chamberi.........................................................................................................................                                                                                                          Jorge agenda info:                                                                                                             Name: Read Harry Potter - Date: 3-1-2020, workday - Initial Time: 00:00 - Final Time: 01:00 - Duration: 60 minutes                                                                                                                      Name: Exam - Date: 3-1-2020, workday - Initial Time: 12:30 - Final Time: 14:00 - Attendants: Carlos, Jorge, Faustino - Place: Leganes - Place: Leganes                                                                                                                      Name: Read Cracking the Coding Interview - Date: 3-1-2020, workday - Initial Time: 15:45 - Final Time: 17:15 - Duration: 90 minutes - Preferences: Earliest Time: 08:00, Latest Time: 24:00, Place: , Person:                                                                                                                       Name: Read Hunger Games - Date: 3-1-2020, workday - Initial Time: 17:15 - Final Time: 18:30                                                                                                                      Name: Gym - Date: 3-1-2020, workday - Initial Time: 19:00 - Final Time: 21:00 - Attendants: Carlos, Jorge, Mengano, Faustino - Place: Chamberi - Place: Chamberi                                                                                                                      Name: Dinner - Date: 3-1-2020, workday - Initial Time: 21:30 - Final Time: 23:00 - Attendants: Jorge, Mengano, Faustino - Place: Bel Mondo - Place: Bel Mondo.........................................................................................................................                                                                                                          Mengano agenda info:                                                                                                             Name: Read Harry Potter - Date: 3-1-2020, workday - Initial Time: 00:00 - Final Time: 01:00 - Duration: 60 minutes                                                                                                                      Name: Meeting - Date: 3-1-2020, workday - Initial Time: 11:00 - Final Time: 12:00 - Attendants: Carlos, Mengano, Faustino - Place: Online - Place: Online                                                                                                                      Name: Read Cracking the Coding Interview - Date: 3-1-2020, workday - Initial Time: 15:45 - Final Time: 17:15 - Duration: 90 minutes - Preferences: Earliest Time: 08:00, Latest Time: 24:00, Place: , Person:                                                                                                                       Name: Read Hunger Games - Date: 3-1-2020, workday - Initial Time: 17:15 - Final Time: 18:30                                                                                                                      Name: Gym - Date: 3-1-2020, workday - Initial Time: 19:00 - Final Time: 21:00 - Attendants: Carlos, Jorge, Mengano, Faustino - Place: Chamberi - Place: Chamberi                                                                                                                      Name: Dinner - Date: 3-1-2020, workday - Initial Time: 21:30 - Final Time: 23:00 - Attendants: Jorge, Mengano, Faustino - Place: Bel Mondo - Place: Bel Mondo.........................................................................................................................                                                                                                          Faustino agenda info:                                                                                                             Name: Read Harry Potter - Date: 3-1-2020, workday - Initial Time: 00:00 - Final Time: 01:00 - Duration: 60 minutes                                                                                                                      Name: Meeting - Date: 3-1-2020, workday - Initial Time: 11:00 - Final Time: 12:00 - Attendants: Carlos, Mengano, Faustino - Place: Online - Place: Online                                                                                                                      Name: Exam - Date: 3-1-2020, workday - Initial Time: 12:30 - Final Time: 14:00 - Attendants: Carlos, Jorge, Faustino - Place: Leganes - Place: Leganes                                                                                                                      Name: Read Cracking the Coding Interview - Date: 3-1-2020, workday - Initial Time: 15:45 - Final Time: 17:15 - Duration: 90 minutes - Preferences: Earliest Time: 08:00, Latest Time: 24:00, Place: , Person:                                                                                                                       Name: Read Hunger Games - Date: 3-1-2020, workday - Initial Time: 17:15 - Final Time: 18:30                                                                                                                      Name: Gym - Date: 3-1-2020, workday - Initial Time: 19:00 - Final Time: 21:00 - Attendants: Carlos, Jorge, Mengano, Faustino - Place: Chamberi - Place: Chamberi                                                                                                                      Name: Dinner - Date: 3-1-2020, workday - Initial Time: 21:30 - Final Time: 23:00 - Attendants: Jorge, Mengano, Faustino - Place: Bel Mondo - Place: Bel Mondo\""
      ]
     },
     "metadata": {},
     "output_type": "display_data"
    }
   ],
   "source": [
    "-- 10.testing\n",
    " \n",
    "event1 = [DName \"Exam\", DDate (Date 3 1 2020 True), DInitial (Time 12 30), DFinal (Time 14 0), DPersons(Persons[\"Carlos\",\"Jorge\",\"Faustino\"]), DPlace \"Leganes\"]\n",
    "event2 = [DName \"Gym\", DDate (Date 3 1 2020 True), DInitial (Time 19 0), DFinal (Time 21 0), DPersons(Persons[\"Carlos\",\"Jorge\",\"Mengano\", \"Faustino\"]), DPlace \"Chamberi\"]\n",
    "event3 = [DName \"Meeting\", DDate (Date 3 1 2020 True), DInitial (Time 11 0), DFinal (Time 12 0), DPersons(Persons[\"Carlos\",\"Mengano\",\"Faustino\"]),  DPlace \"Online\"]\n",
    "event4 = [DName \"Dinner\", DDate (Date 3 1 2020 True), DInitial (Time 21 30), DFinal (Time 23 0), DPersons(Persons[\"Jorge\",\"Mengano\",\"Faustino\"]), DPlace\"Bel Mondo\"]\n",
    "\n",
    "-- for making sure the logic works, but doesn't leave room for much\n",
    "event5 = [DName \"Filling Mengano's Agenda such that nothing can be scheduled that day\", DDate (Date 3 1 2020 True), DInitial (Time 2 30), DFinal (Time 24 0), DPersons(Persons[\"Mengano\"])]\n",
    "\n",
    "agenda1 = Agenda \"Carlos\" [event1,event2,event3]\n",
    "agenda2 = Agenda \"Jorge\" [event1,event2,event4]\n",
    "agenda3 = Agenda \"Mengano\" [event2,event3,event4]\n",
    "-- agenda3 = Agenda \"Mengano\" [event5]\n",
    "agenda4 = Agenda \"Faustino\" [event1, event2, event3, event4]\n",
    "\n",
    "agendas = [agenda1, agenda2, agenda3, agenda4]\n",
    "\n",
    "newevent1 = [DName \"Read Harry Potter\", DDuration 60, DDate (Date 3 1 2020 True)]\n",
    "newevent2 = [DName \"Read Hunger Games\", DInitial (Time 17 15), DFinal (Time 18 30), DDate (Date 3 1 2020 True)]\n",
    "newevent3 = [DName \"Read 48 Laws of Power\", DInitial (Time 17 15), DFinal (Time 19 15), DDate (Date 3 1 2020 True)]\n",
    "newevent4 = [DName \"Read Cracking the Coding Interview\", DDuration 90, DPreferences (Preferences (Time 8 0) (Time 24 0) \"\" \"\")]\n",
    "newevent5 = [DName \"Read 11 Rules For Life\", DDuration 25, DPreferences (Preferences (Time 8 0) (Time 24 0) \"Leganes\" \"Jorge\"), DDate (Date 3 1 2020 True)]\n",
    "newevent6 = [DName \"Read Meditations\", DDuration 70, DPreferences (Preferences (Time 08 0) (Time 24 0) \"Leganes\" \"\")]\n",
    "newevent7 = [DName \"Do nothing\", DDuration 120, DPreferences (Preferences (Time 19 0) (Time 24 0) \"\" \"\")]\n",
    "newevent8 = [DName \"Read whatever they want\", DDuration 60, DPreferences (Preferences (Time 8 0) (Time 14 0) \"Leganes\" \"Jorge\"), DDate (Date 3 1 2020 True)]\n",
    "newevent9 = [DName \"Read Haskell questions on Stack Overflow\", DDuration 70, DPreferences (Preferences (Time 9 0) (Time 7 0) \"\" \"\")]\n",
    "newevent10 = [DName \"Read Rich Dad, Poor Dad\", DDuration 120, DPreferences (Preferences (Time 19 0) (Time 24 0) \"\" \"\"), DDate (Date 3 1 2020 True)]\n",
    "\n",
    "date1 = Date 3 1 2020 True\n",
    "date2 = Date 3 1 2020 True\n",
    "\n",
    "---------------\n",
    "-- error testing\n",
    "-- printAgendas (scheduleSharedEvents newevents agendas date2 date1)\n",
    "-- works for invalid date input\n",
    "\n",
    "-- nice example showing the dynamic:\n",
    "-- do newevents = [newevent6] to be able to focus on one event at a time. Start with the current test data\n",
    "-- run it, then change the gym place to Leganes and run it again. Observ how it changes, our approach worked.\n",
    "\n",
    "-- nice example, even more complex and dynamic, showing the full power of the exercise\n",
    "-- 4 friends want to read as many books in a day as possible\n",
    "-- they estimate for how much time they want to read each and they may add some additional prefferences\n",
    "-- the order of readings in th list [events] is the preference order for the books, since it is the order that will be followed\n",
    "-- for filling the schedule\n",
    "\n",
    "newevents = [newevent1,newevent2,newevent3,newevent4,newevent5,newevent6,newevent7,newevent8,newevent9,newevent10]\n",
    "printAgendas (scheduleSharedEvents newevents agendas date1 date2)\n",
    "\n",
    "-- it turns out that on that particular date, given their agendas, schedules, characteristics of events and preferences,\n",
    "-- the 4 friends can get together to read Harry Potter, Hunger Games and Cracking the Coding Interview"
   ]
  },
  {
   "cell_type": "markdown",
   "id": "ba6d98d5",
   "metadata": {},
   "source": [
    "### Exercise 11\n",
    "\n",
    "In this section we develop functions that allow the user to create and see an Agenda, and to search, create, insert, delete and schedule Events in one or several Agendas.\n",
    "\n",
    "The first thing we do is define functions to read the different types that the descriptors can take (name, place, duration, initial, final, persons ...), while also doing error checking in particular checking that a possible input date is valid, valid times and categories. Then we defined a recursive function to read descriptors until the user desires to stop, this allows the user to create an event in an IO fashion. Once we have this $readDescriptors$ function we define a $createEvent$ function to perform checking on the input descriptors, possible input duration must match the difference between initial and final time if the three are specified, if we have two names or two places we will by default remove the second one from the list.\n",
    "\n",
    "Once we have this, we employ recursion once more to create an agenda with a name and a series of calls to the createEvent function. Before creating the agenda we pass the read event list through a checker that ensures that the owner is part of the persons descriptor for each event and is at the first place.\n",
    "\n",
    "Once the agenda and event creation have been taken care of, we focus on visualization, in order to see the contents of the agenda we define three IO based functions, the first one, $printEvent$ to see descriptors in an event, which just receives an event and prints descriptor by descriptor, the second one $printEvents$ which receives a list of events and for each item calls the first function, and the third printAgenda which just prints the name and then makes a call to the second function passing its event list as input.\n",
    "\n",
    "Now in order to insert, delete and schedule an event exploiting IO we will work on top of the methods defined in sections 5, 7 and 8 respectively. In order to insert an event into an agenda we remove the event as parameter and read it from the user, once we have it read, we just call the method in section 5. This same idea is followed for deletion and insertion as well."
   ]
  },
  {
   "cell_type": "code",
   "execution_count": 43,
   "id": "b707bc5a",
   "metadata": {},
   "outputs": [],
   "source": [
    "-- 11. Creation of functions to allow the user to see, create and insert in Agendas\n",
    "-- idea:\n",
    "-- first import control monad, necessary to get the functor and monad classes\n",
    "-- then function to read descriptors, create and append one to descriptor list depending on the type\n",
    "-- for each of the descriptors types we define functions to read them\n",
    "-- need error checking dates, once it is read\n",
    "-- check person order to be correct change otherwise\n",
    "\n",
    " --11.1 defining reading functions for every type of descriptor\n",
    "import Control.Monad\n",
    "\n",
    "--auxiliary function for converting between string and integer\n",
    "toInt::String->Int\n",
    "toInt s = read s ::Int\n",
    "\n",
    "\n",
    "-- defining operator to check if input is within some bounds\n",
    "(=?)::Int->(Int, Int)->Bool\n",
    "(=?) x (a, b) = x >= a && x <= b\n",
    "\n",
    "--to read an integer\n",
    "readInt::IO Int\n",
    "readInt = do\n",
    "    toInt <$> getLine\n",
    "    \n",
    "\n",
    "-- reading category checking that input value is within admissible domain\n",
    "readCategory::IO String\n",
    "readCategory = do\n",
    "    cat <- getLine\n",
    "    if cat `notElem` [\"personal\", \"health\", \"work\", \"management\"]\n",
    "        then error \"invalid category type\"\n",
    "        else return  cat\n",
    "\n",
    "\n",
    "\n",
    "-- function to check if the input date is valid\n",
    "checkDate::Date->Bool\n",
    "checkDate (Date d m y _) = d =? (1, daysInMonth m y) && m =? (1,12) && y > 0\n",
    "\n",
    "\n",
    "-- defining auxiliary function to check date\n",
    "daysInMonth :: Int -> Int -> Int\n",
    "daysInMonth m y\n",
    "  | m == 2 = if isleap y then 29 else 28\n",
    "  | m `elem` [4, 6, 9, 11] = 30\n",
    "  | otherwise = 31\n",
    "  \n",
    "\n",
    "-- reading date\n",
    "readDate:: IO Date\n",
    "readDate = do\n",
    "    putStrLn \"Day: \"\n",
    "    day <- getLine\n",
    "    putStrLn \"Month: \"\n",
    "    month <- getLine\n",
    "    putStrLn \"Year: \"\n",
    "    year <- getLine\n",
    "    putStrLn \"workday: \"\n",
    "    wk <- getLine\n",
    "    if wk == \"True\"\n",
    "        then return (Date (toInt day) (toInt month) (toInt year) True)\n",
    "        else return (Date (toInt day) (toInt month) (toInt year) False)\n",
    "\n",
    "\n",
    "-- function to read times\n",
    "readTime::IO Time\n",
    "readTime = do\n",
    "    putStrLn \"Read hours: \"\n",
    "    h <- readInt\n",
    "    putStrLn \"Read minutes: \"\n",
    "    m <- readInt\n",
    "    if not ( h =? (0, 23)) && (m =? (0, 59))\n",
    "        then error \"invalid times\"\n",
    "        else return (Time h m)\n",
    "\n",
    "-- -- function to read Persons\n",
    "readPersons::IO[String]\n",
    "readPersons = do\n",
    "    person <- getLine\n",
    "    if person == \"stop\"\n",
    "        then return []\n",
    "        else do\n",
    "            persons <- readPersons\n",
    "            return (person:persons)\n",
    "\n",
    "\n",
    "-- -- function to read place\n",
    "readPlace::IO String\n",
    "readPlace = getLine\n",
    "\n",
    "-- auxiliary function to check period and create frequency object accordingly\n",
    "case_checkf::String->Date->Int->Frequency\n",
    "case_checkf f Date{} n\n",
    "    | f == \"daily\" = NP Daily Date {} n\n",
    "    | f == \"weekly\" = NP Weekly Date {} n\n",
    "    | f == \"weekday\" = NP Weekday Date {} n\n",
    "    | otherwise = error \"invalid frequency of NP event\"\n",
    "\n",
    "-- read recurrence time and check invalid, from frequency\n",
    "readRec::IO String\n",
    "readRec = do\n",
    "    rec <- getLine\n",
    "    if rec `notElem` [\"weekly\", \"daily\", \"weekday\"]\n",
    "        then error \"invalid category type\"\n",
    "        else return  rec\n",
    "\n",
    "\n",
    "readFreq::IO Frequency\n",
    "readFreq = do\n",
    "    freq <- getLine\n",
    "    if freq == \"punctual\"\n",
    "        then return Punctual\n",
    "        else do\n",
    "            putStrLn \"Introduce recurrency time: \"\n",
    "            f <- readRec\n",
    "            putStrLn \"Introduce first date: \"\n",
    "            d <- readDate\n",
    "            putStrLn \"Introduce repetitions: \"\n",
    "            case_checkf f d <$> readInt\n",
    "            --turn case_checkf f d n\n",
    "\n",
    "\n",
    "readPreferences:: IO Preferences\n",
    "readPreferences = do \n",
    "    putStrLn \"Introduce earliest time: \"\n",
    "    e <- readTime\n",
    "    putStrLn \"Introduce latest time: \"\n",
    "    l <- readTime\n",
    "    putStrLn \"Introduce location preference: \"\n",
    "    p <- readPlace\n",
    "    putStrLn \"Introduce person preference: \"\n",
    "    Preferences e l p <$> getLine"
   ]
  },
  {
   "cell_type": "code",
   "execution_count": 44,
   "id": "b2982382",
   "metadata": {
    "vscode": {
     "languageId": "plaintext"
    }
   },
   "outputs": [],
   "source": [
    "-- 11.2 function to read a descriptor (ask user for descriptor type and read depending on descriptor type)\n",
    "-- checks category is valid and date\n",
    "\n",
    "\n",
    "rdesc::String->IO Descriptor\n",
    "rdesc s \n",
    "    | s == \"name\" = DName <$> getLine\n",
    "    | s == \"category\" = do\n",
    "        cat <- readCategory\n",
    "        if cat == \"personal\" then return (DCategory Personal)\n",
    "        else if cat == \"health\" then return (DCategory Health)\n",
    "        else if cat == \"work\" then return (DCategory Work)\n",
    "        else if cat == \"management\" then return (DCategory Management)\n",
    "        else error \"invalid category\"\n",
    "    | s == \"date\" = do\n",
    "        date <- readDate\n",
    "        if not ( checkDate date) then error \"invalid date\"\n",
    "        else return (DDate date)\n",
    "    | s == \"initial\" = DInitial <$> readTime\n",
    "    | s == \"final\" = DFinal <$> readTime\n",
    "    | s == \"duration\" = DDuration <$> readInt\n",
    "    | s == \"persons\" = DPersons . Persons <$> readPersons\n",
    "    | s == \"place\" = DPlace <$> readPlace\n",
    "    | s == \"frequency\" = DFrequency <$> readFreq\n",
    "    | s == \"preferences\" = DPreferences <$> readPreferences\n",
    "    | otherwise = error \"invalid descriptor type\"\n",
    "    \n",
    "    "
   ]
  },
  {
   "cell_type": "code",
   "execution_count": 45,
   "id": "67e8fca8",
   "metadata": {
    "vscode": {
     "languageId": "plaintext"
    }
   },
   "outputs": [],
   "source": [
    "--11.2.2 now we define a function to readDescriptors, recursively\n",
    "\n",
    "readDescriptors::IO[Descriptor]\n",
    "readDescriptors = do\n",
    "    input <- getLine\n",
    "    if input == \"stop\" \n",
    "        then return []\n",
    "        else do\n",
    "            desc <- rdesc input\n",
    "            descs <- readDescriptors\n",
    "            return $ desc:descs"
   ]
  },
  {
   "cell_type": "code",
   "execution_count": 47,
   "id": "ef696878",
   "metadata": {},
   "outputs": [
    {
     "data": {
      "text/plain": [
       "Day: \n",
       "Month: \n",
       "Year: \n",
       "workday: \n",
       "[Name: poker,Attendants: elon musk, jorge, carlos,Date: 26-12-2021, workday,Place: casino]"
      ]
     },
     "metadata": {},
     "output_type": "display_data"
    }
   ],
   "source": [
    "-- reading a list of descriptors\n",
    "readDescriptors"
   ]
  },
  {
   "cell_type": "code",
   "execution_count": 48,
   "id": "de4fa008",
   "metadata": {
    "vscode": {
     "languageId": "plaintext"
    }
   },
   "outputs": [],
   "source": [
    "-- 11.3 function to create a list of events, and check for errors in event\n",
    "validduration::Event->Bool\n",
    "validduration e\n",
    "    | fullyscheduled e && (diff (getFinal e) (getInitial e) /= getDuration e) = False\n",
    "    | otherwise = True\n",
    "\n",
    "fullyscheduled::Event->Bool\n",
    "fullyscheduled ev = isThereInitial ev && isThereFinal ev && isThereDuration ev\n",
    "\n",
    "\n",
    "-- base case just one event\n",
    "createEvent::IO Event\n",
    "createEvent = do\n",
    "    print \"Reading descriptors\"\n",
    "    ev <- readDescriptors\n",
    "    if not (validduration ev)\n",
    "        then error \"invalid duration\"\n",
    "        else return ev\n",
    "    \n",
    "--read events\n",
    "readEvents::IO[Event]\n",
    "readEvents = do\n",
    "    putStrLn \"Create event? (y|n): \"\n",
    "    r <- getLine\n",
    "    if r == \"n\"\n",
    "        then return []\n",
    "        else do\n",
    "            putStrLn \"reading event\"\n",
    "            ev <- createEvent\n",
    "            events <- readEvents\n",
    "            return $ ev : events\n",
    "    "
   ]
  },
  {
   "cell_type": "code",
   "execution_count": 48,
   "id": "3ac3047d",
   "metadata": {},
   "outputs": [
    {
     "data": {
      "text/plain": [
       "Create event? (y|n): \n",
       "[]"
      ]
     },
     "metadata": {},
     "output_type": "display_data"
    }
   ],
   "source": [
    "-- reading a series of events\n",
    "-- readEvents\n",
    "readEvents"
   ]
  },
  {
   "cell_type": "code",
   "execution_count": 49,
   "id": "44daf9ae",
   "metadata": {},
   "outputs": [],
   "source": [
    "--11.4 function to create an agenda with as many elements as the user desires\n",
    "-- find index person in list\n",
    "findIndex::String->[String]->Int\n",
    "findIndex n l = head [s | s <- [0..length l], l!!s == n]\n",
    "\n",
    "-- remove occurence from person list\n",
    "rmAt::Int->[String]->[String]\n",
    "rmAt n l = take n l ++ drop (n + 1) l\n",
    "\n",
    "--find position of person descriptors\n",
    "findPersons::[Descriptor]->Int\n",
    "findPersons l = head [s |s <- [0..length l], isPersons(l!!s)]\n",
    "\n",
    "-- remove at index on descriptor list\n",
    "rmAtD::Int->[Descriptor]->[Descriptor]\n",
    "rmAtD n l = take n l ++ drop (n + 1) l\n",
    "\n",
    "\n",
    "-- check whether the event needs modifying and return new person descriptor\n",
    "modif::String->[String]->[String]\n",
    "modif name per\n",
    "    | name `elem` per = name : rmAt (findIndex name per) per\n",
    "    | otherwise = name:per\n",
    "    \n",
    "    \n",
    "-- works at an event level\n",
    "checkPersonInEvents::String->[Event]->[Event]\n",
    "checkPersonInEvents name [] = []\n",
    "checkPersonInEvents name [x] \n",
    "    | isTherePersons x && name /= head(getPersons x)= [DPersons(Persons (modif name (getPersons x))):rmAtD (findPersons x) x]\n",
    "    | otherwise = [x] -- no persons in event, we return unchanged\n",
    "checkPersonInEvents name (x:xs)\n",
    "    | isTherePersons x = (DPersons(Persons (modif name (getPersons x))):rmAtD (findPersons x) x) : checkPersonInEvents name xs\n",
    "    | otherwise = checkPersonInEvents name xs -- no persons in event move to next one\n",
    "    \n",
    "\n"
   ]
  },
  {
   "cell_type": "code",
   "execution_count": 50,
   "id": "de592550",
   "metadata": {},
   "outputs": [],
   "source": [
    "-- to intertwine a call to the checking functions\n",
    "readAgendaEvs::String->IO [Event]\n",
    "readAgendaEvs n = checkPersonInEvents n <$> readEvents"
   ]
  },
  {
   "cell_type": "code",
   "execution_count": 51,
   "id": "d7458ccc",
   "metadata": {},
   "outputs": [],
   "source": [
    "createAgenda:: IO Agenda\n",
    "createAgenda= do\n",
    "    putStrLn \"set owner name: \"\n",
    "    name <- getLine\n",
    "    Agenda name <$> readAgendaEvs name"
   ]
  },
  {
   "cell_type": "code",
   "execution_count": 62,
   "id": "6ab4454e",
   "metadata": {},
   "outputs": [
    {
     "data": {
      "text/plain": [
       "set owner name: \n",
       "Create event? (y|n): \n",
       "reading event\n",
       "\"Reading descriptors\"\n",
       "Read hours: \n",
       "Read minutes: \n",
       "Read hours: \n",
       "Read minutes: \n",
       "Create event? (y|n):"
      ]
     },
     "metadata": {},
     "output_type": "display_data"
    },
    {
     "data": {
      "text/plain": [
       "\"Jorge agenda info:                                                                                                             Name: chilling - Initial Time: 18:00 - Final Time: 19:00\""
      ]
     },
     "metadata": {},
     "output_type": "display_data"
    }
   ],
   "source": [
    "-- creating an agenda\n",
    "a <- createAgenda\n",
    "printAgenda a"
   ]
  },
  {
   "cell_type": "code",
   "execution_count": 63,
   "id": "e76e98de",
   "metadata": {
    "vscode": {
     "languageId": "plaintext"
    }
   },
   "outputs": [],
   "source": [
    "--11.5 At this point agenda creation is done, we now focus on visualization\n",
    "\n",
    "printEvent::Event->IO()\n",
    "printEvent [] = print \"\\n\"\n",
    "printEvent [x] = print x\n",
    "printEvent (x:xs) = do\n",
    "    print x\n",
    "    printEvent xs\n",
    "    \n",
    "printEvents::[Event]->IO()\n",
    "printEvents [] = print \"\"\n",
    "printEvents [x] = printEvent x\n",
    "printEvents (x:xs) = do\n",
    "    printEvent x\n",
    "    putStrLn \"\\n\"\n",
    "    printEvents xs\n",
    "\n",
    "\n",
    "printAgendaio::Agenda->IO()\n",
    "printAgendaio a@(Agenda n ev) = do\n",
    "    print n\n",
    "    printEvents ev\n"
   ]
  },
  {
   "cell_type": "code",
   "execution_count": 64,
   "id": "5c90f1f5",
   "metadata": {},
   "outputs": [
    {
     "data": {
      "text/plain": [
       "\"Carlos\"\n",
       "Date: 22-10-2020, workday\n",
       "Initial Time: 15:00\n",
       "Final Time: 16:00\n",
       "\n",
       "\n",
       "Date: 22-10-2020, workday\n",
       "Initial Time: 18:00\n",
       "Final Time: 19:00"
      ]
     },
     "metadata": {},
     "output_type": "display_data"
    }
   ],
   "source": [
    "-- testing io display of agenda\n",
    "printAgendaio agenda\n",
    "-- printAgendaio a"
   ]
  },
  {
   "cell_type": "code",
   "execution_count": 54,
   "id": "a6323234",
   "metadata": {
    "vscode": {
     "languageId": "plaintext"
    }
   },
   "outputs": [],
   "source": [
    "scheduleEventio::Agenda->Date->Date->IO Agenda\n",
    "scheduleEventio (Agenda name events) date1 date2 = do\n",
    "    event <- createEvent\n",
    "    return $ scheduleEvent event (Agenda name events) date1 date2"
   ]
  },
  {
   "cell_type": "code",
   "execution_count": 60,
   "id": "146ae24a",
   "metadata": {},
   "outputs": [
    {
     "data": {
      "text/plain": [
       "\"Reading descriptors\"\n",
       "Read hours: \n",
       "Read minutes: \n",
       "Read hours: \n",
       "Read minutes:"
      ]
     },
     "metadata": {},
     "output_type": "display_data"
    },
    {
     "data": {
      "text/plain": [
       "\"Carlos\"\n",
       "Date: 22-10-2020, workday\n",
       "Initial Time: 15:00\n",
       "Final Time: 16:00\n",
       "\n",
       "\n",
       "Date: 22-10-2020, workday\n",
       "Initial Time: 18:00\n",
       "Final Time: 19:00\n",
       "\n",
       "\n",
       "Initial Time: 17:00\n",
       "Final Time: 19:30\n",
       "Place: gym"
      ]
     },
     "metadata": {},
     "output_type": "display_data"
    }
   ],
   "source": [
    "-- testing function scheduling\n",
    "ag <- scheduleEventio agenda (Date 1 1 2020 True) (Date 12 12 2022 True)\n",
    "printAgendaio ag"
   ]
  },
  {
   "cell_type": "code",
   "execution_count": 65,
   "id": "9a87a172",
   "metadata": {
    "vscode": {
     "languageId": "plaintext"
    }
   },
   "outputs": [],
   "source": [
    "insertEventio::Agenda->IO Agenda\n",
    "insertEventio a@(Agenda name events) = do\n",
    "    event <- createEvent\n",
    "    return $ insert event a"
   ]
  },
  {
   "cell_type": "code",
   "execution_count": 66,
   "id": "3dab0886",
   "metadata": {},
   "outputs": [
    {
     "data": {
      "text/plain": [
       "\"Reading descriptors\"\n",
       "Read hours: \n",
       "Read minutes: \n",
       "Read hours: \n",
       "Read minutes:"
      ]
     },
     "metadata": {},
     "output_type": "display_data"
    },
    {
     "data": {
      "text/plain": [
       "\"Jorge\"\n",
       "Name: chilling\n",
       "Initial Time: 18:00\n",
       "Final Time: 19:00\n",
       "\n",
       "\n",
       "Name: dinner\n",
       "Initial Time: 21:00\n",
       "Final Time: 23:00"
      ]
     },
     "metadata": {},
     "output_type": "display_data"
    }
   ],
   "source": [
    "ag <- insertEventio a\n",
    "printAgendaio ag"
   ]
  },
  {
   "cell_type": "code",
   "execution_count": 67,
   "id": "587c7222",
   "metadata": {
    "vscode": {
     "languageId": "plaintext"
    }
   },
   "outputs": [],
   "source": [
    "deleteEventio::Agenda->IO Agenda\n",
    "deleteEventio (Agenda name events) = do\n",
    "    event <- createEvent\n",
    "    return $ deleteEvents event (Agenda name events)"
   ]
  },
  {
   "cell_type": "code",
   "execution_count": 68,
   "id": "ec375706",
   "metadata": {},
   "outputs": [
    {
     "data": {
      "text/plain": [
       "\"Reading descriptors\"\n",
       "Read hours: \n",
       "Read minutes: \n",
       "Read hours: \n",
       "Read minutes:"
      ]
     },
     "metadata": {},
     "output_type": "display_data"
    },
    {
     "data": {
      "text/plain": [
       "\"Jorge\"\n",
       "Name: chilling\n",
       "Initial Time: 18:00\n",
       "Final Time: 19:00"
      ]
     },
     "metadata": {},
     "output_type": "display_data"
    }
   ],
   "source": [
    "agd <- deleteEventio ag\n",
    "printAgendaio agd"
   ]
  },
  {
   "cell_type": "markdown",
   "id": "086897e2",
   "metadata": {},
   "source": [
    "## DIFFICULTIES ENCOUNTERED\n",
    "\n",
    "The most difficult task was by far exercise 8. Generating the slots and then removing the occupied ones was particularly hard as we had events that did not finish exactly at the end of a slot, and therefore, in order to improve our scheduling, we had to recompute slots to not lose valuable time in the date.\n",
    "\n",
    "Also in this exercise, matching the slots to the input preferences was quite a cumbersome task as we had to resort to checking one by one the different preferences against the slots was rather difficult as we had to design a decision tree to efficiently do so.\n",
    "\n",
    "Another difficulty we encountered is in exercise 9, as at last we needed to define a time '24:00' because of the overlap that using '0:00' caused between the possible end of an event and that start of the next day.\n",
    "\n",
    "Also a hurdle we encountered is the recurrent need of a great deal of data extraction methods, and data reading methods in exercise 11, in order to be able solve the tasks which for us was particularly tiring as being used to imperative programming languages such as Python, for this same reason we struggled, particularly at first to work in the scale set by the statement without being able to to loop, having to  resort to recursion a great many times throughout the completion of the project.\n",
    "\n",
    "In the case of exercises 8 and 9, for every descriptor X, we were forced to develop a large amount of functions checking if X exists in an event, if a descriptor is type X, returning x, going from data inside a Slot to a data type X and vice-versa, etc. That definitely made the process slower\n",
    "\n",
    "In general, specially from exercise 8 onwards, debugging was really hard given that:\n",
    "\n",
    "(1) We had to develop a structure of interconected functions, such that the inputs of some functions are outputs of others instead of having just one or a few functions where inside can freely create and manipulate any data type\n",
    "\n",
    "(2) Specifying the types for every function such that everything matches cohesively along the passing of inputs and outputs was a big challenge, since we had to do it in abstraction mode, given that we could not test with practical examples until the program compiled succesfully\n",
    "\n",
    "(3) The <interactive> error messages forced us to go back, reconsider and change other blocks of the code, since they made us find on later parts of the project that our previous methods were not efficient enough\n",
    "    \n",
    "(4) The non-exhaustive definition of some functions really made us pay attention to every possible scenario of a function's use, even those out of what we are trying to achieve\n",
    "\n",
    "Testing was also harder than we are used to, as once compilation is succesfull does not necessarily mean the result will be correct. We encountered that many times and had to test in depth calling lower and lower level functions to find out where the error was.\n",
    "\n",
    "Overall, the quite tedious coding process along with the long and exhaustive debugging and testing aspects of it and especiallly the new paradigm of thinking and new levels of abstraction we had to reach, made this one of the hardest projects we have faced during our completion of the degree. Nevertheless, we are extremely proud that we didn't get complacent and didn't stop without covering the hardest functionalities, which we admiditely though of doing, and instead put in long hours and made it work."
   ]
  },
  {
   "cell_type": "markdown",
   "id": "fc9d17a1",
   "metadata": {},
   "source": [
    "## FEEDBACK\n",
    "\n",
    "Overall this project has turned out to be a challenge and it has taken us quite a long time, forcing us to think out of the box, and go beyond the level of difficulty in the rest of the course.\n",
    "\n",
    "We feel that the requirements of the project, particularly in exercise 8, exceed greatly the level of theory and practical exercises done throughout the course as some of the tasks were considerably harder than one would expect considering the base level that has been set during the entire semester."
   ]
  }
 ],
 "metadata": {
  "kernelspec": {
   "display_name": "Haskell",
   "language": "haskell",
   "name": "haskell"
  },
  "language_info": {
   "codemirror_mode": "ihaskell",
   "file_extension": ".hs",
   "mimetype": "text/x-haskell",
   "name": "haskell",
   "pygments_lexer": "Haskell",
   "version": "8.10.7"
  }
 },
 "nbformat": 4,
 "nbformat_minor": 5
}
