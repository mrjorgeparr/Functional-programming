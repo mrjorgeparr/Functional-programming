{
 "cells": [
  {
   "cell_type": "markdown",
   "id": "2fbe9757",
   "metadata": {},
   "source": [
    "# Exercises week 6\n",
    "\n",
    "Exercises about types.\n",
    "\n",
    "**Note:** You must specify the type for all the created functions."
   ]
  },
  {
   "cell_type": "markdown",
   "id": "94fc7360",
   "metadata": {},
   "source": [
    "**Exercise 1.** Make the Date type from previous week exercises to derive from `Ord` and redefine the ordering operators (< > >= <=) so they work properly."
   ]
  },
  {
   "cell_type": "code",
   "execution_count": 1,
   "id": "465371f6",
   "metadata": {},
   "outputs": [],
   "source": [
    "data Date = Date {day::Int, month::Int, year::Int} deriving (Show, Eq)\n",
    "\n",
    "instance Ord Date where\n",
    "    dt1@(Date d1 m1 y1) >  dt2@(Date d2 m2 y2) = isPrevious dt2 dt1\n",
    "    dt1@(Date d1 m1 y1) <  dt2@(Date d2 m2 y2) = isPrevious dt1 dt2\n",
    "    dt1@(Date d1 m1 y1) >= dt2@(Date d2 m2 y2) = isPrevious dt2 dt1 || dt2 == dt1\n",
    "    dt1@(Date d1 m1 y1) <=  dt2@(Date d2 m2 y2) = isPrevious dt1 dt2 || dt2 == dt1\n",
    "\n",
    "-- We will reuse the isPrevious function\n",
    "isPrevious::Date -> Date -> Bool\n",
    "isPrevious (Date d1 m1 y1) (Date d2 m2 y2) \n",
    "    | y1 Prelude.> y2 = False\n",
    "    | y1 Prelude.< y2 = True\n",
    "    | m1 Prelude.> m2 = False\n",
    "    | m1 Prelude.< m2 = True\n",
    "    | d1 Prelude.< d2 = True\n",
    "    | otherwise = False"
   ]
  },
  {
   "cell_type": "code",
   "execution_count": 2,
   "id": "0742ac5f",
   "metadata": {},
   "outputs": [
    {
     "data": {
      "text/plain": [
       "True"
      ]
     },
     "metadata": {},
     "output_type": "display_data"
    },
    {
     "data": {
      "text/plain": [
       "False"
      ]
     },
     "metadata": {},
     "output_type": "display_data"
    },
    {
     "data": {
      "text/plain": [
       "True"
      ]
     },
     "metadata": {},
     "output_type": "display_data"
    },
    {
     "data": {
      "text/plain": [
       "True"
      ]
     },
     "metadata": {},
     "output_type": "display_data"
    }
   ],
   "source": [
    "Date 31 1 2022 > Date 30 1 2022\n",
    "Date 30 1 2022 > Date 30 1 2022\n",
    "Date 31 1 2022 >= Date 30 1 2022\n",
    "Date 30 1 2022 <= Date 30 1 2022"
   ]
  },
  {
   "cell_type": "markdown",
   "id": "d7d1a10d",
   "metadata": {},
   "source": [
    "**Exercise 2.** Make the Date type to derive from Enum as well, implementing `succ` and `pred` functions."
   ]
  },
  {
   "cell_type": "code",
   "execution_count": 3,
   "id": "16b562c8",
   "metadata": {},
   "outputs": [],
   "source": [
    "instance Enum Date where\n",
    "succ dt@(Date d m y) = nextDay dt\n",
    "pred (Date d m y ) \n",
    "    | rightDay (Date (d - 1) m y) = Date (d - 1) m y\n",
    "    | rightMonth (Date d (m - 1) y) = Date (maxDays (Date d (m - 1) y)) (m - 1) y\n",
    "    | otherwise = Date 31 12 (y - 1)\n",
    "\n",
    "-- To calculate the maximum number of days of a month\n",
    "maxDays::Date -> Int\n",
    "maxDays (Date d m y)\n",
    "    | m `elem` [1, 3, 5, 7, 8, 10, 12] = 31\n",
    "    | m `elem` [4, 6, 9, 11] = 30\n",
    "    | m == 2 = if isleap (Date d m y) then 29 else 28\n",
    "    | otherwise = error \"Wrong month\"\n",
    "\n",
    "--- Reusing some functions\n",
    "nextDay::Date -> Date\n",
    "nextDay (Date d m y) \n",
    "    | rightDay (Date (d + 1) m y) = Date (d + 1) m y\n",
    "    | rightMonth (Date 1 (m + 1) y) = Date 1 (m + 1) y\n",
    "    | otherwise = Date 1 1 (y + 1)\n",
    "    \n",
    "isleap::Date -> Bool\n",
    "isleap (Date _ _ y) = y `mod` 4 == 0 && (y `mod` 100 /= 0 || y `mod` 400 == 0)\n",
    "\n",
    "rightMonth::Date -> Bool\n",
    "rightMonth (Date _ m _) = m Prelude.> 0 && m Prelude.< 13\n",
    "\n",
    "rightDay::Date -> Bool\n",
    "rightDay (Date d m y)\n",
    "    | d Prelude.< 1 || d Prelude.> 31 = False\n",
    "    | m `elem` [1, 3, 5, 7, 8, 10, 12] = True\n",
    "    | m == 2 = d Prelude.< 29 || (d == 29 && isleap (Date d m y))\n",
    "    | m `elem` [4, 6, 9, 11] = d Prelude.<= 30\n",
    "    | otherwise = error \"Wrong month\""
   ]
  },
  {
   "cell_type": "code",
   "execution_count": 4,
   "id": "3b0b6433",
   "metadata": {},
   "outputs": [
    {
     "data": {
      "text/plain": [
       "Date {day = 1, month = 1, year = 2023}"
      ]
     },
     "metadata": {},
     "output_type": "display_data"
    },
    {
     "data": {
      "text/plain": [
       "Date {day = 1, month = 2, year = 2022}"
      ]
     },
     "metadata": {},
     "output_type": "display_data"
    },
    {
     "data": {
      "text/plain": [
       "Date {day = 30, month = 12, year = 2022}"
      ]
     },
     "metadata": {},
     "output_type": "display_data"
    },
    {
     "data": {
      "text/plain": [
       "Date {day = 31, month = 12, year = 2021}"
      ]
     },
     "metadata": {},
     "output_type": "display_data"
    },
    {
     "data": {
      "text/plain": [
       "Date {day = 30, month = 11, year = 2022}"
      ]
     },
     "metadata": {},
     "output_type": "display_data"
    },
    {
     "data": {
      "text/plain": [
       "Date {day = 28, month = 2, year = 2022}"
      ]
     },
     "metadata": {},
     "output_type": "display_data"
    },
    {
     "data": {
      "text/plain": [
       "Date {day = 29, month = 2, year = 2020}"
      ]
     },
     "metadata": {},
     "output_type": "display_data"
    }
   ],
   "source": [
    "succ (Date 31 12 2022)\n",
    "succ (Date 31 1 2022)\n",
    "pred (Date 31 12 2022)\n",
    "pred (Date 1 1 2022)\n",
    "pred (Date 1 12 2022)\n",
    "pred (Date 1 3 2022)\n",
    "pred (Date 1 3 2020)"
   ]
  },
  {
   "cell_type": "markdown",
   "id": "b3dc89ec",
   "metadata": {},
   "source": [
    "**Exercise 3.** Create a Product type with two constructors. The first one, named Product, will receive the name, the price and the units in stock of that product. The second one, FreshProduct, will receive also a Date (see last week exercises) with the expiration date."
   ]
  },
  {
   "cell_type": "code",
   "execution_count": 5,
   "id": "13e0169b",
   "metadata": {},
   "outputs": [],
   "source": [
    "data Product = Product {name::String, price::Float, stock::Int} \n",
    "                | FreshProduct {name::String, price::Float, stock::Int, expiration::Date} deriving (Show, Eq)"
   ]
  },
  {
   "cell_type": "code",
   "execution_count": 6,
   "id": "978673ac",
   "metadata": {
    "scrolled": true
   },
   "outputs": [
    {
     "data": {
      "text/plain": [
       "Product {name = \"shoes\", price = 12.99, stock = 45}"
      ]
     },
     "metadata": {},
     "output_type": "display_data"
    },
    {
     "data": {
      "text/plain": [
       "FreshProduct {name = \"oranges\", price = 1.18, stock = 33, expiration = Date {day = 1, month = 1, year = 2023}}"
      ]
     },
     "metadata": {},
     "output_type": "display_data"
    }
   ],
   "source": [
    "Product \"shoes\" 12.99 45\n",
    "FreshProduct \"oranges\" 1.18 33 (Date 1 1 2023)"
   ]
  },
  {
   "cell_type": "markdown",
   "id": "312b4bf8",
   "metadata": {},
   "source": [
    "**Exercise 4.** Create a `sell Product` function that sells a unit of a product if its stock is bigger than 0, it returns the product with the new stock"
   ]
  },
  {
   "cell_type": "code",
   "execution_count": 7,
   "id": "448a5911",
   "metadata": {},
   "outputs": [],
   "source": [
    "sell::Product -> Product\n",
    "sell (Product n p s) \n",
    "    | s > 0 = Product n p (s - 1)\n",
    "    | otherwise = Product n p s\n",
    "sell (FreshProduct n p s (Date d m y))\n",
    "    | s > 0 = FreshProduct n p (s - 1) (Date d m y)\n",
    "    | otherwise = FreshProduct n p s (Date d m y)"
   ]
  },
  {
   "cell_type": "code",
   "execution_count": 8,
   "id": "3965336b",
   "metadata": {},
   "outputs": [
    {
     "data": {
      "text/plain": [
       "Product {name = \"shoes\", price = 12.99, stock = 44}"
      ]
     },
     "metadata": {},
     "output_type": "display_data"
    },
    {
     "data": {
      "text/plain": [
       "FreshProduct {name = \"oranges\", price = 1.18, stock = 32, expiration = Date {day = 1, month = 1, year = 2023}}"
      ]
     },
     "metadata": {},
     "output_type": "display_data"
    }
   ],
   "source": [
    "sell (Product \"shoes\" 12.99 45)\n",
    "sell (FreshProduct \"oranges\" 1.18 33 (Date 1 1 2023))"
   ]
  },
  {
   "cell_type": "markdown",
   "id": "2cfdf011",
   "metadata": {},
   "source": [
    "**Exercise 5.** Create a function `expired Date Product` that returns if the product has expired"
   ]
  },
  {
   "cell_type": "code",
   "execution_count": 9,
   "id": "4713f040",
   "metadata": {},
   "outputs": [],
   "source": [
    "isPrevious::Date -> Date -> Bool\n",
    "isPrevious (Date d1 m1 y1) (Date d2 m2 y2) \n",
    "    | y1 > y2 = False\n",
    "    | y1 < y2 = True\n",
    "    | m1 > m2 = False\n",
    "    | m1 < m2 = True\n",
    "    | d1 < d2 = True\n",
    "    | otherwise = False\n",
    "\n",
    "expired::Date -> Product -> Bool\n",
    "expired (Date d m y) (FreshProduct _ _ _ (Date d2 m2 y2)) = not (isPrevious (Date d m y) (Date d2 m2 y2))\n",
    "expired _ Product {} = False"
   ]
  },
  {
   "cell_type": "code",
   "execution_count": 10,
   "id": "4fd944a4",
   "metadata": {},
   "outputs": [
    {
     "data": {
      "text/plain": [
       "False"
      ]
     },
     "metadata": {},
     "output_type": "display_data"
    },
    {
     "data": {
      "text/plain": [
       "True"
      ]
     },
     "metadata": {},
     "output_type": "display_data"
    }
   ],
   "source": [
    "expired (Date 31 1 2023) (Product \"shoes\" 12.99 45)\n",
    "expired (Date 31 1 2023) (FreshProduct \"oranges\" 1.18 33 (Date 1 1 2023))"
   ]
  },
  {
   "cell_type": "markdown",
   "id": "87254a51",
   "metadata": {},
   "source": [
    "**Exercise 6.** Redefine the == operator as follows:\n",
    "1. Two Products are equal if their names and prices are equal\n",
    "2. Two FreshProducts are equal if in addition their expiration dates are equal"
   ]
  },
  {
   "cell_type": "code",
   "execution_count": 11,
   "id": "b9779680",
   "metadata": {},
   "outputs": [],
   "source": [
    "instance Eq Product where\n",
    "    Product n1 p1 _ == Product n2 p2 _ = n1 Prelude.== n2 && p1 Prelude.== p2\n",
    "    FreshProduct n1 p1 _ (Date d1 m1 y1) == FreshProduct n2 p2 _ (Date d2 m2 y2) = \n",
    "        n1 Prelude.== n2 && p1 Prelude.== p2 && Date d1 m1 y1 Prelude.== Date d2 m2 y2"
   ]
  },
  {
   "cell_type": "code",
   "execution_count": 12,
   "id": "183ebe3e",
   "metadata": {
    "scrolled": true
   },
   "outputs": [
    {
     "data": {
      "text/plain": [
       "True"
      ]
     },
     "metadata": {},
     "output_type": "display_data"
    },
    {
     "data": {
      "text/plain": [
       "False"
      ]
     },
     "metadata": {},
     "output_type": "display_data"
    },
    {
     "data": {
      "text/plain": [
       "True"
      ]
     },
     "metadata": {},
     "output_type": "display_data"
    },
    {
     "data": {
      "text/plain": [
       "False"
      ]
     },
     "metadata": {},
     "output_type": "display_data"
    },
    {
     "data": {
      "text/plain": [
       "True"
      ]
     },
     "metadata": {},
     "output_type": "display_data"
    }
   ],
   "source": [
    "Product \"shoes\" 12.99 45 == Product \"shoes\" 12.99 55\n",
    "Product \"shoes\" 12.99 45 == Product \"shoes\" 1.99 55\n",
    "FreshProduct \"oranges\" 1.18 33 (Date 1 1 2023) == FreshProduct \"oranges\" 1.18 12 (Date 1 1 2023)\n",
    "FreshProduct \"oranges\" 1.18 33 (Date 1 1 2023) == FreshProduct \"oranges\" 1.18 12 (Date 12 1 2023)\n",
    "FreshProduct \"oranges\" 1.18 33 (Date 1 1 2023) /= FreshProduct \"oranges\" 1.18 12 (Date 12 1 2023)"
   ]
  },
  {
   "cell_type": "markdown",
   "id": "ca4a0d0a",
   "metadata": {},
   "source": [
    "# Delivery rules\n",
    "\n",
    "Save this notebook with name `your initials-week-06.ipynb` and upload it to Aula Global before the deadline. For example, Lucía Perez Gómez will upload a file `lpg-week-06.ipynb`"
   ]
  }
 ],
 "metadata": {
  "kernelspec": {
   "display_name": "Haskell",
   "language": "haskell",
   "name": "haskell"
  },
  "language_info": {
   "codemirror_mode": "ihaskell",
   "file_extension": ".hs",
   "mimetype": "text/x-haskell",
   "name": "haskell",
   "pygments_lexer": "Haskell",
   "version": "8.10.7"
  }
 },
 "nbformat": 4,
 "nbformat_minor": 5
}
