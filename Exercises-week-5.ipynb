{
 "cells": [
  {
   "cell_type": "markdown",
   "id": "2fbe9757",
   "metadata": {},
   "source": [
    "# Exercises week 5\n",
    "\n",
    "Exercises about lists and types.\n",
    "\n",
    "**Note:** You must specify the type for all the created functions."
   ]
  },
  {
   "cell_type": "markdown",
   "id": "b3dc89ec",
   "metadata": {},
   "source": [
    "**Exercise 1.** Use list comprehension to create a function that returns the position of all the even elements in a list"
   ]
  },
  {
   "cell_type": "code",
   "execution_count": 1,
   "id": "13e0169b",
   "metadata": {},
   "outputs": [],
   "source": [
    "evenPositions::[Int] -> [Int]\n",
    "evenPositions xs = [pos | pos <- [0..length xs - 1], even (xs !! pos)]"
   ]
  },
  {
   "cell_type": "code",
   "execution_count": 2,
   "id": "978673ac",
   "metadata": {},
   "outputs": [
    {
     "data": {
      "text/plain": [
       "[]"
      ]
     },
     "metadata": {},
     "output_type": "display_data"
    },
    {
     "data": {
      "text/plain": [
       "[]"
      ]
     },
     "metadata": {},
     "output_type": "display_data"
    },
    {
     "data": {
      "text/plain": [
       "[3]"
      ]
     },
     "metadata": {},
     "output_type": "display_data"
    },
    {
     "data": {
      "text/plain": [
       "[0,1,2,3]"
      ]
     },
     "metadata": {},
     "output_type": "display_data"
    }
   ],
   "source": [
    "evenPositions []\n",
    "evenPositions [1, 1, 1, 1]\n",
    "evenPositions [1, 1, 1, 2]\n",
    "evenPositions [2, 2, 2, 2]"
   ]
  },
  {
   "cell_type": "markdown",
   "id": "312b4bf8",
   "metadata": {},
   "source": [
    "**Exercise 2.** Create a function that returns the position of the first even element of a list or -1 if there are no even elements on the list."
   ]
  },
  {
   "cell_type": "code",
   "execution_count": 3,
   "id": "448a5911",
   "metadata": {},
   "outputs": [],
   "source": [
    "posFirstEven::[Int] -> Int\n",
    "posFirstEven xs\n",
    "  | null result = -1\n",
    "  | otherwise = head result\n",
    "  where result = evenPositions xs"
   ]
  },
  {
   "cell_type": "code",
   "execution_count": 4,
   "id": "3965336b",
   "metadata": {},
   "outputs": [
    {
     "data": {
      "text/plain": [
       "-1"
      ]
     },
     "metadata": {},
     "output_type": "display_data"
    },
    {
     "data": {
      "text/plain": [
       "-1"
      ]
     },
     "metadata": {},
     "output_type": "display_data"
    },
    {
     "data": {
      "text/plain": [
       "3"
      ]
     },
     "metadata": {},
     "output_type": "display_data"
    },
    {
     "data": {
      "text/plain": [
       "0"
      ]
     },
     "metadata": {},
     "output_type": "display_data"
    }
   ],
   "source": [
    "posFirstEven []\n",
    "posFirstEven [1, 1, 1, 1]\n",
    "posFirstEven [1, 1, 1, 2]\n",
    "posFirstEven [2, 2, 2, 2]"
   ]
  },
  {
   "cell_type": "markdown",
   "id": "d06431ee",
   "metadata": {},
   "source": [
    "**Exercise 3.** Use the previous function to create a function that splits a list at its first even element (it will be part of the second list)"
   ]
  },
  {
   "cell_type": "code",
   "execution_count": 3,
   "id": "4713f040",
   "metadata": {},
   "outputs": [],
   "source": [
    "splitEven::[Int] -> ([Int],[Int])\n",
    "splitEven xs \n",
    "    | pos == -1 = (xs, [])\n",
    "    | otherwise = splitAt pos xs\n",
    "    where pos = posFirstEven xs\n"
   ]
  },
  {
   "cell_type": "code",
   "execution_count": 4,
   "id": "4fd944a4",
   "metadata": {},
   "outputs": [
    {
     "data": {
      "text/plain": [
       "([],[])"
      ]
     },
     "metadata": {},
     "output_type": "display_data"
    },
    {
     "data": {
      "text/plain": [
       "([1,1,1,1],[])"
      ]
     },
     "metadata": {},
     "output_type": "display_data"
    },
    {
     "data": {
      "text/plain": [
       "([1,1,1],[2])"
      ]
     },
     "metadata": {},
     "output_type": "display_data"
    },
    {
     "data": {
      "text/plain": [
       "([],[2,2,2,2])"
      ]
     },
     "metadata": {},
     "output_type": "display_data"
    }
   ],
   "source": [
    "splitEven []\n",
    "splitEven [1, 1, 1, 1]\n",
    "splitEven [1, 1, 1, 2]\n",
    "splitEven [2, 2, 2, 2]"
   ]
  },
  {
   "cell_type": "markdown",
   "id": "87254a51",
   "metadata": {},
   "source": [
    "**Exercise 4.** Create a recursive function that splits a list at its first even element (it will be part of the second list). Tip: you can use `fst` to get the first element of a tuple and `snd` to get the second."
   ]
  },
  {
   "cell_type": "code",
   "execution_count": 5,
   "id": "b9779680",
   "metadata": {},
   "outputs": [
    {
     "data": {
      "text/html": [
       "<style>/* Styles used for the Hoogle display in the pager */\n",
       ".hoogle-doc {\n",
       "display: block;\n",
       "padding-bottom: 1.3em;\n",
       "padding-left: 0.4em;\n",
       "}\n",
       ".hoogle-code {\n",
       "display: block;\n",
       "font-family: monospace;\n",
       "white-space: pre;\n",
       "}\n",
       ".hoogle-text {\n",
       "display: block;\n",
       "}\n",
       ".hoogle-name {\n",
       "color: green;\n",
       "font-weight: bold;\n",
       "}\n",
       ".hoogle-head {\n",
       "font-weight: bold;\n",
       "}\n",
       ".hoogle-sub {\n",
       "display: block;\n",
       "margin-left: 0.4em;\n",
       "}\n",
       ".hoogle-package {\n",
       "font-weight: bold;\n",
       "font-style: italic;\n",
       "}\n",
       ".hoogle-module {\n",
       "font-weight: bold;\n",
       "}\n",
       ".hoogle-class {\n",
       "font-weight: bold;\n",
       "}\n",
       ".get-type {\n",
       "color: green;\n",
       "font-weight: bold;\n",
       "font-family: monospace;\n",
       "display: block;\n",
       "white-space: pre-wrap;\n",
       "}\n",
       ".show-type {\n",
       "color: green;\n",
       "font-weight: bold;\n",
       "font-family: monospace;\n",
       "margin-left: 1em;\n",
       "}\n",
       ".mono {\n",
       "font-family: monospace;\n",
       "display: block;\n",
       "}\n",
       ".err-msg {\n",
       "color: red;\n",
       "font-style: italic;\n",
       "font-family: monospace;\n",
       "white-space: pre;\n",
       "display: block;\n",
       "}\n",
       "#unshowable {\n",
       "color: red;\n",
       "font-weight: bold;\n",
       "}\n",
       ".err-msg.in.collapse {\n",
       "padding-top: 0.7em;\n",
       "}\n",
       ".highlight-code {\n",
       "white-space: pre;\n",
       "font-family: monospace;\n",
       "}\n",
       ".suggestion-warning { \n",
       "font-weight: bold;\n",
       "color: rgb(200, 130, 0);\n",
       "}\n",
       ".suggestion-error { \n",
       "font-weight: bold;\n",
       "color: red;\n",
       "}\n",
       ".suggestion-name {\n",
       "font-weight: bold;\n",
       "}\n",
       "</style><div class=\"suggestion-name\" style=\"clear:both;\">Use first</div><div class=\"suggestion-row\" style=\"float: left;\"><div class=\"suggestion-warning\">Found:</div><div class=\"highlight-code\" id=\"haskell\">(x : fst (splitEvenR xs), snd (splitEvenR xs))</div></div><div class=\"suggestion-row\" style=\"float: left;\"><div class=\"suggestion-warning\">Why Not:</div><div class=\"highlight-code\" id=\"haskell\">Data.Bifunctor.first ((:) x) (splitEvenR xs)</div></div>"
      ],
      "text/plain": [
       "Line 5: Use first\n",
       "Found:\n",
       "(x : fst (splitEvenR xs), snd (splitEvenR xs))\n",
       "Why not:\n",
       "Data.Bifunctor.first ((:) x) (splitEvenR xs)"
      ]
     },
     "metadata": {},
     "output_type": "display_data"
    }
   ],
   "source": [
    "splitEvenR::[Int] -> ([Int],[Int])\n",
    "splitEvenR [] = ([],[])\n",
    "splitEvenR (x:xs)\n",
    "    |even x = ([], x:xs)\n",
    "    |otherwise = (x:fst (splitEvenR xs), snd (splitEvenR xs))"
   ]
  },
  {
   "cell_type": "code",
   "execution_count": 6,
   "id": "183ebe3e",
   "metadata": {
    "scrolled": true
   },
   "outputs": [
    {
     "data": {
      "text/plain": [
       "([],[])"
      ]
     },
     "metadata": {},
     "output_type": "display_data"
    },
    {
     "data": {
      "text/plain": [
       "([],[2])"
      ]
     },
     "metadata": {},
     "output_type": "display_data"
    },
    {
     "data": {
      "text/plain": [
       "([1],[])"
      ]
     },
     "metadata": {},
     "output_type": "display_data"
    },
    {
     "data": {
      "text/plain": [
       "([1,1,1,1],[])"
      ]
     },
     "metadata": {},
     "output_type": "display_data"
    },
    {
     "data": {
      "text/plain": [
       "([1,1,1],[2])"
      ]
     },
     "metadata": {},
     "output_type": "display_data"
    },
    {
     "data": {
      "text/plain": [
       "([],[2,2,2,2])"
      ]
     },
     "metadata": {},
     "output_type": "display_data"
    },
    {
     "data": {
      "text/plain": [
       "([1],[2,1,2,2])"
      ]
     },
     "metadata": {},
     "output_type": "display_data"
    }
   ],
   "source": [
    "splitEvenR []\n",
    "splitEvenR [2]\n",
    "splitEvenR [1]\n",
    "splitEvenR [1, 1, 1, 1]\n",
    "splitEvenR [1, 1, 1, 2]\n",
    "splitEvenR [2, 2, 2, 2]\n",
    "splitEvenR [1, 2, 1, 2, 2]"
   ]
  },
  {
   "cell_type": "markdown",
   "id": "9ffbb39d",
   "metadata": {},
   "source": [
    "**Exercise 5** Create a `consecutive xs` function that given a list of elements tells if they are consecutive either in ascending or descending order. Which is its type? Tip: use the `pairs` function seen in lectures."
   ]
  },
  {
   "cell_type": "code",
   "execution_count": null,
   "id": "02972708",
   "metadata": {},
   "outputs": [],
   "source": [
    "pairs :: [a] -> [(a,a)]\n",
    "pairs xs = zip xs (tail xs)\n",
    "\n",
    "consecutive::(Eq a, Enum a) => [a] -> Bool\n",
    "consecutive xs = (and [y == succ x | (x,y) <- pairs xs]) || and [x == succ y | (x,y) <- pairs xs]"
   ]
  },
  {
   "cell_type": "code",
   "execution_count": null,
   "id": "69447598",
   "metadata": {},
   "outputs": [],
   "source": [
    "consecutive [1, 2, 3, 5]\n",
    "consecutive [1, 2, 3, 4]\n",
    "consecutive ['a','b','c']\n",
    "consecutive [2, 1, 0, -1]"
   ]
  },
  {
   "cell_type": "markdown",
   "id": "1a8bb029",
   "metadata": {},
   "source": [
    "**Exercise 6** Create:\n",
    "1. A type to represent a Date with day (Int), month (Int), year (Int)\n",
    "2. A function `isleap date` to return if the year of a Date is a leap year\n",
    "3. A function `rightMonth date` to check if a month number is correct\n",
    "4. A function `rightDay date` to check if a day number is correct for that month of that Date\n",
    "5. A function `fixDate date` that if the month or the day is incorrect, fixes them, the month will be 1 and the day will be 1 too.\n",
    "6. A function `monthName date` that returns the name of the month of that date\n",
    "7. A function `showDate date` that returns \"day of monthName of the leap/not leap year\"\n",
    "8. A function `nextDay date` that returns the next Date of a given one\n",
    "9. A function `isPrevious date1 date2` that returns if date1 is previous to date2"
   ]
  },
  {
   "cell_type": "code",
   "execution_count": 37,
   "id": "7f1efac3",
   "metadata": {},
   "outputs": [],
   "source": [
    "-- 1\n",
    "-- We could use type with a 3-elements tuple, but it is easier to use data\n",
    "data Date = Date Int Int Int deriving (Show, Eq)\n",
    "\n",
    "-- 2\n",
    "isleap::Date -> Bool\n",
    "isleap (Date _ _ y) = y `mod` 4 == 0 && (y `mod` 100 /= 0 || y `mod` 400 == 0)\n",
    "\n",
    "-- 3\n",
    "rightMonth::Date -> Bool\n",
    "rightMonth (Date _ m _) = m > 0 && m < 13\n",
    "\n",
    "-- 4 \n",
    "rightDay::Date -> Bool\n",
    "rightDay (Date d m y)\n",
    "    | d < 1 || d > 31 = False\n",
    "    | m `elem` [1, 3, 5, 7, 8, 10, 12] = True\n",
    "    | m == 2 = d < 29 || (d == 29 && isleap (Date d m y))\n",
    "    | m `elem` [4, 6, 9, 11] = d <= 30\n",
    "    | otherwise = error \"Wrong month\"\n",
    "\n",
    "-- 5\n",
    "fixDate::Date -> Date\n",
    "fixDate (Date d m y)\n",
    "    | rightMonth (Date d m y) = if rightDay (Date d m y) then Date d m y else Date 1 m y\n",
    "    | otherwise = if rightDay (Date d 1 y) then Date d 1 y else Date 1 1 y\n",
    " \n",
    "-- 6\n",
    "monthName::Date -> String\n",
    "monthName (Date d m y) = if rightMonth (Date d m y) \n",
    "                        then months !! (m - 1) \n",
    "                        else error \"Wrong month\"\n",
    "                        where months = [\"january\", \"february\", \"march\", \"april\", \"may\", \"june\", \"july\", \"august\", \n",
    "                                        \"september\", \"october\", \"november\", \"december\"]\n",
    "                        \n",
    "-- 7\n",
    "showDate::Date -> String\n",
    "showDate (Date d m y) = show d ++ \" of \" ++ monthName (Date d m y) ++ \" of the \" ++ leap ++ show y\n",
    "    where leap = if isleap (Date d m y) then \"leap \" else \"non leap \"\n",
    "    \n",
    "-- 8 \n",
    "nextDay::Date -> Date\n",
    "nextDay (Date d m y) \n",
    "    | rightDay (Date (d + 1) m y) = Date (d + 1) m y\n",
    "    | rightMonth (Date 1 (m + 1) y) = Date 1 (m + 1) y\n",
    "    | otherwise = Date 1 1 (y + 1)\n",
    " \n",
    "-- 9\n",
    "isPrevious::Date -> Date -> Bool\n",
    "isPrevious (Date d1 m1 y1) (Date d2 m2 y2) \n",
    "    | y1 > y2 = False\n",
    "    | y1 < y2 = True\n",
    "    | m1 > m2 = False\n",
    "    | m1 < m2 = True\n",
    "    | d1 < d2 = True\n",
    "    | otherwise = False"
   ]
  },
  {
   "cell_type": "code",
   "execution_count": 40,
   "id": "35474dec",
   "metadata": {},
   "outputs": [
    {
     "data": {
      "text/plain": [
       "False"
      ]
     },
     "metadata": {},
     "output_type": "display_data"
    },
    {
     "data": {
      "text/plain": [
       "True"
      ]
     },
     "metadata": {},
     "output_type": "display_data"
    },
    {
     "data": {
      "text/plain": [
       "True"
      ]
     },
     "metadata": {},
     "output_type": "display_data"
    },
    {
     "data": {
      "text/plain": [
       "True"
      ]
     },
     "metadata": {},
     "output_type": "display_data"
    },
    {
     "data": {
      "text/plain": [
       "True"
      ]
     },
     "metadata": {},
     "output_type": "display_data"
    },
    {
     "data": {
      "text/plain": [
       "True"
      ]
     },
     "metadata": {},
     "output_type": "display_data"
    },
    {
     "data": {
      "text/plain": [
       "True"
      ]
     },
     "metadata": {},
     "output_type": "display_data"
    },
    {
     "data": {
      "text/plain": [
       "False"
      ]
     },
     "metadata": {},
     "output_type": "display_data"
    },
    {
     "data": {
      "text/plain": [
       "True"
      ]
     },
     "metadata": {},
     "output_type": "display_data"
    },
    {
     "data": {
      "text/plain": [
       "False"
      ]
     },
     "metadata": {},
     "output_type": "display_data"
    },
    {
     "data": {
      "text/plain": [
       "True"
      ]
     },
     "metadata": {},
     "output_type": "display_data"
    },
    {
     "data": {
      "text/plain": [
       "Date 1 12 1900"
      ]
     },
     "metadata": {},
     "output_type": "display_data"
    },
    {
     "data": {
      "text/plain": [
       "Date 30 11 1900"
      ]
     },
     "metadata": {},
     "output_type": "display_data"
    },
    {
     "data": {
      "text/plain": [
       "Date 1 2 1900"
      ]
     },
     "metadata": {},
     "output_type": "display_data"
    },
    {
     "data": {
      "text/plain": [
       "Date 5 1 2021"
      ]
     },
     "metadata": {},
     "output_type": "display_data"
    },
    {
     "data": {
      "text/plain": [
       "Date 1 1 2012"
      ]
     },
     "metadata": {},
     "output_type": "display_data"
    },
    {
     "data": {
      "text/plain": [
       "\"march\""
      ]
     },
     "metadata": {},
     "output_type": "display_data"
    },
    {
     "data": {
      "text/plain": [
       "\"1 of march of the leap 2020\""
      ]
     },
     "metadata": {},
     "output_type": "display_data"
    },
    {
     "data": {
      "text/plain": [
       "Date 2 1 2022"
      ]
     },
     "metadata": {},
     "output_type": "display_data"
    },
    {
     "data": {
      "text/plain": [
       "Date 1 3 2022"
      ]
     },
     "metadata": {},
     "output_type": "display_data"
    },
    {
     "data": {
      "text/plain": [
       "Date 1 1 2023"
      ]
     },
     "metadata": {},
     "output_type": "display_data"
    },
    {
     "data": {
      "text/plain": [
       "True"
      ]
     },
     "metadata": {},
     "output_type": "display_data"
    },
    {
     "data": {
      "text/plain": [
       "True"
      ]
     },
     "metadata": {},
     "output_type": "display_data"
    },
    {
     "data": {
      "text/plain": [
       "False"
      ]
     },
     "metadata": {},
     "output_type": "display_data"
    }
   ],
   "source": [
    "-- Testing code\n",
    "--2\n",
    "isleap (Date 1 1 1900)\n",
    "isleap (Date 1 1 2000)\n",
    "isleap (Date 1 1 2012)\n",
    "-- 3\n",
    "rightMonth (Date 1 1 1900)\n",
    "rightMonth (Date 1 12 1900)\n",
    "-- 4\n",
    "rightDay (Date 1 12 1900)\n",
    "rightDay (Date 31 12 1900)\n",
    "rightDay (Date 32 12 1900)\n",
    "rightDay (Date 30 11 1900)\n",
    "rightDay (Date 29 2 1900)\n",
    "rightDay (Date 29 2 2000)\n",
    "-- 5\n",
    "fixDate (Date 32 12 1900)\n",
    "fixDate (Date 30 11 1900)\n",
    "fixDate (Date 29 2 1900)\n",
    "fixDate (Date 5 24 2021)\n",
    "fixDate (Date 41 24 2012)\n",
    "-- 6\n",
    "monthName (Date 1 3 2020)\n",
    "-- 7\n",
    "showDate (Date 1 3 2020)\n",
    "-- 8\n",
    "nextDay (Date 1 1 2022)\n",
    "nextDay (Date 28 2 2022)\n",
    "nextDay (Date 31 12 2022)\n",
    "-- 9\n",
    "isPrevious (Date 1 1 2022) (Date 28 2 2022)\n",
    "isPrevious (Date 27 2 2022) (Date 28 2 2022)\n",
    "isPrevious (Date 27 1 2022) (Date 27 1 2022)"
   ]
  },
  {
   "cell_type": "markdown",
   "id": "ca4a0d0a",
   "metadata": {},
   "source": [
    "# Delivery rules\n",
    "\n",
    "Save this notebook with name `your initials-week-05.ipynb` and upload it to Aula Global before the deadline. For example, Lucía Perez Gómez will upload a file `lpg-week-05.ipynb`"
   ]
  }
 ],
 "metadata": {
  "kernelspec": {
   "display_name": "Haskell",
   "language": "haskell",
   "name": "haskell"
  },
  "language_info": {
   "codemirror_mode": "ihaskell",
   "file_extension": ".hs",
   "mimetype": "text/x-haskell",
   "name": "haskell",
   "pygments_lexer": "Haskell",
   "version": "8.10.7"
  }
 },
 "nbformat": 4,
 "nbformat_minor": 5
}
