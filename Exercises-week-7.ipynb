{
 "cells": [
  {
   "cell_type": "markdown",
   "id": "2fbe9757",
   "metadata": {},
   "source": [
    "# Exercises week 7\n",
    "\n",
    "Exercises about lists and higher order functions.\n",
    "\n",
    "**Note:** You must specify the type for all the created functions."
   ]
  },
  {
   "cell_type": "markdown",
   "id": "94fc7360",
   "metadata": {},
   "source": [
    "**Exercise 1.** Create a `divisible xs ys`function that given two lists returns if the elements of the first list that are divisible by the equivalent elements of the second list."
   ]
  },
  {
   "cell_type": "code",
   "execution_count": 15,
   "id": "465371f6",
   "metadata": {},
   "outputs": [],
   "source": [
    "divisible :: Integral a => [a] -> [a] -> [Bool]\n",
    "divisible [] _ = []\n",
    "divisible _ [] = [False]\n",
    "divisible (x:xs) (y:ys) = (mod x y == 0) : divisible xs ys"
   ]
  },
  {
   "cell_type": "code",
   "execution_count": 13,
   "id": "306f6539",
   "metadata": {},
   "outputs": [
    {
     "data": {
      "text/plain": [
       "[True,True,True]"
      ]
     },
     "metadata": {},
     "output_type": "display_data"
    },
    {
     "data": {
      "text/plain": [
       "[False,False,False,False]"
      ]
     },
     "metadata": {},
     "output_type": "display_data"
    },
    {
     "data": {
      "text/plain": [
       "[True,True]"
      ]
     },
     "metadata": {},
     "output_type": "display_data"
    }
   ],
   "source": [
    "divisible [1, 2, 3] [1, 2, 3]\n",
    "divisible [1, 2, 3, 4] [2, 3, 4]\n",
    "divisible [1, 2] [1, 2, 3, 4]"
   ]
  },
  {
   "cell_type": "markdown",
   "id": "d7d1a10d",
   "metadata": {},
   "source": [
    "**Exercise 2.**  Create a `selectDivisible xs ys` function that given two lists returns the elements of the first list that are divisible by the equivalent elements of the second list."
   ]
  },
  {
   "cell_type": "code",
   "execution_count": 31,
   "id": "16b562c8",
   "metadata": {},
   "outputs": [],
   "source": [
    "selectDivisible :: Integral a => [a] -> [a] -> [a]\n",
    "selectDivisible [] _ = []\n",
    "selectDivisible _ [] =  []\n",
    "selectDivisible (x:xs) (y:ys)  \n",
    "    | mod x y == 0 = x : selectDivisible xs ys\n",
    "    | otherwise = selectDivisible xs ys"
   ]
  },
  {
   "cell_type": "code",
   "execution_count": 30,
   "id": "3b0b6433",
   "metadata": {},
   "outputs": [
    {
     "data": {
      "text/plain": [
       "[1,2,3]"
      ]
     },
     "metadata": {},
     "output_type": "display_data"
    },
    {
     "data": {
      "text/plain": [
       "[]"
      ]
     },
     "metadata": {},
     "output_type": "display_data"
    },
    {
     "data": {
      "text/plain": [
       "[1,2]"
      ]
     },
     "metadata": {},
     "output_type": "display_data"
    }
   ],
   "source": [
    "selectDivisible [1, 2, 3] [1, 2, 3]\n",
    "selectDivisible [1, 2, 3, 4] [2, 3, 4]\n",
    "selectDivisible [1, 2] [1, 2, 3, 4]"
   ]
  },
  {
   "cell_type": "markdown",
   "id": "b3dc89ec",
   "metadata": {},
   "source": [
    "**Exercise 3.** Create a function `apply f xs ys` that returns the list resulting of applying the function `f x y` over the lists `xs` and `ys`."
   ]
  },
  {
   "cell_type": "code",
   "execution_count": 4,
   "id": "13e0169b",
   "metadata": {},
   "outputs": [],
   "source": [
    "apply ::  (a -> b -> c) -> [a] -> [b] -> [c]\n",
    "apply f [] _ = []\n",
    "apply f _ [] = []\n",
    "apply f (x:xs) (y:ys) = f x y : apply f xs ys"
   ]
  },
  {
   "cell_type": "code",
   "execution_count": 39,
   "id": "978673ac",
   "metadata": {
    "scrolled": true
   },
   "outputs": [
    {
     "data": {
      "text/plain": [
       "[5,7,9]"
      ]
     },
     "metadata": {},
     "output_type": "display_data"
    },
    {
     "data": {
      "text/plain": [
       "[0,1,0]"
      ]
     },
     "metadata": {},
     "output_type": "display_data"
    },
    {
     "data": {
      "text/plain": [
       "[5,7,9]"
      ]
     },
     "metadata": {},
     "output_type": "display_data"
    },
    {
     "data": {
      "text/plain": [
       "[0,1,0]"
      ]
     },
     "metadata": {},
     "output_type": "display_data"
    },
    {
     "data": {
      "text/plain": [
       "[]"
      ]
     },
     "metadata": {},
     "output_type": "display_data"
    }
   ],
   "source": [
    "apply (+) [1, 2, 3] [4, 5, 6]\n",
    "apply mod [4, 5, 6] [1, 2, 3]\n",
    "apply (+) [1, 2, 3, 4] [4, 5, 6]\n",
    "apply mod [4, 5, 6] [1, 2, 3, 4]\n",
    "apply (*) [] []"
   ]
  },
  {
   "cell_type": "markdown",
   "id": "312b4bf8",
   "metadata": {},
   "source": [
    "**Exercise 4.** Create a `elem' x [[x]]` that returns if the element `x` belongs to any of the sublists."
   ]
  },
  {
   "cell_type": "code",
   "execution_count": 7,
   "id": "448a5911",
   "metadata": {},
   "outputs": [],
   "source": [
    "elem' :: (Foldable t1, Foldable t2, Eq a) => a -> t1 (t2 a) -> Bool\n",
    "-- We can simplify the xs as it appears in both terms\n",
    "elem' x = any $ elem x"
   ]
  },
  {
   "cell_type": "code",
   "execution_count": 8,
   "id": "3965336b",
   "metadata": {},
   "outputs": [
    {
     "data": {
      "text/plain": [
       "True"
      ]
     },
     "metadata": {},
     "output_type": "display_data"
    },
    {
     "data": {
      "text/plain": [
       "False"
      ]
     },
     "metadata": {},
     "output_type": "display_data"
    },
    {
     "data": {
      "text/plain": [
       "False"
      ]
     },
     "metadata": {},
     "output_type": "display_data"
    }
   ],
   "source": [
    "elem' 1 [[1,2], [3, 4]]\n",
    "elem' 2 [[]]\n",
    "elem' 2 [[3], [3, 4], [5, 6]]"
   ]
  },
  {
   "cell_type": "markdown",
   "id": "2cfdf011",
   "metadata": {},
   "source": [
    "**Exercise 5.** Create a `largestMultiple number limit` function that returns the largest multiple of the `number` under the `limit`"
   ]
  },
  {
   "cell_type": "code",
   "execution_count": 34,
   "id": "4713f040",
   "metadata": {},
   "outputs": [],
   "source": [
    "largestMultiple:: Int -> Int -> Int\n",
    "largestMultiple d n = head (filter p [n,n-1..])\n",
    "                        where p x = x `mod` d == 0"
   ]
  },
  {
   "cell_type": "code",
   "execution_count": 35,
   "id": "4fd944a4",
   "metadata": {},
   "outputs": [
    {
     "data": {
      "text/plain": [
       "10"
      ]
     },
     "metadata": {},
     "output_type": "display_data"
    },
    {
     "data": {
      "text/plain": [
       "120"
      ]
     },
     "metadata": {},
     "output_type": "display_data"
    },
    {
     "data": {
      "text/plain": [
       "31360"
      ]
     },
     "metadata": {},
     "output_type": "display_data"
    }
   ],
   "source": [
    "largestMultiple 2 10\n",
    "largestMultiple 3 120\n",
    "largestMultiple 32 31389"
   ]
  },
  {
   "cell_type": "markdown",
   "id": "87254a51",
   "metadata": {},
   "source": [
    "**Exercise 6.** Create a `takeAllMultiples number lower upper` function that returns all the multiples of the `number` between `upper` and  `lower`"
   ]
  },
  {
   "cell_type": "code",
   "execution_count": 10,
   "id": "b9779680",
   "metadata": {},
   "outputs": [],
   "source": [
    "-- With where\n",
    "takeAllMultiples:: Int -> Int -> Int -> [Int]\n",
    "takeAllMultiples n lower upper = takeWhile (> lower) (filter p [upper,upper-1..]) where p x = x `mod` n == 0\n",
    "-- With lambda\n",
    "takeAllMultiples':: Int -> Int -> Int -> [Int]\n",
    "takeAllMultiples' n lower upper = takeWhile (> lower) (filter (\\ x -> x `mod` n == 0) [upper,upper-1..])"
   ]
  },
  {
   "cell_type": "code",
   "execution_count": 11,
   "id": "183ebe3e",
   "metadata": {
    "scrolled": true
   },
   "outputs": [
    {
     "data": {
      "text/plain": [
       "[3168,3136,3104,3072,3040,3008,2976,2944,2912,2880,2848,2816,2784,2752,2720,2688,2656,2624,2592,2560,2528,2496,2464,2432,2400,2368,2336,2304,2272,2240,2208,2176,2144,2112,2080,2048,2016,1984,1952,1920,1888,1856,1824,1792,1760,1728,1696,1664,1632,1600,1568,1536,1504,1472,1440,1408,1376,1344,1312,1280,1248,1216,1184,1152,1120,1088,1056,1024,992,960,928,896,864,832,800,768,736,704,672,640,608,576,544,512,480,448,416,384,352,320,288,256,224]"
      ]
     },
     "metadata": {},
     "output_type": "display_data"
    },
    {
     "data": {
      "text/plain": [
       "[]"
      ]
     },
     "metadata": {},
     "output_type": "display_data"
    },
    {
     "data": {
      "text/plain": [
       "[3168,3136,3104,3072,3040,3008,2976,2944,2912,2880,2848,2816,2784,2752,2720,2688,2656,2624,2592,2560,2528,2496,2464,2432,2400,2368,2336,2304,2272,2240,2208,2176,2144,2112,2080,2048,2016,1984,1952,1920,1888,1856,1824,1792,1760,1728,1696,1664,1632,1600,1568,1536,1504,1472,1440,1408,1376,1344,1312,1280,1248,1216,1184,1152,1120,1088,1056,1024,992,960,928,896,864,832,800,768,736,704,672,640,608,576,544,512,480,448,416,384,352,320,288,256,224]"
      ]
     },
     "metadata": {},
     "output_type": "display_data"
    },
    {
     "data": {
      "text/plain": [
       "[]"
      ]
     },
     "metadata": {},
     "output_type": "display_data"
    }
   ],
   "source": [
    "takeAllMultiples 32 200 3189 \n",
    "takeAllMultiples 32 100 50\n",
    "\n",
    "takeAllMultiples' 32 200 3189 \n",
    "takeAllMultiples' 32 100 50"
   ]
  },
  {
   "cell_type": "markdown",
   "id": "6c429a94",
   "metadata": {},
   "source": [
    "**Exercise 7.** Create a `commonElements xs ys` that returns a list wiht the common elements of `xs` and `ys`without repetitions."
   ]
  },
  {
   "cell_type": "code",
   "execution_count": 13,
   "id": "4711c5a5",
   "metadata": {},
   "outputs": [],
   "source": [
    "inside :: Eq a => [a] -> [a] -> [a]\n",
    "inside _ [] = []\n",
    "inside [] _ = []\n",
    "inside (x:xs) ys \n",
    "    | x `elem` ys = x: inside xs ys\n",
    "    | otherwise = inside xs ys\n",
    "\n",
    "removeRepeated :: Eq a => [a] -> [a]\n",
    "removeRepeated [] = []\n",
    "removeRepeated (x:xs) = x: removeRepeated (filter (x /=) xs)\n",
    "\n",
    "commonElements :: Eq a => [a] -> [a] -> [a]\n",
    "commonElements xs ys = removeRepeated (inside xs ys)"
   ]
  },
  {
   "cell_type": "code",
   "execution_count": 66,
   "id": "45915485",
   "metadata": {},
   "outputs": [
    {
     "data": {
      "text/plain": [
       "[2,1]"
      ]
     },
     "metadata": {},
     "output_type": "display_data"
    },
    {
     "data": {
      "text/plain": [
       "[]"
      ]
     },
     "metadata": {},
     "output_type": "display_data"
    },
    {
     "data": {
      "text/plain": [
       "[1,2]"
      ]
     },
     "metadata": {},
     "output_type": "display_data"
    }
   ],
   "source": [
    "commonElements [2, 1] [1, 2, 3, 4, 1, 2, 3]\n",
    "commonElements [1, 1, 2] []\n",
    "commonElements [1, 1, 2, 5] [1, 2, 3, 4, 1, 2]"
   ]
  },
  {
   "cell_type": "markdown",
   "id": "c4b410e0",
   "metadata": {},
   "source": [
    "**Exercise 8.** Create a `commonElements' xs ys` that returns a list wiht the common elements of `xs` and `ys` without repetitions, where xs is a list and ys is a list of lists."
   ]
  },
  {
   "cell_type": "code",
   "execution_count": 15,
   "id": "564ea6f9",
   "metadata": {},
   "outputs": [],
   "source": [
    "commonElements' :: Eq a => [a] -> [[a]] -> [a]\n",
    "commonElements' _ [] = []\n",
    "commonElements' xs (y:ys) =  removeRepeated (commonElements xs y ++ commonElements' xs ys)"
   ]
  },
  {
   "cell_type": "code",
   "execution_count": 100,
   "id": "a53efceb",
   "metadata": {},
   "outputs": [
    {
     "data": {
      "text/plain": [
       "[1,2,3]"
      ]
     },
     "metadata": {},
     "output_type": "display_data"
    }
   ],
   "source": [
    "commonElements' [1, 1, 2, 5, 3] [[1, 2, 3], [4, 1, 2]]"
   ]
  },
  {
   "cell_type": "markdown",
   "id": "525a267f",
   "metadata": {},
   "source": [
    "**Exercise 9.** Create a function `addEvenSubtractOdd xs`that receives a list and returns the result of adding all the even numbers and substracting the odd ones"
   ]
  },
  {
   "cell_type": "code",
   "execution_count": 21,
   "id": "417686b8",
   "metadata": {},
   "outputs": [],
   "source": [
    "addEvenSubtractOdd [] = 0\n",
    "addEvenSubtractOdd (x:xs)\n",
    "    | even x = x + addEvenSubtractOdd xs\n",
    "    | otherwise = (-x) + addEvenSubtractOdd xs"
   ]
  },
  {
   "cell_type": "code",
   "execution_count": 19,
   "id": "3acce3b5",
   "metadata": {},
   "outputs": [],
   "source": [
    "-- Using foldr and a lambda function\n",
    "sign x = if even x then x else (-x)\n",
    "\n",
    "addEvenSubtractOdd' = foldr (\\ y -> (+ sign y)) 0"
   ]
  },
  {
   "cell_type": "code",
   "execution_count": 22,
   "id": "3f7d1be9",
   "metadata": {},
   "outputs": [
    {
     "data": {
      "text/plain": [
       "3"
      ]
     },
     "metadata": {},
     "output_type": "display_data"
    },
    {
     "data": {
      "text/plain": [
       "3"
      ]
     },
     "metadata": {},
     "output_type": "display_data"
    }
   ],
   "source": [
    "addEvenSubtractOdd [1, 2, 3, 4, 5, 6]\n",
    "addEvenSubtractOdd' [1, 2, 3, 4, 5, 6]"
   ]
  },
  {
   "cell_type": "markdown",
   "id": "ca4a0d0a",
   "metadata": {},
   "source": [
    "# Delivery rules\n",
    "\n",
    "Save this notebook with name `your initials-week-07.ipynb` and upload it to Aula Global before the deadline. For example, Lucía Perez Gómez will upload a file `lpg-week-07.ipynb`"
   ]
  }
 ],
 "metadata": {
  "kernelspec": {
   "display_name": "Haskell",
   "language": "haskell",
   "name": "haskell"
  },
  "language_info": {
   "codemirror_mode": "ihaskell",
   "file_extension": ".hs",
   "mimetype": "text/x-haskell",
   "name": "haskell",
   "pygments_lexer": "Haskell",
   "version": "8.10.7"
  }
 },
 "nbformat": 4,
 "nbformat_minor": 5
}
