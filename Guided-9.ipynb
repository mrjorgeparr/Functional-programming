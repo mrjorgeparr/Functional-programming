{
 "cells": [
  {
   "cell_type": "markdown",
   "id": "2661884f",
   "metadata": {},
   "source": [
    "# GUIDED EXERCISE 9: Functors and applicatives\n",
    "\n",
    "## Functors\n",
    "Functors are the types over which we can map a function. The `Functor` typeclass defines the `fmap` method. Examples of functors are lists or `Maybe`."
   ]
  },
  {
   "cell_type": "code",
   "execution_count": 1,
   "id": "1425601a",
   "metadata": {},
   "outputs": [
    {
     "data": {
      "text/plain": [
       "[False,True,False,True]"
      ]
     },
     "metadata": {},
     "output_type": "display_data"
    },
    {
     "data": {
      "text/plain": [
       "Just False"
      ]
     },
     "metadata": {},
     "output_type": "display_data"
    },
    {
     "data": {
      "text/plain": [
       "Nothing"
      ]
     },
     "metadata": {},
     "output_type": "display_data"
    }
   ],
   "source": [
    "-- For lists fmap = map\n",
    "fmap even [1, 2, 3, 4]\n",
    "-- Also for Maybe\n",
    "fmap even (Just 3)\n",
    "fmap even Nothing"
   ]
  },
  {
   "cell_type": "markdown",
   "id": "8e8ddba8",
   "metadata": {},
   "source": [
    " We can create types that are functors by implementing the `fmap` function"
   ]
  },
  {
   "cell_type": "code",
   "execution_count": 2,
   "id": "27bc3d7b",
   "metadata": {},
   "outputs": [],
   "source": [
    "-- Notice that the type must take one and only one parameter\n",
    "-- You cannot derive from Functor if you have no parameters or more than one\n",
    "data Test a = Const1 a | Const2 a | Const3 deriving (Show)\n",
    "instance Functor Test where\n",
    "    fmap f (Const1 x) = Const1 (f x)\n",
    "    fmap f (Const2 x) = Const2 (f x)\n",
    "    fmap f Const3 = Const3 "
   ]
  },
  {
   "cell_type": "code",
   "execution_count": 3,
   "id": "8c6e1def",
   "metadata": {},
   "outputs": [
    {
     "data": {
      "text/plain": [
       "Const1 34"
      ]
     },
     "metadata": {},
     "output_type": "display_data"
    },
    {
     "data": {
      "text/plain": [
       "Const3"
      ]
     },
     "metadata": {},
     "output_type": "display_data"
    },
    {
     "data": {
      "text/plain": [
       "Const2 False"
      ]
     },
     "metadata": {},
     "output_type": "display_data"
    },
    {
     "data": {
      "text/plain": [
       "Const3"
      ]
     },
     "metadata": {},
     "output_type": "display_data"
    },
    {
     "data": {
      "text/html": [
       "<style>/* Styles used for the Hoogle display in the pager */\n",
       ".hoogle-doc {\n",
       "display: block;\n",
       "padding-bottom: 1.3em;\n",
       "padding-left: 0.4em;\n",
       "}\n",
       ".hoogle-code {\n",
       "display: block;\n",
       "font-family: monospace;\n",
       "white-space: pre;\n",
       "}\n",
       ".hoogle-text {\n",
       "display: block;\n",
       "}\n",
       ".hoogle-name {\n",
       "color: green;\n",
       "font-weight: bold;\n",
       "}\n",
       ".hoogle-head {\n",
       "font-weight: bold;\n",
       "}\n",
       ".hoogle-sub {\n",
       "display: block;\n",
       "margin-left: 0.4em;\n",
       "}\n",
       ".hoogle-package {\n",
       "font-weight: bold;\n",
       "font-style: italic;\n",
       "}\n",
       ".hoogle-module {\n",
       "font-weight: bold;\n",
       "}\n",
       ".hoogle-class {\n",
       "font-weight: bold;\n",
       "}\n",
       ".get-type {\n",
       "color: green;\n",
       "font-weight: bold;\n",
       "font-family: monospace;\n",
       "display: block;\n",
       "white-space: pre-wrap;\n",
       "}\n",
       ".show-type {\n",
       "color: green;\n",
       "font-weight: bold;\n",
       "font-family: monospace;\n",
       "margin-left: 1em;\n",
       "}\n",
       ".mono {\n",
       "font-family: monospace;\n",
       "display: block;\n",
       "}\n",
       ".err-msg {\n",
       "color: red;\n",
       "font-style: italic;\n",
       "font-family: monospace;\n",
       "white-space: pre;\n",
       "display: block;\n",
       "}\n",
       "#unshowable {\n",
       "color: red;\n",
       "font-weight: bold;\n",
       "}\n",
       ".err-msg.in.collapse {\n",
       "padding-top: 0.7em;\n",
       "}\n",
       ".highlight-code {\n",
       "white-space: pre;\n",
       "font-family: monospace;\n",
       "}\n",
       ".suggestion-warning { \n",
       "font-weight: bold;\n",
       "color: rgb(200, 130, 0);\n",
       "}\n",
       ".suggestion-error { \n",
       "font-weight: bold;\n",
       "color: red;\n",
       "}\n",
       ".suggestion-name {\n",
       "font-weight: bold;\n",
       "}\n",
       "</style><span class='get-type'>fmap (+1) (Const1 33) :: forall b. Num b => Test b</span>"
      ],
      "text/plain": [
       "fmap (+1) (Const1 33) :: forall b. Num b => Test b"
      ]
     },
     "metadata": {},
     "output_type": "display_data"
    },
    {
     "data": {
      "text/html": [
       "<style>/* Styles used for the Hoogle display in the pager */\n",
       ".hoogle-doc {\n",
       "display: block;\n",
       "padding-bottom: 1.3em;\n",
       "padding-left: 0.4em;\n",
       "}\n",
       ".hoogle-code {\n",
       "display: block;\n",
       "font-family: monospace;\n",
       "white-space: pre;\n",
       "}\n",
       ".hoogle-text {\n",
       "display: block;\n",
       "}\n",
       ".hoogle-name {\n",
       "color: green;\n",
       "font-weight: bold;\n",
       "}\n",
       ".hoogle-head {\n",
       "font-weight: bold;\n",
       "}\n",
       ".hoogle-sub {\n",
       "display: block;\n",
       "margin-left: 0.4em;\n",
       "}\n",
       ".hoogle-package {\n",
       "font-weight: bold;\n",
       "font-style: italic;\n",
       "}\n",
       ".hoogle-module {\n",
       "font-weight: bold;\n",
       "}\n",
       ".hoogle-class {\n",
       "font-weight: bold;\n",
       "}\n",
       ".get-type {\n",
       "color: green;\n",
       "font-weight: bold;\n",
       "font-family: monospace;\n",
       "display: block;\n",
       "white-space: pre-wrap;\n",
       "}\n",
       ".show-type {\n",
       "color: green;\n",
       "font-weight: bold;\n",
       "font-family: monospace;\n",
       "margin-left: 1em;\n",
       "}\n",
       ".mono {\n",
       "font-family: monospace;\n",
       "display: block;\n",
       "}\n",
       ".err-msg {\n",
       "color: red;\n",
       "font-style: italic;\n",
       "font-family: monospace;\n",
       "white-space: pre;\n",
       "display: block;\n",
       "}\n",
       "#unshowable {\n",
       "color: red;\n",
       "font-weight: bold;\n",
       "}\n",
       ".err-msg.in.collapse {\n",
       "padding-top: 0.7em;\n",
       "}\n",
       ".highlight-code {\n",
       "white-space: pre;\n",
       "font-family: monospace;\n",
       "}\n",
       ".suggestion-warning { \n",
       "font-weight: bold;\n",
       "color: rgb(200, 130, 0);\n",
       "}\n",
       ".suggestion-error { \n",
       "font-weight: bold;\n",
       "color: red;\n",
       "}\n",
       ".suggestion-name {\n",
       "font-weight: bold;\n",
       "}\n",
       "</style><span class='get-type'>fmap (+1) Const3 :: forall b. Num b => Test b</span>"
      ],
      "text/plain": [
       "fmap (+1) Const3 :: forall b. Num b => Test b"
      ]
     },
     "metadata": {},
     "output_type": "display_data"
    },
    {
     "data": {
      "text/html": [
       "<style>/* Styles used for the Hoogle display in the pager */\n",
       ".hoogle-doc {\n",
       "display: block;\n",
       "padding-bottom: 1.3em;\n",
       "padding-left: 0.4em;\n",
       "}\n",
       ".hoogle-code {\n",
       "display: block;\n",
       "font-family: monospace;\n",
       "white-space: pre;\n",
       "}\n",
       ".hoogle-text {\n",
       "display: block;\n",
       "}\n",
       ".hoogle-name {\n",
       "color: green;\n",
       "font-weight: bold;\n",
       "}\n",
       ".hoogle-head {\n",
       "font-weight: bold;\n",
       "}\n",
       ".hoogle-sub {\n",
       "display: block;\n",
       "margin-left: 0.4em;\n",
       "}\n",
       ".hoogle-package {\n",
       "font-weight: bold;\n",
       "font-style: italic;\n",
       "}\n",
       ".hoogle-module {\n",
       "font-weight: bold;\n",
       "}\n",
       ".hoogle-class {\n",
       "font-weight: bold;\n",
       "}\n",
       ".get-type {\n",
       "color: green;\n",
       "font-weight: bold;\n",
       "font-family: monospace;\n",
       "display: block;\n",
       "white-space: pre-wrap;\n",
       "}\n",
       ".show-type {\n",
       "color: green;\n",
       "font-weight: bold;\n",
       "font-family: monospace;\n",
       "margin-left: 1em;\n",
       "}\n",
       ".mono {\n",
       "font-family: monospace;\n",
       "display: block;\n",
       "}\n",
       ".err-msg {\n",
       "color: red;\n",
       "font-style: italic;\n",
       "font-family: monospace;\n",
       "white-space: pre;\n",
       "display: block;\n",
       "}\n",
       "#unshowable {\n",
       "color: red;\n",
       "font-weight: bold;\n",
       "}\n",
       ".err-msg.in.collapse {\n",
       "padding-top: 0.7em;\n",
       "}\n",
       ".highlight-code {\n",
       "white-space: pre;\n",
       "font-family: monospace;\n",
       "}\n",
       ".suggestion-warning { \n",
       "font-weight: bold;\n",
       "color: rgb(200, 130, 0);\n",
       "}\n",
       ".suggestion-error { \n",
       "font-weight: bold;\n",
       "color: red;\n",
       "}\n",
       ".suggestion-name {\n",
       "font-weight: bold;\n",
       "}\n",
       "</style><span class='get-type'>fmap even (Const2 3) :: Test Bool</span>"
      ],
      "text/plain": [
       "fmap even (Const2 3) :: Test Bool"
      ]
     },
     "metadata": {},
     "output_type": "display_data"
    },
    {
     "data": {
      "text/html": [
       "<style>/* Styles used for the Hoogle display in the pager */\n",
       ".hoogle-doc {\n",
       "display: block;\n",
       "padding-bottom: 1.3em;\n",
       "padding-left: 0.4em;\n",
       "}\n",
       ".hoogle-code {\n",
       "display: block;\n",
       "font-family: monospace;\n",
       "white-space: pre;\n",
       "}\n",
       ".hoogle-text {\n",
       "display: block;\n",
       "}\n",
       ".hoogle-name {\n",
       "color: green;\n",
       "font-weight: bold;\n",
       "}\n",
       ".hoogle-head {\n",
       "font-weight: bold;\n",
       "}\n",
       ".hoogle-sub {\n",
       "display: block;\n",
       "margin-left: 0.4em;\n",
       "}\n",
       ".hoogle-package {\n",
       "font-weight: bold;\n",
       "font-style: italic;\n",
       "}\n",
       ".hoogle-module {\n",
       "font-weight: bold;\n",
       "}\n",
       ".hoogle-class {\n",
       "font-weight: bold;\n",
       "}\n",
       ".get-type {\n",
       "color: green;\n",
       "font-weight: bold;\n",
       "font-family: monospace;\n",
       "display: block;\n",
       "white-space: pre-wrap;\n",
       "}\n",
       ".show-type {\n",
       "color: green;\n",
       "font-weight: bold;\n",
       "font-family: monospace;\n",
       "margin-left: 1em;\n",
       "}\n",
       ".mono {\n",
       "font-family: monospace;\n",
       "display: block;\n",
       "}\n",
       ".err-msg {\n",
       "color: red;\n",
       "font-style: italic;\n",
       "font-family: monospace;\n",
       "white-space: pre;\n",
       "display: block;\n",
       "}\n",
       "#unshowable {\n",
       "color: red;\n",
       "font-weight: bold;\n",
       "}\n",
       ".err-msg.in.collapse {\n",
       "padding-top: 0.7em;\n",
       "}\n",
       ".highlight-code {\n",
       "white-space: pre;\n",
       "font-family: monospace;\n",
       "}\n",
       ".suggestion-warning { \n",
       "font-weight: bold;\n",
       "color: rgb(200, 130, 0);\n",
       "}\n",
       ".suggestion-error { \n",
       "font-weight: bold;\n",
       "color: red;\n",
       "}\n",
       ".suggestion-name {\n",
       "font-weight: bold;\n",
       "}\n",
       "</style><span class='get-type'>fmap even Const3 :: Test Bool</span>"
      ],
      "text/plain": [
       "fmap even Const3 :: Test Bool"
      ]
     },
     "metadata": {},
     "output_type": "display_data"
    },
    {
     "data": {
      "text/html": [
       "<style>/* Styles used for the Hoogle display in the pager */\n",
       ".hoogle-doc {\n",
       "display: block;\n",
       "padding-bottom: 1.3em;\n",
       "padding-left: 0.4em;\n",
       "}\n",
       ".hoogle-code {\n",
       "display: block;\n",
       "font-family: monospace;\n",
       "white-space: pre;\n",
       "}\n",
       ".hoogle-text {\n",
       "display: block;\n",
       "}\n",
       ".hoogle-name {\n",
       "color: green;\n",
       "font-weight: bold;\n",
       "}\n",
       ".hoogle-head {\n",
       "font-weight: bold;\n",
       "}\n",
       ".hoogle-sub {\n",
       "display: block;\n",
       "margin-left: 0.4em;\n",
       "}\n",
       ".hoogle-package {\n",
       "font-weight: bold;\n",
       "font-style: italic;\n",
       "}\n",
       ".hoogle-module {\n",
       "font-weight: bold;\n",
       "}\n",
       ".hoogle-class {\n",
       "font-weight: bold;\n",
       "}\n",
       ".get-type {\n",
       "color: green;\n",
       "font-weight: bold;\n",
       "font-family: monospace;\n",
       "display: block;\n",
       "white-space: pre-wrap;\n",
       "}\n",
       ".show-type {\n",
       "color: green;\n",
       "font-weight: bold;\n",
       "font-family: monospace;\n",
       "margin-left: 1em;\n",
       "}\n",
       ".mono {\n",
       "font-family: monospace;\n",
       "display: block;\n",
       "}\n",
       ".err-msg {\n",
       "color: red;\n",
       "font-style: italic;\n",
       "font-family: monospace;\n",
       "white-space: pre;\n",
       "display: block;\n",
       "}\n",
       "#unshowable {\n",
       "color: red;\n",
       "font-weight: bold;\n",
       "}\n",
       ".err-msg.in.collapse {\n",
       "padding-top: 0.7em;\n",
       "}\n",
       ".highlight-code {\n",
       "white-space: pre;\n",
       "font-family: monospace;\n",
       "}\n",
       ".suggestion-warning { \n",
       "font-weight: bold;\n",
       "color: rgb(200, 130, 0);\n",
       "}\n",
       ".suggestion-error { \n",
       "font-weight: bold;\n",
       "color: red;\n",
       "}\n",
       ".suggestion-name {\n",
       "font-weight: bold;\n",
       "}\n",
       "</style><span class='get-type'>fmap :: forall (f :: * -> *) a b. Functor f => (a -> b) -> f a -> f b</span>"
      ],
      "text/plain": [
       "fmap :: forall (f :: * -> *) a b. Functor f => (a -> b) -> f a -> f b"
      ]
     },
     "metadata": {},
     "output_type": "display_data"
    }
   ],
   "source": [
    "-- Applying some functions to the new type\n",
    "fmap (+1) (Const1 33)\n",
    "fmap (+1) Const3\n",
    "fmap even (Const2 3)\n",
    "fmap even Const3\n",
    "-- Checking types\n",
    ":t fmap (+1) (Const1 33)\n",
    ":t fmap (+1) Const3\n",
    ":t fmap even (Const2 3)\n",
    ":t fmap even Const3\n",
    "-- Notice the type: it takes a function a -> b and a Functor f and returns a Functor\n",
    ":t fmap"
   ]
  },
  {
   "cell_type": "markdown",
   "id": "8374b5d9",
   "metadata": {},
   "source": [
    "I/O actions are also functors so we can use `fmap` with them"
   ]
  },
  {
   "cell_type": "code",
   "execution_count": 4,
   "id": "582f9325",
   "metadata": {},
   "outputs": [],
   "source": [
    "-- Function that checks if the input is even\n",
    "evenInput :: IO ()\n",
    "evenInput = do\n",
    "            putStrLn \"Enter a number\"\n",
    "            sn <- getLine\n",
    "            putStrLn (\"You entered \" ++ sn)\n",
    "            -- The :: Int is not really needed, it can de infered given that even takes integers\n",
    "            let n = read sn :: Int\n",
    "            if even n then putStrLn \"Even\" else putStrLn \"Odd\"\n",
    "\n",
    "-- Same function with fmap\n",
    "evenInput' :: IO ()\n",
    "evenInput' = do\n",
    "            putStrLn \"Enter a number\"\n",
    "            n <- fmap read getLine\n",
    "            putStrLn (\"You entered \" ++ show n)\n",
    "            if even n then putStrLn \"Even\" else putStrLn \"Odd\""
   ]
  },
  {
   "cell_type": "code",
   "execution_count": 5,
   "id": "d2552ed6",
   "metadata": {
    "scrolled": true
   },
   "outputs": [
    {
     "data": {
      "text/plain": [
       "Enter a number\n",
       "You entered 55\n",
       "Odd"
      ]
     },
     "metadata": {},
     "output_type": "display_data"
    }
   ],
   "source": [
    "evenInput'"
   ]
  },
  {
   "cell_type": "markdown",
   "id": "26db0bb8",
   "metadata": {},
   "source": [
    "**Exercise 1.** Create a function `reverseUpperLine ::  IO()` that reads a line from the keyboard, converts it to upper case and reverses it"
   ]
  },
  {
   "cell_type": "code",
   "execution_count": 6,
   "id": "f04341fa",
   "metadata": {},
   "outputs": [],
   "source": [
    "capitalize::Char -> Char\n",
    "capitalize a \n",
    "    | null result = a\n",
    "    | otherwise = head result\n",
    "    where\n",
    "        result = [a' | (b, a') <- zip ['a'..'z'] ['A'..'Z'], a == b]\n",
    "\n",
    "reverseUpperLine ::  IO()\n",
    "reverseUpperLine = do\n",
    "    putStrLn \"Enter some text\"\n",
    "    text <- fmap (reverse . map capitalize) getLine\n",
    "    putStrLn $ \"You entered \" ++ text"
   ]
  },
  {
   "cell_type": "code",
   "execution_count": 7,
   "id": "03500719",
   "metadata": {},
   "outputs": [
    {
     "data": {
      "text/plain": [
       "Enter some text\n",
       "You entered UOY ERA WOH OLLEH"
      ]
     },
     "metadata": {},
     "output_type": "display_data"
    }
   ],
   "source": [
    "reverseUpperLine "
   ]
  },
  {
   "cell_type": "markdown",
   "id": "4bc604b0",
   "metadata": {},
   "source": [
    "## Applicative functors\n",
    "\n",
    "The `Applicative` typeclass generalizes the `Functor` typeclass for functions that take more than one parameter. It defines two methods `pure` and `<*>` without any default implementation.\n",
    "\n",
    "If `f` is a binary function, and `x` and `y` are functors, To apply `f x y` we do `pure f <*> x <*> y` "
   ]
  },
  {
   "cell_type": "code",
   "execution_count": 8,
   "id": "fbb573b7",
   "metadata": {},
   "outputs": [
    {
     "data": {
      "text/html": [
       "<style>/* Styles used for the Hoogle display in the pager */\n",
       ".hoogle-doc {\n",
       "display: block;\n",
       "padding-bottom: 1.3em;\n",
       "padding-left: 0.4em;\n",
       "}\n",
       ".hoogle-code {\n",
       "display: block;\n",
       "font-family: monospace;\n",
       "white-space: pre;\n",
       "}\n",
       ".hoogle-text {\n",
       "display: block;\n",
       "}\n",
       ".hoogle-name {\n",
       "color: green;\n",
       "font-weight: bold;\n",
       "}\n",
       ".hoogle-head {\n",
       "font-weight: bold;\n",
       "}\n",
       ".hoogle-sub {\n",
       "display: block;\n",
       "margin-left: 0.4em;\n",
       "}\n",
       ".hoogle-package {\n",
       "font-weight: bold;\n",
       "font-style: italic;\n",
       "}\n",
       ".hoogle-module {\n",
       "font-weight: bold;\n",
       "}\n",
       ".hoogle-class {\n",
       "font-weight: bold;\n",
       "}\n",
       ".get-type {\n",
       "color: green;\n",
       "font-weight: bold;\n",
       "font-family: monospace;\n",
       "display: block;\n",
       "white-space: pre-wrap;\n",
       "}\n",
       ".show-type {\n",
       "color: green;\n",
       "font-weight: bold;\n",
       "font-family: monospace;\n",
       "margin-left: 1em;\n",
       "}\n",
       ".mono {\n",
       "font-family: monospace;\n",
       "display: block;\n",
       "}\n",
       ".err-msg {\n",
       "color: red;\n",
       "font-style: italic;\n",
       "font-family: monospace;\n",
       "white-space: pre;\n",
       "display: block;\n",
       "}\n",
       "#unshowable {\n",
       "color: red;\n",
       "font-weight: bold;\n",
       "}\n",
       ".err-msg.in.collapse {\n",
       "padding-top: 0.7em;\n",
       "}\n",
       ".highlight-code {\n",
       "white-space: pre;\n",
       "font-family: monospace;\n",
       "}\n",
       ".suggestion-warning { \n",
       "font-weight: bold;\n",
       "color: rgb(200, 130, 0);\n",
       "}\n",
       ".suggestion-error { \n",
       "font-weight: bold;\n",
       "color: red;\n",
       "}\n",
       ".suggestion-name {\n",
       "font-weight: bold;\n",
       "}\n",
       "</style><div class=\"suggestion-name\" style=\"clear:both;\">Use <$></div><div class=\"suggestion-row\" style=\"float: left;\"><div class=\"suggestion-warning\">Found:</div><div class=\"highlight-code\" id=\"haskell\">pure (+) <*> [1, 2, 3]</div></div><div class=\"suggestion-row\" style=\"float: left;\"><div class=\"suggestion-warning\">Why Not:</div><div class=\"highlight-code\" id=\"haskell\">((+) <$> [1, 2, 3])</div></div><div class=\"suggestion-name\" style=\"clear:both;\">Use <$></div><div class=\"suggestion-row\" style=\"float: left;\"><div class=\"suggestion-warning\">Found:</div><div class=\"highlight-code\" id=\"haskell\">pure (+) <*> [1, 2, 3]</div></div><div class=\"suggestion-row\" style=\"float: left;\"><div class=\"suggestion-warning\">Why Not:</div><div class=\"highlight-code\" id=\"haskell\">((+) <$> [1, 2, 3])</div></div>"
      ],
      "text/plain": [
       "Line 2: Use <$>\n",
       "Found:\n",
       "pure (+) <*> [1, 2, 3]\n",
       "Why not:\n",
       "((+) <$> [1, 2, 3])Line 4: Use <$>\n",
       "Found:\n",
       "pure (+) <*> [1, 2, 3]\n",
       "Why not:\n",
       "((+) <$> [1, 2, 3])"
      ]
     },
     "metadata": {},
     "output_type": "display_data"
    },
    {
     "data": {
      "text/plain": [
       "[5,6,7]"
      ]
     },
     "metadata": {},
     "output_type": "display_data"
    },
    {
     "data": {
      "text/plain": [
       "[5,6,7]"
      ]
     },
     "metadata": {},
     "output_type": "display_data"
    },
    {
     "data": {
      "text/plain": [
       "[5,6,7]"
      ]
     },
     "metadata": {},
     "output_type": "display_data"
    }
   ],
   "source": [
    "-- Add 4 to all elements of a list\n",
    "pure (+) <*> [1, 2, 3] <*> pure 4\n",
    "-- Equivalent 1\n",
    "pure (+) <*> [1, 2, 3] <*> [4]\n",
    "-- Equivalent 2\n",
    "map (+4) [1, 2, 3]"
   ]
  },
  {
   "cell_type": "code",
   "execution_count": 9,
   "id": "97058d05",
   "metadata": {},
   "outputs": [],
   "source": [
    "-- Example: making our Test type to be an Applicative\n",
    "instance Applicative Test where\n",
    "    pure = Const1\n",
    "    (Const1 x) <*> a = fmap x a\n",
    "    (Const2 x) <*> a = fmap x a\n",
    "    Const3 <*> _ = Const3"
   ]
  },
  {
   "cell_type": "code",
   "execution_count": 10,
   "id": "e4d30e61",
   "metadata": {},
   "outputs": [
    {
     "data": {
      "text/html": [
       "<style>/* Styles used for the Hoogle display in the pager */\n",
       ".hoogle-doc {\n",
       "display: block;\n",
       "padding-bottom: 1.3em;\n",
       "padding-left: 0.4em;\n",
       "}\n",
       ".hoogle-code {\n",
       "display: block;\n",
       "font-family: monospace;\n",
       "white-space: pre;\n",
       "}\n",
       ".hoogle-text {\n",
       "display: block;\n",
       "}\n",
       ".hoogle-name {\n",
       "color: green;\n",
       "font-weight: bold;\n",
       "}\n",
       ".hoogle-head {\n",
       "font-weight: bold;\n",
       "}\n",
       ".hoogle-sub {\n",
       "display: block;\n",
       "margin-left: 0.4em;\n",
       "}\n",
       ".hoogle-package {\n",
       "font-weight: bold;\n",
       "font-style: italic;\n",
       "}\n",
       ".hoogle-module {\n",
       "font-weight: bold;\n",
       "}\n",
       ".hoogle-class {\n",
       "font-weight: bold;\n",
       "}\n",
       ".get-type {\n",
       "color: green;\n",
       "font-weight: bold;\n",
       "font-family: monospace;\n",
       "display: block;\n",
       "white-space: pre-wrap;\n",
       "}\n",
       ".show-type {\n",
       "color: green;\n",
       "font-weight: bold;\n",
       "font-family: monospace;\n",
       "margin-left: 1em;\n",
       "}\n",
       ".mono {\n",
       "font-family: monospace;\n",
       "display: block;\n",
       "}\n",
       ".err-msg {\n",
       "color: red;\n",
       "font-style: italic;\n",
       "font-family: monospace;\n",
       "white-space: pre;\n",
       "display: block;\n",
       "}\n",
       "#unshowable {\n",
       "color: red;\n",
       "font-weight: bold;\n",
       "}\n",
       ".err-msg.in.collapse {\n",
       "padding-top: 0.7em;\n",
       "}\n",
       ".highlight-code {\n",
       "white-space: pre;\n",
       "font-family: monospace;\n",
       "}\n",
       ".suggestion-warning { \n",
       "font-weight: bold;\n",
       "color: rgb(200, 130, 0);\n",
       "}\n",
       ".suggestion-error { \n",
       "font-weight: bold;\n",
       "color: red;\n",
       "}\n",
       ".suggestion-name {\n",
       "font-weight: bold;\n",
       "}\n",
       "</style><div class=\"suggestion-name\" style=\"clear:both;\">Use <$></div><div class=\"suggestion-row\" style=\"float: left;\"><div class=\"suggestion-warning\">Found:</div><div class=\"highlight-code\" id=\"haskell\">pure (+) <*> Const1 3</div></div><div class=\"suggestion-row\" style=\"float: left;\"><div class=\"suggestion-warning\">Why Not:</div><div class=\"highlight-code\" id=\"haskell\">((+) <$> Const1 3)</div></div><div class=\"suggestion-name\" style=\"clear:both;\">Use <$></div><div class=\"suggestion-row\" style=\"float: left;\"><div class=\"suggestion-warning\">Found:</div><div class=\"highlight-code\" id=\"haskell\">pure (+) <*> Const2 3</div></div><div class=\"suggestion-row\" style=\"float: left;\"><div class=\"suggestion-warning\">Why Not:</div><div class=\"highlight-code\" id=\"haskell\">((+) <$> Const2 3)</div></div><div class=\"suggestion-name\" style=\"clear:both;\">Use <$></div><div class=\"suggestion-row\" style=\"float: left;\"><div class=\"suggestion-warning\">Found:</div><div class=\"highlight-code\" id=\"haskell\">pure (+) <*> Const2 3</div></div><div class=\"suggestion-row\" style=\"float: left;\"><div class=\"suggestion-warning\">Why Not:</div><div class=\"highlight-code\" id=\"haskell\">((+) <$> Const2 3)</div></div><div class=\"suggestion-name\" style=\"clear:both;\">Use <$></div><div class=\"suggestion-row\" style=\"float: left;\"><div class=\"suggestion-warning\">Found:</div><div class=\"highlight-code\" id=\"haskell\">pure (+) <*> Const1 3</div></div><div class=\"suggestion-row\" style=\"float: left;\"><div class=\"suggestion-warning\">Why Not:</div><div class=\"highlight-code\" id=\"haskell\">((+) <$> Const1 3)</div></div><div class=\"suggestion-name\" style=\"clear:both;\">Use <$></div><div class=\"suggestion-row\" style=\"float: left;\"><div class=\"suggestion-warning\">Found:</div><div class=\"highlight-code\" id=\"haskell\">pure (+) <*> Const3</div></div><div class=\"suggestion-row\" style=\"float: left;\"><div class=\"suggestion-warning\">Why Not:</div><div class=\"highlight-code\" id=\"haskell\">((+) <$> Const3)</div></div><div class=\"suggestion-name\" style=\"clear:both;\">Use <$></div><div class=\"suggestion-row\" style=\"float: left;\"><div class=\"suggestion-warning\">Found:</div><div class=\"highlight-code\" id=\"haskell\">pure (+) <*> Const1 4</div></div><div class=\"suggestion-row\" style=\"float: left;\"><div class=\"suggestion-warning\">Why Not:</div><div class=\"highlight-code\" id=\"haskell\">((+) <$> Const1 4)</div></div>"
      ],
      "text/plain": [
       "Line 1: Use <$>\n",
       "Found:\n",
       "pure (+) <*> Const1 3\n",
       "Why not:\n",
       "((+) <$> Const1 3)Line 2: Use <$>\n",
       "Found:\n",
       "pure (+) <*> Const2 3\n",
       "Why not:\n",
       "((+) <$> Const2 3)Line 4: Use <$>\n",
       "Found:\n",
       "pure (+) <*> Const2 3\n",
       "Why not:\n",
       "((+) <$> Const2 3)Line 5: Use <$>\n",
       "Found:\n",
       "pure (+) <*> Const1 3\n",
       "Why not:\n",
       "((+) <$> Const1 3)Line 6: Use <$>\n",
       "Found:\n",
       "pure (+) <*> Const3\n",
       "Why not:\n",
       "((+) <$> Const3)Line 7: Use <$>\n",
       "Found:\n",
       "pure (+) <*> Const1 4\n",
       "Why not:\n",
       "((+) <$> Const1 4)"
      ]
     },
     "metadata": {},
     "output_type": "display_data"
    },
    {
     "data": {
      "text/plain": [
       "Const1 7"
      ]
     },
     "metadata": {},
     "output_type": "display_data"
    },
    {
     "data": {
      "text/plain": [
       "Const2 8"
      ]
     },
     "metadata": {},
     "output_type": "display_data"
    },
    {
     "data": {
      "text/plain": [
       "Const1 9"
      ]
     },
     "metadata": {},
     "output_type": "display_data"
    },
    {
     "data": {
      "text/plain": [
       "Const2 10"
      ]
     },
     "metadata": {},
     "output_type": "display_data"
    },
    {
     "data": {
      "text/plain": [
       "Const3"
      ]
     },
     "metadata": {},
     "output_type": "display_data"
    },
    {
     "data": {
      "text/plain": [
       "Const3"
      ]
     },
     "metadata": {},
     "output_type": "display_data"
    }
   ],
   "source": [
    "pure (+) <*> Const1 3 <*> Const1 4\n",
    "pure (+) <*> Const2 3 <*> Const2 5\n",
    "-- The type is Const1 as: f (Const1 x) = Const1 (f x)\n",
    "pure (+) <*> Const2 3 <*> Const1 6\n",
    "pure (+) <*> Const1 3 <*> Const2 7\n",
    "pure (+) <*> Const3 <*> Const1 7\n",
    "pure (+) <*> Const1 4 <*> Const3"
   ]
  },
  {
   "cell_type": "markdown",
   "id": "8217373d",
   "metadata": {},
   "source": [
    "It has to be noticed that `pure f <*> x` equals `fmap f x`. We can substitute the `pure f <*>` by `f <$>` so if we have a function `f a b c` that works for example wiht integers, we can use it with functors by doing: `f <$> a <*> b <*> c`"
   ]
  },
  {
   "cell_type": "code",
   "execution_count": 17,
   "id": "3c16d673",
   "metadata": {},
   "outputs": [
    {
     "data": {
      "text/html": [
       "<style>/* Styles used for the Hoogle display in the pager */\n",
       ".hoogle-doc {\n",
       "display: block;\n",
       "padding-bottom: 1.3em;\n",
       "padding-left: 0.4em;\n",
       "}\n",
       ".hoogle-code {\n",
       "display: block;\n",
       "font-family: monospace;\n",
       "white-space: pre;\n",
       "}\n",
       ".hoogle-text {\n",
       "display: block;\n",
       "}\n",
       ".hoogle-name {\n",
       "color: green;\n",
       "font-weight: bold;\n",
       "}\n",
       ".hoogle-head {\n",
       "font-weight: bold;\n",
       "}\n",
       ".hoogle-sub {\n",
       "display: block;\n",
       "margin-left: 0.4em;\n",
       "}\n",
       ".hoogle-package {\n",
       "font-weight: bold;\n",
       "font-style: italic;\n",
       "}\n",
       ".hoogle-module {\n",
       "font-weight: bold;\n",
       "}\n",
       ".hoogle-class {\n",
       "font-weight: bold;\n",
       "}\n",
       ".get-type {\n",
       "color: green;\n",
       "font-weight: bold;\n",
       "font-family: monospace;\n",
       "display: block;\n",
       "white-space: pre-wrap;\n",
       "}\n",
       ".show-type {\n",
       "color: green;\n",
       "font-weight: bold;\n",
       "font-family: monospace;\n",
       "margin-left: 1em;\n",
       "}\n",
       ".mono {\n",
       "font-family: monospace;\n",
       "display: block;\n",
       "}\n",
       ".err-msg {\n",
       "color: red;\n",
       "font-style: italic;\n",
       "font-family: monospace;\n",
       "white-space: pre;\n",
       "display: block;\n",
       "}\n",
       "#unshowable {\n",
       "color: red;\n",
       "font-weight: bold;\n",
       "}\n",
       ".err-msg.in.collapse {\n",
       "padding-top: 0.7em;\n",
       "}\n",
       ".highlight-code {\n",
       "white-space: pre;\n",
       "font-family: monospace;\n",
       "}\n",
       ".suggestion-warning { \n",
       "font-weight: bold;\n",
       "color: rgb(200, 130, 0);\n",
       "}\n",
       ".suggestion-error { \n",
       "font-weight: bold;\n",
       "color: red;\n",
       "}\n",
       ".suggestion-name {\n",
       "font-weight: bold;\n",
       "}\n",
       "</style><div class=\"suggestion-name\" style=\"clear:both;\">Use <$></div><div class=\"suggestion-row\" style=\"float: left;\"><div class=\"suggestion-warning\">Found:</div><div class=\"highlight-code\" id=\"haskell\">pure (+ 4) <*> Const2 5</div></div><div class=\"suggestion-row\" style=\"float: left;\"><div class=\"suggestion-warning\">Why Not:</div><div class=\"highlight-code\" id=\"haskell\">(+ 4) <$> Const2 5</div></div>"
      ],
      "text/plain": [
       "Line 2: Use <$>\n",
       "Found:\n",
       "pure (+ 4) <*> Const2 5\n",
       "Why not:\n",
       "(+ 4) <$> Const2 5"
      ]
     },
     "metadata": {},
     "output_type": "display_data"
    },
    {
     "data": {
      "text/plain": [
       "Const2 9"
      ]
     },
     "metadata": {},
     "output_type": "display_data"
    },
    {
     "data": {
      "text/plain": [
       "Const2 9"
      ]
     },
     "metadata": {},
     "output_type": "display_data"
    },
    {
     "data": {
      "text/plain": [
       "Const2 9"
      ]
     },
     "metadata": {},
     "output_type": "display_data"
    },
    {
     "data": {
      "text/plain": [
       "Const1 9"
      ]
     },
     "metadata": {},
     "output_type": "display_data"
    },
    {
     "data": {
      "text/plain": [
       "Const3"
      ]
     },
     "metadata": {},
     "output_type": "display_data"
    }
   ],
   "source": [
    "-- All of these are equivalent\n",
    "pure (+4) <*> Const2 5\n",
    "fmap (+4) (Const2 5)\n",
    "(+4) <$> Const2 5\n",
    "(+) <$> Const2 5 <*> pure 4\n",
    "-- Adding two tests, notice the difference in notation with previous cell\n",
    "(+) <$> Const1 4 <*> Const3"
   ]
  },
  {
   "cell_type": "markdown",
   "id": "3f213941",
   "metadata": {},
   "source": [
    "**Exercise 2.** Create a function `add x y z ` that adds three elements of the `Test` class"
   ]
  },
  {
   "cell_type": "code",
   "execution_count": 12,
   "id": "1609a034",
   "metadata": {},
   "outputs": [],
   "source": [
    "-- Dificult to read way\n",
    "add :: Num a => Test a -> Test a -> Test a -> Test a\n",
    "add x y z = (+) <$> ((+) <$> x <*> y) <*> z\n",
    "\n",
    "-- Easy to read way, with an auxiliary function\n",
    "add3Numbers :: Num a => a -> a -> a -> a\n",
    "add3Numbers x y z = x + y + z\n",
    "\n",
    "add3 :: Num a => Test a -> Test a -> Test a -> Test a\n",
    "add3 x y z = add3Numbers <$> x <*> y <*> z"
   ]
  },
  {
   "cell_type": "code",
   "execution_count": 13,
   "id": "cb31b4f4",
   "metadata": {},
   "outputs": [
    {
     "data": {
      "text/plain": [
       "Const2 13"
      ]
     },
     "metadata": {},
     "output_type": "display_data"
    },
    {
     "data": {
      "text/plain": [
       "Const1 13"
      ]
     },
     "metadata": {},
     "output_type": "display_data"
    },
    {
     "data": {
      "text/plain": [
       "Const3"
      ]
     },
     "metadata": {},
     "output_type": "display_data"
    },
    {
     "data": {
      "text/plain": [
       "Const2 13"
      ]
     },
     "metadata": {},
     "output_type": "display_data"
    },
    {
     "data": {
      "text/plain": [
       "Const1 13"
      ]
     },
     "metadata": {},
     "output_type": "display_data"
    },
    {
     "data": {
      "text/plain": [
       "Const3"
      ]
     },
     "metadata": {},
     "output_type": "display_data"
    }
   ],
   "source": [
    "-- First implementation\n",
    "add (Const2 3) (Const2 4) (Const2 6)\n",
    "add (Const2 3) (Const2 4) (Const1 6)\n",
    "add (Const2 3) (Const2 4) Const3\n",
    "\n",
    "-- Second implementation\n",
    "add3 (Const2 3) (Const2 4) (Const2 6)\n",
    "add3 (Const2 3) (Const2 4) (Const1 6)\n",
    "add3 (Const2 3) (Const2 4) Const3"
   ]
  },
  {
   "cell_type": "markdown",
   "id": "dbe2b2bf",
   "metadata": {},
   "source": [
    "**Exercise 3.** Make the previous function generic for any `Applicative` type whose parameter is a `Number`"
   ]
  },
  {
   "cell_type": "code",
   "execution_count": 14,
   "id": "74cefed8",
   "metadata": {},
   "outputs": [],
   "source": [
    "add3' :: (Applicative f, Num a) => f a -> f a -> f a -> f a\n",
    "add3' x y z = add3Numbers <$> x <*> y <*> z"
   ]
  },
  {
   "cell_type": "code",
   "execution_count": 20,
   "id": "772cdb60",
   "metadata": {},
   "outputs": [
    {
     "data": {
      "text/plain": [
       "Just 8.0"
      ]
     },
     "metadata": {},
     "output_type": "display_data"
    },
    {
     "data": {
      "text/plain": [
       "[6]"
      ]
     },
     "metadata": {},
     "output_type": "display_data"
    },
    {
     "data": {
      "text/plain": [
       "[6,7]"
      ]
     },
     "metadata": {},
     "output_type": "display_data"
    },
    {
     "data": {
      "text/plain": [
       "[6,7,7,8]"
      ]
     },
     "metadata": {},
     "output_type": "display_data"
    }
   ],
   "source": [
    "add3' (Just 3.0) (Just 1.0) (Just 4.0)\n",
    "add3' [1] [2] [3]\n",
    "add3' [1, 2] [2] [3]\n",
    "add3' [1, 2] [2, 3] [3]"
   ]
  }
 ],
 "metadata": {
  "kernelspec": {
   "display_name": "Haskell",
   "language": "haskell",
   "name": "haskell"
  },
  "language_info": {
   "codemirror_mode": "ihaskell",
   "file_extension": ".hs",
   "mimetype": "text/x-haskell",
   "name": "haskell",
   "pygments_lexer": "Haskell",
   "version": "8.10.7"
  }
 },
 "nbformat": 4,
 "nbformat_minor": 5
}
