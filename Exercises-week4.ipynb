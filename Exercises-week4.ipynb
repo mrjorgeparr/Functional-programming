{
 "cells": [
  {
   "cell_type": "markdown",
   "id": "c2bd8ebf",
   "metadata": {},
   "source": [
    "# Exercises week 4\n",
    "\n",
    "Exercises about lists and recursion.\n",
    "\n",
    "**Note:** You must specify the type for all the created functions.\n",
    "\n"
   ]
  },
  {
   "cell_type": "markdown",
   "id": "0a1d9887",
   "metadata": {},
   "source": [
    "**Exercise 1.** Define the `rotate n xs` function that puts the n first elements of a list at its end"
   ]
  },
  {
   "cell_type": "code",
   "execution_count": 10,
   "id": "a4940161",
   "metadata": {},
   "outputs": [],
   "source": [
    "rotate::Int->[a]->[a]\n",
    "rotate n xs = drop n xs ++ take n xs"
   ]
  },
  {
   "cell_type": "code",
   "execution_count": 11,
   "id": "e90a4906",
   "metadata": {},
   "outputs": [
    {
     "data": {
      "text/plain": [
       "[2,3,4,5,6,7,1]"
      ]
     },
     "metadata": {},
     "output_type": "display_data"
    },
    {
     "data": {
      "text/plain": [
       "[3,4,5,6,7,1,2]"
      ]
     },
     "metadata": {},
     "output_type": "display_data"
    },
    {
     "data": {
      "text/plain": [
       "[4,5,6,7,1,2,3]"
      ]
     },
     "metadata": {},
     "output_type": "display_data"
    },
    {
     "data": {
      "text/plain": [
       "[1,2,3,4,5,6,7]"
      ]
     },
     "metadata": {},
     "output_type": "display_data"
    },
    {
     "data": {
      "text/plain": [
       "[1,2,3,4,5,6,7]"
      ]
     },
     "metadata": {},
     "output_type": "display_data"
    }
   ],
   "source": [
    "-- Test code\n",
    "rotate 1 [1, 2, 3, 4, 5, 6, 7] \n",
    "rotate 2 [1, 2, 3, 4, 5, 6, 7] \n",
    "rotate 3 [1, 2, 3, 4, 5, 6, 7] \n",
    "rotate 7 [1, 2, 3, 4, 5, 6, 7] \n",
    "rotate 8 [1, 2, 3, 4, 5, 6, 7] "
   ]
  },
  {
   "cell_type": "markdown",
   "id": "c978ecd6",
   "metadata": {},
   "source": [
    "**Exercise 2.**  Define the `interval a b xs` function that returns the elements of xs between positions a and b (b not included)"
   ]
  },
  {
   "cell_type": "code",
   "execution_count": 14,
   "id": "44e35ad7",
   "metadata": {},
   "outputs": [],
   "source": [
    "interval::Int->Int->[a]->[a]\n",
    "interval a b xs = drop (a-1) (take b xs)"
   ]
  },
  {
   "cell_type": "code",
   "execution_count": 15,
   "id": "19f9da7e",
   "metadata": {},
   "outputs": [
    {
     "data": {
      "text/plain": [
       "[1]"
      ]
     },
     "metadata": {},
     "output_type": "display_data"
    },
    {
     "data": {
      "text/plain": [
       "[1,2,3,4,5,6]"
      ]
     },
     "metadata": {},
     "output_type": "display_data"
    },
    {
     "data": {
      "text/plain": [
       "[2,3,4,5]"
      ]
     },
     "metadata": {},
     "output_type": "display_data"
    },
    {
     "data": {
      "text/plain": [
       "[]"
      ]
     },
     "metadata": {},
     "output_type": "display_data"
    }
   ],
   "source": [
    "-- Test code\n",
    "interval 0 1 [1, 2, 3, 4, 5, 6, 7] \n",
    "interval 0 6 [1, 2, 3, 4, 5, 6, 7] \n",
    "interval 2 5 [1, 2, 3, 4, 5, 6, 7] \n",
    "interval 4 2 [1, 2, 3, 4, 5, 6, 7] "
   ]
  },
  {
   "cell_type": "markdown",
   "id": "60cc9291",
   "metadata": {},
   "source": [
    "**Exercise 3.** Given a two lists of 2 elements `[a,b]` and `[c,d]` that represent the boundaries of two intervals define the `intersection [a,b] [c,d]` function that returns the intersection of both intervals."
   ]
  },
  {
   "cell_type": "code",
   "execution_count": 1,
   "id": "e555523b",
   "metadata": {},
   "outputs": [],
   "source": [
    "intersection:: [Int] -> [Int] -> [Int]\n",
    "intersection [] _ = []\n",
    "intersection _ [] = []\n",
    "intersection [a1,b1] [a2,b2]\n",
    " | a <= b = [a,b]\n",
    " | otherwise = []\n",
    " where a = max a1 a2\n",
    "       b = min b1 b2\n",
    "intersection _ _ = error \"Impossible\""
   ]
  },
  {
   "cell_type": "code",
   "execution_count": 2,
   "id": "950c94c4",
   "metadata": {},
   "outputs": [
    {
     "data": {
      "text/plain": [
       "[]"
      ]
     },
     "metadata": {},
     "output_type": "display_data"
    },
    {
     "data": {
      "text/plain": [
       "[]"
      ]
     },
     "metadata": {},
     "output_type": "display_data"
    },
    {
     "data": {
      "text/plain": [
       "[]"
      ]
     },
     "metadata": {},
     "output_type": "display_data"
    },
    {
     "data": {
      "text/plain": [
       "[6,6]"
      ]
     },
     "metadata": {},
     "output_type": "display_data"
    },
    {
     "data": {
      "text/plain": [
       "[2,6]"
      ]
     },
     "metadata": {},
     "output_type": "display_data"
    },
    {
     "data": {
      "text/plain": [
       "[2,4]"
      ]
     },
     "metadata": {},
     "output_type": "display_data"
    },
    {
     "data": {
      "text/plain": [
       "[4,4]"
      ]
     },
     "metadata": {},
     "output_type": "display_data"
    },
    {
     "data": {
      "text/plain": [
       "[]"
      ]
     },
     "metadata": {},
     "output_type": "display_data"
    }
   ],
   "source": [
    "-- Test code\n",
    "intersection [] [3,5] \n",
    "intersection [3,5] []\n",
    "intersection [2,4] [6,9] \n",
    "intersection [2,6] [6,9] \n",
    "intersection [2,6] [0,9]\n",
    "intersection [2,6] [0,4] \n",
    "intersection [4,6] [4,4] \n",
    "intersection [5,6] [0,4]"
   ]
  },
  {
   "cell_type": "markdown",
   "id": "7ae2286a",
   "metadata": {},
   "source": [
    "**Exercise 4.** A number is *perfect* if it is equal to the addition of all its divisors, except itself. Create the `perfectTo x` function that returns a list with all the perfect numbers until the given one (included). Note: auxiliary functions can be created."
   ]
  },
  {
   "cell_type": "code",
   "execution_count": 12,
   "id": "297f76cb",
   "metadata": {},
   "outputs": [],
   "source": [
    "perfectTo :: Int -> [Int]\n",
    "perfectTo n = [x | x <- [1..n], sum (init (divisors x)) == x]\n",
    "\n",
    "divisors :: Int -> [Int]\n",
    "divisors n = [x | x <- [1..n], n `rem` x == 0]"
   ]
  },
  {
   "cell_type": "code",
   "execution_count": 13,
   "id": "e4799eb8",
   "metadata": {},
   "outputs": [
    {
     "data": {
      "text/plain": [
       "[6]"
      ]
     },
     "metadata": {},
     "output_type": "display_data"
    },
    {
     "data": {
      "text/plain": [
       "[6,28,496]"
      ]
     },
     "metadata": {},
     "output_type": "display_data"
    },
    {
     "data": {
      "text/plain": [
       "[6,28,496,8128]"
      ]
     },
     "metadata": {},
     "output_type": "display_data"
    }
   ],
   "source": [
    "-- Test\n",
    "perfectTo 10\n",
    "perfectTo 1000\n",
    "perfectTo 10000"
   ]
  },
  {
   "cell_type": "markdown",
   "id": "fb19af89",
   "metadata": {},
   "source": [
    "**Exercise 5.** Create the `multiples3_5 n` function that returns the addition of all the multiples of 3 or 5 to the number n included."
   ]
  },
  {
   "cell_type": "code",
   "execution_count": 14,
   "id": "423d376f",
   "metadata": {},
   "outputs": [],
   "source": [
    "multiples3_5 :: Int -> Int\n",
    "multiples3_5 n = sum [x | x <- [1..n], multiple x 3 || multiple x 5]\n",
    "                 where multiple x y = rem x y == 0"
   ]
  },
  {
   "cell_type": "code",
   "execution_count": 15,
   "id": "452f42ec",
   "metadata": {},
   "outputs": [
    {
     "data": {
      "text/plain": [
       "0"
      ]
     },
     "metadata": {},
     "output_type": "display_data"
    },
    {
     "data": {
      "text/plain": [
       "3"
      ]
     },
     "metadata": {},
     "output_type": "display_data"
    },
    {
     "data": {
      "text/plain": [
       "8"
      ]
     },
     "metadata": {},
     "output_type": "display_data"
    },
    {
     "data": {
      "text/plain": [
       "60"
      ]
     },
     "metadata": {},
     "output_type": "display_data"
    }
   ],
   "source": [
    "multiples3_5 2\n",
    "multiples3_5 3\n",
    "multiples3_5 5\n",
    "multiples3_5 15"
   ]
  },
  {
   "cell_type": "markdown",
   "id": "aee8355d",
   "metadata": {},
   "source": [
    "**Exercise 6.** Define the `+-` operator that inserts an element into the second position of a list. If the list is empty it will insert it in the first and second positions."
   ]
  },
  {
   "cell_type": "code",
   "execution_count": 1,
   "id": "a40885c9",
   "metadata": {},
   "outputs": [],
   "source": [
    "(+-)::[a]-> a -> [a]\n",
    "[] +- a = [a, a]\n",
    "(x:xs) +- a = x:a:xs"
   ]
  },
  {
   "cell_type": "code",
   "execution_count": 2,
   "id": "48e15e91",
   "metadata": {},
   "outputs": [
    {
     "data": {
      "text/plain": [
       "[\"hello\",\"hello\"]"
      ]
     },
     "metadata": {},
     "output_type": "display_data"
    },
    {
     "data": {
      "text/plain": [
       "[1,2]"
      ]
     },
     "metadata": {},
     "output_type": "display_data"
    },
    {
     "data": {
      "text/plain": [
       "[1,3,2]"
      ]
     },
     "metadata": {},
     "output_type": "display_data"
    },
    {
     "data": {
      "text/plain": [
       "[1,6,2,3,4]"
      ]
     },
     "metadata": {},
     "output_type": "display_data"
    }
   ],
   "source": [
    "-- Test\n",
    "[] +- \"hello\"\n",
    "[1] +- 2\n",
    "[1, 2] +- 3\n",
    "[1, 2, 3, 4] +- 6"
   ]
  },
  {
   "cell_type": "markdown",
   "id": "bb443f5d",
   "metadata": {},
   "source": [
    "**Exercise 7.** Define the `addEven xs` function that returns the addition of the elements in even positions in a list of integer numbers."
   ]
  },
  {
   "cell_type": "code",
   "execution_count": 2,
   "id": "8ce3f2e8",
   "metadata": {},
   "outputs": [],
   "source": [
    "addEven::[Int] -> Int \n",
    "addEven [] = 0\n",
    "addEven [x] = x\n",
    "addEven (x:y:xs) = x + addEven xs"
   ]
  },
  {
   "cell_type": "code",
   "execution_count": 6,
   "id": "41c9efe9",
   "metadata": {},
   "outputs": [
    {
     "data": {
      "text/plain": [
       "0"
      ]
     },
     "metadata": {},
     "output_type": "display_data"
    },
    {
     "data": {
      "text/plain": [
       "1"
      ]
     },
     "metadata": {},
     "output_type": "display_data"
    },
    {
     "data": {
      "text/plain": [
       "4"
      ]
     },
     "metadata": {},
     "output_type": "display_data"
    },
    {
     "data": {
      "text/plain": [
       "9"
      ]
     },
     "metadata": {},
     "output_type": "display_data"
    }
   ],
   "source": [
    "-- Test\n",
    "addEven []\n",
    "addEven [1]\n",
    "addEven [1, 2, 3, 4]\n",
    "addEven [1, 2, 3, 4, 5, 6]"
   ]
  }
 ],
 "metadata": {
  "kernelspec": {
   "display_name": "Haskell",
   "language": "haskell",
   "name": "haskell"
  },
  "language_info": {
   "codemirror_mode": "ihaskell",
   "file_extension": ".hs",
   "mimetype": "text/x-haskell",
   "name": "haskell",
   "pygments_lexer": "Haskell",
   "version": "8.10.7"
  }
 },
 "nbformat": 4,
 "nbformat_minor": 5
}
