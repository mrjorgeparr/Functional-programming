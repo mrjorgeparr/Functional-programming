{
 "cells": [
  {
   "cell_type": "markdown",
   "id": "23b2aa7f",
   "metadata": {},
   "source": [
    "# Exercises week 8\n",
    "\n",
    "Exercises about lists and higher order functions.\n",
    "\n",
    "**Note:** You must specify the type for all the created functions."
   ]
  },
  {
   "cell_type": "markdown",
   "id": "810a48fc",
   "metadata": {},
   "source": [
    "**Exercise 1.** Create a count function using a fold"
   ]
  },
  {
   "cell_type": "code",
   "execution_count": 1,
   "id": "cd0c9e3d",
   "metadata": {},
   "outputs": [],
   "source": [
    "-- With a foldr\n",
    "count::Eq a => a -> [a] -> Int\n",
    "count x = foldr (\\a v -> if a == x then v + 1 else v) 0\n",
    "-- With a foldl\n",
    "count'::Eq a => a -> [a] -> Int\n",
    "count' x = foldl (\\v a -> if a == x then v + 1 else v) 0"
   ]
  },
  {
   "cell_type": "code",
   "execution_count": 2,
   "id": "ca0505b0",
   "metadata": {},
   "outputs": [
    {
     "data": {
      "text/plain": [
       "3"
      ]
     },
     "metadata": {},
     "output_type": "display_data"
    },
    {
     "data": {
      "text/plain": [
       "0"
      ]
     },
     "metadata": {},
     "output_type": "display_data"
    },
    {
     "data": {
      "text/plain": [
       "0"
      ]
     },
     "metadata": {},
     "output_type": "display_data"
    },
    {
     "data": {
      "text/plain": [
       "3"
      ]
     },
     "metadata": {},
     "output_type": "display_data"
    },
    {
     "data": {
      "text/plain": [
       "0"
      ]
     },
     "metadata": {},
     "output_type": "display_data"
    },
    {
     "data": {
      "text/plain": [
       "0"
      ]
     },
     "metadata": {},
     "output_type": "display_data"
    }
   ],
   "source": [
    "count 1 [1, 2, 1, 1]\n",
    "count 1 []\n",
    "count 1 [2, 3, 4, 5]\n",
    "count' 1 [1, 2, 1, 1]\n",
    "count' 1 []\n",
    "count' 1 [2, 3, 4, 5]"
   ]
  },
  {
   "cell_type": "markdown",
   "id": "a75796a2",
   "metadata": {},
   "source": [
    "**Exercise 2.** Use a fold to create a function that returns a list with all the intermediate maximums of a list of integer numbers from left to right "
   ]
  },
  {
   "cell_type": "code",
   "execution_count": 20,
   "id": "d85a6328",
   "metadata": {},
   "outputs": [],
   "source": [
    "allMax:: Ord a => [a] -> [a]\n",
    "allMax [] = []\n",
    "allMax (x:xs) = reverse (foldl (\\v a -> if a > head v then a:v else v) [x] xs)"
   ]
  },
  {
   "cell_type": "code",
   "execution_count": 21,
   "id": "a792f6d5",
   "metadata": {},
   "outputs": [
    {
     "data": {
      "text/plain": [
       "[1,2,3,4]"
      ]
     },
     "metadata": {},
     "output_type": "display_data"
    },
    {
     "data": {
      "text/plain": [
       "[4]"
      ]
     },
     "metadata": {},
     "output_type": "display_data"
    },
    {
     "data": {
      "text/plain": [
       "[]"
      ]
     },
     "metadata": {},
     "output_type": "display_data"
    },
    {
     "data": {
      "text/plain": [
       "[1,2,3,5]"
      ]
     },
     "metadata": {},
     "output_type": "display_data"
    }
   ],
   "source": [
    "allMax [1, 2, 3, 4]\n",
    "allMax [4, 3, 2, 1]\n",
    "allMax []\n",
    "allMax [1, 2, 1, 3, 5, 4]"
   ]
  },
  {
   "cell_type": "markdown",
   "id": "666c5166",
   "metadata": {},
   "source": [
    "**Exercise 3.** Create a function that given a list of integer numbers returns the size of the biggest sequence of even numbers on it."
   ]
  },
  {
   "cell_type": "code",
   "execution_count": 16,
   "id": "2a8be97d",
   "metadata": {},
   "outputs": [],
   "source": [
    "countEven :: [Int] -> [Int]\n",
    "countEven [] = []\n",
    "countEven (x:xs) = if even x \n",
    "                        then length (takeWhile even (x:xs)):countEven (dropWhile even (x:xs)) \n",
    "                        else countEven xs\n",
    "\n",
    "biggestEvenSeq :: [Int] -> Int\n",
    "biggestEvenSeq [] = 0\n",
    "biggestEvenSeq x = maximum $ countEven x"
   ]
  },
  {
   "cell_type": "code",
   "execution_count": 17,
   "id": "9996dc89",
   "metadata": {},
   "outputs": [
    {
     "data": {
      "text/plain": [
       "[2,1,3]"
      ]
     },
     "metadata": {},
     "output_type": "display_data"
    },
    {
     "data": {
      "text/plain": [
       "3"
      ]
     },
     "metadata": {},
     "output_type": "display_data"
    }
   ],
   "source": [
    "a = [1, 3, 2, 4, 5, 6, 7, 7, 8, 10, 12]\n",
    "countEven a\n",
    "biggestEvenSeq a"
   ]
  },
  {
   "cell_type": "markdown",
   "id": "befa6fc5",
   "metadata": {},
   "source": [
    "**Exercise 4.** Create your own versions of the `all` and `any` higher order functions"
   ]
  },
  {
   "cell_type": "code",
   "execution_count": 3,
   "id": "debc3802",
   "metadata": {},
   "outputs": [],
   "source": [
    "myAll::Foldable t1 => (t2 -> Bool) -> t1 t2 -> Bool\n",
    "myAll p = foldr (\\x v -> p x && v) True\n",
    "\n",
    "myAny::Foldable t1 => (t2 -> Bool) -> t1 t2 -> Bool\n",
    "myAny p = foldr (\\x v -> p x || v) False"
   ]
  },
  {
   "cell_type": "code",
   "execution_count": 4,
   "id": "38e51974",
   "metadata": {},
   "outputs": [
    {
     "data": {
      "text/plain": [
       "False"
      ]
     },
     "metadata": {},
     "output_type": "display_data"
    },
    {
     "data": {
      "text/plain": [
       "True"
      ]
     },
     "metadata": {},
     "output_type": "display_data"
    },
    {
     "data": {
      "text/plain": [
       "True"
      ]
     },
     "metadata": {},
     "output_type": "display_data"
    },
    {
     "data": {
      "text/plain": [
       "False"
      ]
     },
     "metadata": {},
     "output_type": "display_data"
    }
   ],
   "source": [
    "myAll even [1, 2, 3, 4]\n",
    "myAny even [1, 2, 3, 4]\n",
    "myAll (>3) [4, 5, 6, 7]\n",
    "myAny (<3) [4, 5, 6, 7]"
   ]
  },
  {
   "cell_type": "markdown",
   "id": "15659b66",
   "metadata": {},
   "source": [
    "**Exercise 5.** Create a new Set type composed by a list of non-repeated elements. Create the functions:\n",
    "* `createSet xs` that given a list creates a Set where the duplicated elments are removed\n",
    "* `subset (Set xs) (Set ys)` that returns True if xs is a subset of ys\n",
    "* `(Set xs) == (Set ys)`  that returns True if xs and ys are equal (same elements despite of their order)\n",
    "* `subsets (Set xs)` that returns all the subsets of the set xs"
   ]
  },
  {
   "cell_type": "code",
   "execution_count": 7,
   "id": "a3d8684d",
   "metadata": {},
   "outputs": [],
   "source": [
    "-- 1\n",
    "newtype Set a = Set [a] deriving (Show)\n",
    "\n",
    "-- 2\n",
    "removeDuplicates :: Eq a => [a] -> [a]\n",
    "removeDuplicates [] = []\n",
    "removeDuplicates (x:xs) =  x : filter (/= x) (removeDuplicates xs)\n",
    "\n",
    "-- 3\n",
    "createSet :: Eq a => [a] -> Set a \n",
    "createSet x = Set $ removeDuplicates x\n",
    "\n",
    "subset :: Eq a => Set a -> Set a -> Bool\n",
    "subset (Set xs) (Set ys) =  all (`elem` ys) xs\n",
    "\n",
    "-- 4\n",
    "instance Eq xs => Eq (Set xs) where\n",
    "    (Set xs) == (Set ys) = subset (Set xs) (Set ys) && subset (Set ys) (Set xs)\n",
    "\n",
    "-- 5\n",
    "sublists :: [a] -> [[a]]\n",
    "sublists [] = [[]]\n",
    "sublists (x:xs) = sublists xs ++ map (x:) (sublists xs)\n",
    "\n",
    "subsets :: Eq a => Set a -> [Set a]\n",
    "subsets (Set xs) = map Set (sublists xs)"
   ]
  },
  {
   "cell_type": "code",
   "execution_count": 8,
   "id": "9c9e0813",
   "metadata": {},
   "outputs": [
    {
     "data": {
      "text/plain": [
       "Set [1,2,3,4,5]"
      ]
     },
     "metadata": {},
     "output_type": "display_data"
    },
    {
     "data": {
      "text/plain": [
       "True"
      ]
     },
     "metadata": {},
     "output_type": "display_data"
    },
    {
     "data": {
      "text/plain": [
       "True"
      ]
     },
     "metadata": {},
     "output_type": "display_data"
    },
    {
     "data": {
      "text/plain": [
       "False"
      ]
     },
     "metadata": {},
     "output_type": "display_data"
    },
    {
     "data": {
      "text/plain": [
       "False"
      ]
     },
     "metadata": {},
     "output_type": "display_data"
    },
    {
     "data": {
      "text/plain": [
       "True"
      ]
     },
     "metadata": {},
     "output_type": "display_data"
    },
    {
     "data": {
      "text/plain": [
       "[Set [],Set [4],Set [3],Set [3,4],Set [2],Set [2,4],Set [2,3],Set [2,3,4],Set [1],Set [1,4],Set [1,3],Set [1,3,4],Set [1,2],Set [1,2,4],Set [1,2,3],Set [1,2,3,4]]"
      ]
     },
     "metadata": {},
     "output_type": "display_data"
    }
   ],
   "source": [
    "createSet [1, 2, 3, 1, 2, 3, 4, 5, 1, 2]\n",
    "\n",
    "subset (Set [1,3,4]) (Set [1,4,3,5])\n",
    "subset (Set []) (Set [1,2])\n",
    "subset (Set [1, 2]) (Set [])\n",
    "subset (Set [1, 2]) (Set [4, 5, 6 , 1])\n",
    "\n",
    "Set [1, 2] == Set [2, 1]\n",
    "\n",
    "subsets (Set [1, 2, 3, 4])"
   ]
  },
  {
   "cell_type": "markdown",
   "id": "0d85b901",
   "metadata": {},
   "source": [
    "**Exercise 6.** Use a fold to create the predicate `anyPositiveSum [xs]` that given a list of lists of positive and negative integer numbers `[xs]` returns if the addition of any of those lists is positive."
   ]
  },
  {
   "cell_type": "code",
   "execution_count": 12,
   "id": "5e46bd9f",
   "metadata": {},
   "outputs": [],
   "source": [
    "positive :: [Int] -> Bool\n",
    "positive xs = sum xs > 0\n",
    "\n",
    "anyPositiveSum :: [[Int]] -> Bool\n",
    "anyPositiveSum = foldr ((||) . positive) False"
   ]
  },
  {
   "cell_type": "code",
   "execution_count": 11,
   "id": "3c8f8f2e",
   "metadata": {},
   "outputs": [
    {
     "data": {
      "text/plain": [
       "False"
      ]
     },
     "metadata": {},
     "output_type": "display_data"
    },
    {
     "data": {
      "text/plain": [
       "False"
      ]
     },
     "metadata": {},
     "output_type": "display_data"
    },
    {
     "data": {
      "text/plain": [
       "True"
      ]
     },
     "metadata": {},
     "output_type": "display_data"
    },
    {
     "data": {
      "text/plain": [
       "True"
      ]
     },
     "metadata": {},
     "output_type": "display_data"
    }
   ],
   "source": [
    "anyPositiveSum [[0,0], [0, 0]]\n",
    "anyPositiveSum [[0,-1], [-1, -2], [0, 1, -2]]\n",
    "anyPositiveSum [[0,-1], [-1, -2], [0, 1, -2, 2]]\n",
    "anyPositiveSum [[0,-1, 3], [-1, -2], [0, 1, -2]]"
   ]
  }
 ],
 "metadata": {
  "kernelspec": {
   "display_name": "Haskell",
   "language": "haskell",
   "name": "haskell"
  },
  "language_info": {
   "codemirror_mode": "ihaskell",
   "file_extension": ".hs",
   "mimetype": "text/x-haskell",
   "name": "haskell",
   "pygments_lexer": "Haskell",
   "version": "8.10.7"
  }
 },
 "nbformat": 4,
 "nbformat_minor": 5
}
