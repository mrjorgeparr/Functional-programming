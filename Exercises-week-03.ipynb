{
 "cells": [
  {
   "cell_type": "markdown",
   "id": "835e1f8a",
   "metadata": {},
   "source": [
    "# Exercises week 3\n",
    "\n",
    "Exercises about sections, guards and patterns. \n",
    "\n",
    "**Note**: Except for the exercise 1, you must specify the type for all the created functions. "
   ]
  },
  {
   "cell_type": "markdown",
   "id": "0f4d0f2e",
   "metadata": {},
   "source": [
    "**Exercise 1.** Define a `square` function using sections"
   ]
  },
  {
   "cell_type": "code",
   "execution_count": 27,
   "id": "cf7e921b",
   "metadata": {},
   "outputs": [
    {
     "data": {
      "text/plain": [
       "16"
      ]
     },
     "metadata": {},
     "output_type": "display_data"
    }
   ],
   "source": [
    "square = (^ 2)\n",
    "square 4"
   ]
  },
  {
   "cell_type": "markdown",
   "id": "38f9621f",
   "metadata": {},
   "source": [
    "**Exercise 2.** Write a function `older name1 age1 name2 age2` that receives two names and two ages and prints who is older. Example: if we introduce `older \"Pepe\" 23  Luisa\" 18`, it must print `Pepe is older than Luisa`. If they are the same age it must print `Pepe and Luisa are the same age`."
   ]
  },
  {
   "cell_type": "code",
   "execution_count": 25,
   "id": "f392a5af",
   "metadata": {},
   "outputs": [
    {
     "data": {
      "text/plain": [
       "\"Pepe is older than Luisa\""
      ]
     },
     "metadata": {},
     "output_type": "display_data"
    },
    {
     "data": {
      "text/plain": [
       "\"Luisa is older than Pepe\""
      ]
     },
     "metadata": {},
     "output_type": "display_data"
    },
    {
     "data": {
      "text/plain": [
       "\"Pepe and Luisa are the same age\""
      ]
     },
     "metadata": {},
     "output_type": "display_data"
    }
   ],
   "source": [
    "older:: [Char] -> Int -> [Char] -> Int -> [Char]\n",
    "older name1 age1 name2 age2 \n",
    "    | age1 == age2 = name1 ++ \" and \" ++ name2 ++\" are the same age\"\n",
    "    | otherwise = older ++ \" is older than \" ++ younger\n",
    "        where older = if age1 > age2 then name1 else name2\n",
    "              younger = if age1 > age2 then name2 else name1\n",
    "\n",
    "older \"Pepe\" 22 \"Luisa\" 18\n",
    "older \"Pepe\" 12 \"Luisa\" 18\n",
    "older \"Pepe\" 18 \"Luisa\" 18"
   ]
  },
  {
   "cell_type": "markdown",
   "id": "3cd0c5a6",
   "metadata": {},
   "source": [
    "**Exercise 3.**\tWrite a `ticketPrice age` function that prints on the screen the price of a cinema ticket according to the age of the customer. (a) Normal ticket: 9 Euros; (b) Children under 5: 60% discount; (c) People over 60: 55% discount; (d) Young people under 26: 20% discount. Create a version with guards and another with patterns."
   ]
  },
  {
   "cell_type": "code",
   "execution_count": 54,
   "id": "3f3024ef",
   "metadata": {},
   "outputs": [
    {
     "data": {
      "text/plain": [
       "3.6"
      ]
     },
     "metadata": {},
     "output_type": "display_data"
    },
    {
     "data": {
      "text/plain": [
       "7.2"
      ]
     },
     "metadata": {},
     "output_type": "display_data"
    },
    {
     "data": {
      "text/plain": [
       "4.05"
      ]
     },
     "metadata": {},
     "output_type": "display_data"
    },
    {
     "data": {
      "text/plain": [
       "9.0"
      ]
     },
     "metadata": {},
     "output_type": "display_data"
    },
    {
     "data": {
      "text/plain": [
       "3.6"
      ]
     },
     "metadata": {},
     "output_type": "display_data"
    },
    {
     "data": {
      "text/plain": [
       "7.2"
      ]
     },
     "metadata": {},
     "output_type": "display_data"
    },
    {
     "data": {
      "text/plain": [
       "4.05"
      ]
     },
     "metadata": {},
     "output_type": "display_data"
    },
    {
     "data": {
      "text/plain": [
       "9.0"
      ]
     },
     "metadata": {},
     "output_type": "display_data"
    }
   ],
   "source": [
    "-- With guards\n",
    "ticketPrice :: Int -> Double\n",
    "ticketPrice age\n",
    "    | age <= 5 = 9 * 0.4\n",
    "    | age > 60 = 9 * 0.45\n",
    "    | age < 26 = 9 * 0.8\n",
    "    | otherwise = 9\n",
    "    \n",
    "ticketPrice 3\n",
    "ticketPrice 22\n",
    "ticketPrice 61\n",
    "ticketPrice 29\n",
    "\n",
    "-- With patterns\n",
    "ticketPrice' :: Int -> Double\n",
    "ticketPrice' age | age <= 5 = 9 * 0.4\n",
    "ticketPrice' age | age > 60 = 9 * 0.45\n",
    "ticketPrice' age | age < 26 = 9 * 0.8\n",
    "ticketPrice' _ = 9\n",
    "\n",
    "ticketPrice' 3\n",
    "ticketPrice' 22\n",
    "ticketPrice' 61\n",
    "ticketPrice' 29"
   ]
  },
  {
   "cell_type": "markdown",
   "id": "890094c8",
   "metadata": {},
   "source": [
    "**Exercise 4.**\tCreate a function `secondsToHours seconds` receiving a number of seconds and converting it to its hours equivalent (for example 3680 seconds are 1 hour, 1 minute and 20 seconds and will be printed like 01:01:20). Notice the leading zeros. You can use auxiliary functions if needed."
   ]
  },
  {
   "cell_type": "code",
   "execution_count": 8,
   "id": "6378b1bb",
   "metadata": {},
   "outputs": [
    {
     "data": {
      "text/plain": [
       "\"01:01:20\""
      ]
     },
     "metadata": {},
     "output_type": "display_data"
    },
    {
     "data": {
      "text/plain": [
       "\"00:04:25\""
      ]
     },
     "metadata": {},
     "output_type": "display_data"
    }
   ],
   "source": [
    "secondsToHours :: Int -> String\n",
    "secondsToHours seconds = prettyPrint (hours seconds) ++ \":\"\n",
    "                         -- Converting to minutes the seconds not in hours\n",
    "                         ++ prettyPrint (minutes (seconds - hours seconds * 3600)) ++ \":\"\n",
    "                         -- Calculating the 'free' seconds\n",
    "                         ++ prettyPrint (seconds - minutes seconds * 60)\n",
    "\n",
    "hours :: Int -> Int\n",
    "hours seconds = div seconds 3600\n",
    "\n",
    "minutes :: Int -> Int\n",
    "minutes seconds = div seconds 60\n",
    "\n",
    "prettyPrint:: Int -> String\n",
    "prettyPrint h = if h < 10 \n",
    "                then \"0\" ++ show h \n",
    "                else show h\n",
    "\n",
    "\n",
    "secondsToHours 3680\n",
    "secondsToHours 265"
   ]
  },
  {
   "cell_type": "markdown",
   "id": "7f9e9f1e",
   "metadata": {},
   "source": [
    "**Exercise 5.**\tCreate a function `quadrant x y` that receives the coordinates of a point in a plane, i.e. two integer values, x and y, not equal to zero. The function must return the quadrant where this point lies (1st quadrant if x>0 and y>0, 2nd if x<0 and y>0, etc.) For example for (1,1) it must return: \"1st\". If x or y are zero it must print \"The values are not valid\"."
   ]
  },
  {
   "cell_type": "code",
   "execution_count": 12,
   "id": "33cb91d9",
   "metadata": {},
   "outputs": [
    {
     "data": {
      "text/plain": [
       "\"The values are not valid\""
      ]
     },
     "metadata": {},
     "output_type": "display_data"
    },
    {
     "data": {
      "text/plain": [
       "\"The values are not valid\""
      ]
     },
     "metadata": {},
     "output_type": "display_data"
    },
    {
     "data": {
      "text/plain": [
       "\"1st\""
      ]
     },
     "metadata": {},
     "output_type": "display_data"
    },
    {
     "data": {
      "text/plain": [
       "\"2nd\""
      ]
     },
     "metadata": {},
     "output_type": "display_data"
    },
    {
     "data": {
      "text/plain": [
       "\"3rd\""
      ]
     },
     "metadata": {},
     "output_type": "display_data"
    },
    {
     "data": {
      "text/plain": [
       "\"4th\""
      ]
     },
     "metadata": {},
     "output_type": "display_data"
    }
   ],
   "source": [
    "quadrant :: Int -> Int -> String\n",
    "quadrant x y \n",
    "            | x == 0 || y == 0 = \"The values are not valid\"\n",
    "            | x > 0 && y > 0 = \"1st\"\n",
    "            | x < 0 && y > 0 = \"2nd\"\n",
    "            | x < 0 && y < 0 = \"3rd\"\n",
    "            | otherwise = \"4th\"\n",
    "            \n",
    "quadrant 0 1\n",
    "quadrant 1 0\n",
    "quadrant 1 1\n",
    "quadrant (-1) 1\n",
    "quadrant (-1) (-1)\n",
    "quadrant 1 (-1)"
   ]
  },
  {
   "cell_type": "markdown",
   "id": "f956c9bf",
   "metadata": {},
   "source": [
    "**Exercise 6.**\tA year is leap-year if it is a multiple of 4, except if it is a multiple of 100. In this last case it will be leap-year only if it is also a multiple of 400. For example the year 1900 was not a leap-year, but the year 2000 was. Create a function `leapYear year ` that calculates leap years. You can use auxiliary functions if needed. Example of outputs (notice the use of past or future tense): \n",
    "\n",
    "```\n",
    "1901 was not a leap year\n",
    "2016 was a leap year\n",
    "2400 will be a leap year\n",
    "2401 will be not a leap year\n",
    "2022 is not a leap year\n",
    "```"
   ]
  },
  {
   "cell_type": "code",
   "execution_count": 1,
   "id": "57299c5d",
   "metadata": {},
   "outputs": [
    {
     "data": {
      "text/plain": [
       "\"1900 was not a leap year\""
      ]
     },
     "metadata": {},
     "output_type": "display_data"
    },
    {
     "data": {
      "text/plain": [
       "\"2016 was a leap year\""
      ]
     },
     "metadata": {},
     "output_type": "display_data"
    },
    {
     "data": {
      "text/plain": [
       "\"2400 will be a leap year\""
      ]
     },
     "metadata": {},
     "output_type": "display_data"
    },
    {
     "data": {
      "text/plain": [
       "\"2401 will be not a leap year\""
      ]
     },
     "metadata": {},
     "output_type": "display_data"
    },
    {
     "data": {
      "text/plain": [
       "\"2022 is not a leap year\""
      ]
     },
     "metadata": {},
     "output_type": "display_data"
    }
   ],
   "source": [
    "leapYear :: Int -> String\n",
    "leapYear year = show year ++ tense year ++ out ++ \"a leap year\"\n",
    "                where out = if leap year \n",
    "                            then  \" \"\n",
    "                            else \" not \"\n",
    "                \n",
    "leap :: Int -> Bool\n",
    "leap year = rem year  4 == 0 && (rem year 100 /= 0 || rem year 400 == 0)\n",
    "\n",
    "\n",
    "tense :: Int -> String\n",
    "tense year \n",
    "        | year < 2022 = \" was\"\n",
    "        | year == 2022 = \" is\"\n",
    "        | otherwise = \" will be\"\n",
    "\n",
    "leapYear 1900\n",
    "leapYear 2016\n",
    "leapYear 2400\n",
    "leapYear 2401\n",
    "leapYear 2022"
   ]
  },
  {
   "cell_type": "markdown",
   "id": "1bcac470",
   "metadata": {},
   "source": [
    "**Exercise 7.**\tCreate a `money amount` function that receives as input a positive real number, which will correspond to a quantity of money, and calculates and prints the minimum number of coins for it. If the quantity of any coin is zero it must not be printed. The availabel coins are: 2€, 1€, 0.5€, 0.20€, 0.10€, 0.05€, 0.02€ and 0.01€\n",
    "\n",
    "Note: you can use the `putStr` and `putStrLn` functions along with escape sequences like `\"\\n\"` to return a string with several lines.\n",
    "\n",
    "Example, if 47.07 is introduced it should print:\n",
    "\n",
    "```\n",
    "2€: 23\n",
    "1€: 1\n",
    "0.05€: 1\n",
    "0.02€: 1\n",
    "```"
   ]
  },
  {
   "cell_type": "code",
   "execution_count": 37,
   "id": "1a34bdab",
   "metadata": {},
   "outputs": [
    {
     "data": {
      "text/plain": [
       "47.07€ is:\n",
       "\t2 Euro: 23\n",
       "\t1 Euro: 1\n",
       "\t0.05 Euro: 1\n",
       "\t0.02 Euro: 1"
      ]
     },
     "metadata": {},
     "output_type": "display_data"
    },
    {
     "data": {
      "text/plain": [
       "21.09€ is:\n",
       "\t2 Euro: 10\n",
       "\t1 Euro: 1\n",
       "\t0.05 Euro: 1\n",
       "\t0.02 Euro: 2"
      ]
     },
     "metadata": {},
     "output_type": "display_data"
    },
    {
     "data": {
      "text/plain": [
       "1.78€ is:\n",
       "\t1 Euro: 1\n",
       "\t0.50 Euro: 1\n",
       "\t0.20 Euro: 1\n",
       "\t0.05 Euro: 1\n",
       "\t0.02 Euro: 1\n",
       "\t0.01 Euro: 1"
      ]
     },
     "metadata": {},
     "output_type": "display_data"
    }
   ],
   "source": [
    "-- The output type of putStr is IO ()\n",
    "money :: Float -> IO ()\n",
    "-- Working with cents to avoid precission issues\n",
    "money amount = putStr (show amount ++\"€ is:\" ++ money' (round (amount * 100)))\n",
    "\n",
    "money' :: Int -> String\n",
    "money' amount\n",
    "  | amount>=200 = \"\\n\\t2 Euro: \" ++ show(div amount 200) ++ money' (amount - div amount 200 * 200)\n",
    "  | amount>=100 = \"\\n\\t1 Euro: \" ++ show(div amount 100) ++ money' (amount - div amount 100 * 100)\n",
    "  | amount>=50 = \"\\n\\t0.50 Euro: \" ++ show(div amount 50) ++ money' (amount - div amount 50 * 50)\n",
    "  | amount>=20 = \"\\n\\t0.20 Euro: \" ++ show(div amount 20) ++ money' (amount - div amount 20 * 20)\n",
    "  | amount>=10 = \"\\n\\t0.10 Euro: \" ++ show(div amount 10) ++ money' (amount - div amount 10 * 10)\n",
    "  | amount>=5 = \"\\n\\t0.05 Euro: \" ++ show(div amount 5) ++ money' (amount - div amount 5 * 5)\n",
    "  | amount>=2 = \"\\n\\t0.02 Euro: \" ++ show(div amount 2) ++ money' (amount - div amount 2 * 2)\n",
    "  | amount>=1 = \"\\n\\t0.01 Euro: \" ++ show(div amount 1) ++ money' (amount - div amount 1)\n",
    "  | amount==0 = \"\"\n",
    "\n",
    "-- Test code\n",
    "money 47.07\n",
    "money 21.09\n",
    "money 1.78\n"
   ]
  },
  {
   "cell_type": "markdown",
   "id": "9e0e33c1",
   "metadata": {},
   "source": [
    "**Exercise 8.**\tCreate a function `calculator num1 num2 operator` to simulate a calculator. It must receive two integer numbers and the operator (`+ - / * div`) and show the result. If the operator is not valid it must print `wrong operator` and finish."
   ]
  },
  {
   "cell_type": "code",
   "execution_count": 29,
   "id": "f7ff1739",
   "metadata": {},
   "outputs": [],
   "source": [
    "calculator::Int->Int->String->Float\n",
    "calculator num1 num2 operator \n",
    "    -- As the / generates a Float we need to work with floats, using fromIntegral to convert Int to Float\n",
    "    | operator == \"+\" = num11 + num21\n",
    "    | operator == \"-\" = num11 - num21\n",
    "    | operator == \"*\" = num11 * num21\n",
    "    | operator == \"/\" = if num21 /= 0 then num11 / num21 else error \"Division by 0\"\n",
    "    | operator == \"div\" = if num21 /= 0 then fromIntegral (div num11 num21) else error \"Division by 0\"\n",
    "    | otherwise = error \"wrong operator\"\n",
    "    where num11 = fromIntegral num1\n",
    "          num21 = fromIntegral num2"
   ]
  },
  {
   "cell_type": "code",
   "execution_count": 25,
   "id": "c1c1914c",
   "metadata": {},
   "outputs": [
    {
     "data": {
      "text/plain": [
       "0.0"
      ]
     },
     "metadata": {},
     "output_type": "display_data"
    },
    {
     "data": {
      "text/plain": [
       "8.0"
      ]
     },
     "metadata": {},
     "output_type": "display_data"
    },
    {
     "ename": "",
     "evalue": "",
     "output_type": "error",
     "traceback": [
      "Division by 0\nCallStack (from HasCallStack):\n  error, called at <interactive>:6:63 in interactive:Ghci326"
     ]
    }
   ],
   "source": [
    "calculator 3 5 \"div\"\n",
    "calculator 3 5 \"+\"\n",
    "calculator 3 0 \"/\""
   ]
  },
  {
   "cell_type": "code",
   "execution_count": 26,
   "id": "b1729261",
   "metadata": {},
   "outputs": [
    {
     "ename": "",
     "evalue": "",
     "output_type": "error",
     "traceback": [
      "wrong operator\nCallStack (from HasCallStack):\n  error, called at <interactive>:8:19 in interactive:Ghci326"
     ]
    }
   ],
   "source": [
    "calculator 3 0 \"d\""
   ]
  },
  {
   "cell_type": "markdown",
   "id": "95118453",
   "metadata": {},
   "source": [
    "# Delivery rules\n",
    "\n",
    "Save this notebook with `your initials-week-03.ipynb` and upload it to Aula Global before the deadline. For example, Lucía Perez Gómez will upload a file `lpg-week-03.ipynb`\n"
   ]
  }
 ],
 "metadata": {
  "kernelspec": {
   "display_name": "Haskell",
   "language": "haskell",
   "name": "haskell"
  },
  "language_info": {
   "codemirror_mode": "ihaskell",
   "file_extension": ".hs",
   "mimetype": "text/x-haskell",
   "name": "haskell",
   "pygments_lexer": "Haskell",
   "version": "8.10.7"
  }
 },
 "nbformat": 4,
 "nbformat_minor": 5
}
